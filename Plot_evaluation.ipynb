{
 "cells": [
  {
   "cell_type": "code",
   "execution_count": null,
   "metadata": {},
   "outputs": [],
   "source": []
  },
  {
   "cell_type": "code",
   "execution_count": null,
   "metadata": {},
   "outputs": [],
   "source": []
  },
  {
   "cell_type": "code",
   "execution_count": 31,
   "metadata": {
    "ExecuteTime": {
     "end_time": "2018-10-15T02:45:31.277204Z",
     "start_time": "2018-10-15T02:45:30.931905Z"
    },
    "scrolled": true
   },
   "outputs": [
    {
     "name": "stdout",
     "output_type": "stream",
     "text": [
      "The autoreload extension is already loaded. To reload it, use:\n",
      "  %reload_ext autoreload\n",
      "The line_profiler extension is already loaded. To reload it, use:\n",
      "  %reload_ext line_profiler\n",
      "CPU or GPU? :  cpu(0)\n"
     ]
    }
   ],
   "source": [
    "import sys, os\n",
    "sys.path.append(os.path.abspath(''))   # 把当前目录设为引用模块的地址之一\n",
    "\n",
    "from utils import *\n",
    "from data_utils import *\n",
    "from models.solver_cnn import *\n",
    "from models.ConvNet import *\n",
    "\n",
    "import numpy as np\n",
    "import pandas as pd\n",
    "from itertools import product, permutations\n",
    "from sklearn import metrics\n",
    "\n",
    "import matplotlib.pyplot as plt\n",
    "%matplotlib inline\n",
    "\n",
    "# for auto-re00loading external modules\n",
    "# see http://stackoverflow.com/questions/1907993/autoreload-of-modules-in-ipython\n",
    "%load_ext autoreload\n",
    "%autoreload 2\n",
    "\n",
    "# Easily Profile Python Code in Jupyter\n",
    "# install conda install line_profiler or pip install line-profiler\n",
    "# see http://mortada.net/easily-profile-python-code-in-jupyter.html\n",
    "%load_ext line_profiler\n",
    "\n",
    "test_ctx()"
   ]
  },
  {
   "cell_type": "code",
   "execution_count": 3,
   "metadata": {
    "ExecuteTime": {
     "end_time": "2018-10-15T02:12:27.788848Z",
     "start_time": "2018-10-15T02:12:27.341191Z"
    }
   },
   "outputs": [
    {
     "name": "stdout",
     "output_type": "stream",
     "text": [
      "(1249, 8192)\n",
      "Peak sampling point at 7371th (0.90s).\n"
     ]
    },
    {
     "data": {
      "text/html": [
       "<div>\n",
       "<style>\n",
       "    .dataframe thead tr:only-child th {\n",
       "        text-align: right;\n",
       "    }\n",
       "\n",
       "    .dataframe thead th {\n",
       "        text-align: left;\n",
       "    }\n",
       "\n",
       "    .dataframe tbody tr th {\n",
       "        vertical-align: top;\n",
       "    }\n",
       "</style>\n",
       "<table border=\"1\" class=\"dataframe\">\n",
       "  <thead>\n",
       "    <tr style=\"text-align: right;\">\n",
       "      <th></th>\n",
       "      <th>0</th>\n",
       "      <th>1</th>\n",
       "      <th>2</th>\n",
       "      <th>3</th>\n",
       "      <th>4</th>\n",
       "      <th>5</th>\n",
       "      <th>6</th>\n",
       "      <th>7</th>\n",
       "      <th>8</th>\n",
       "      <th>9</th>\n",
       "      <th>...</th>\n",
       "      <th>8182</th>\n",
       "      <th>8183</th>\n",
       "      <th>8184</th>\n",
       "      <th>8185</th>\n",
       "      <th>8186</th>\n",
       "      <th>8187</th>\n",
       "      <th>8188</th>\n",
       "      <th>8189</th>\n",
       "      <th>8190</th>\n",
       "      <th>8191</th>\n",
       "    </tr>\n",
       "  </thead>\n",
       "  <tbody>\n",
       "    <tr>\n",
       "      <th>4.00|4.00</th>\n",
       "      <td>-9.812433e-23</td>\n",
       "      <td>-1.016813e-22</td>\n",
       "      <td>-1.049325e-22</td>\n",
       "      <td>-1.078680e-22</td>\n",
       "      <td>-1.104788e-22</td>\n",
       "      <td>-1.127572e-22</td>\n",
       "      <td>-1.146961e-22</td>\n",
       "      <td>-1.162896e-22</td>\n",
       "      <td>-1.175328e-22</td>\n",
       "      <td>-1.184220e-22</td>\n",
       "      <td>...</td>\n",
       "      <td>-0.0</td>\n",
       "      <td>-0.0</td>\n",
       "      <td>-0.0</td>\n",
       "      <td>-0.0</td>\n",
       "      <td>-0.0</td>\n",
       "      <td>-0.0</td>\n",
       "      <td>-0.0</td>\n",
       "      <td>-0.0</td>\n",
       "      <td>-0.0</td>\n",
       "      <td>-0.0</td>\n",
       "    </tr>\n",
       "    <tr>\n",
       "      <th>4.00|4.40</th>\n",
       "      <td>-1.152648e-22</td>\n",
       "      <td>-1.178176e-22</td>\n",
       "      <td>-1.200368e-22</td>\n",
       "      <td>-1.219158e-22</td>\n",
       "      <td>-1.234493e-22</td>\n",
       "      <td>-1.246330e-22</td>\n",
       "      <td>-1.254633e-22</td>\n",
       "      <td>-1.259379e-22</td>\n",
       "      <td>-1.260552e-22</td>\n",
       "      <td>-1.258150e-22</td>\n",
       "      <td>...</td>\n",
       "      <td>-0.0</td>\n",
       "      <td>-0.0</td>\n",
       "      <td>-0.0</td>\n",
       "      <td>-0.0</td>\n",
       "      <td>-0.0</td>\n",
       "      <td>-0.0</td>\n",
       "      <td>-0.0</td>\n",
       "      <td>-0.0</td>\n",
       "      <td>-0.0</td>\n",
       "      <td>-0.0</td>\n",
       "    </tr>\n",
       "    <tr>\n",
       "      <th>4.00|4.80</th>\n",
       "      <td>9.079569e-23</td>\n",
       "      <td>8.562824e-23</td>\n",
       "      <td>8.023045e-23</td>\n",
       "      <td>7.461677e-23</td>\n",
       "      <td>6.880222e-23</td>\n",
       "      <td>6.280235e-23</td>\n",
       "      <td>5.663323e-23</td>\n",
       "      <td>5.031138e-23</td>\n",
       "      <td>4.385375e-23</td>\n",
       "      <td>3.727764e-23</td>\n",
       "      <td>...</td>\n",
       "      <td>-0.0</td>\n",
       "      <td>-0.0</td>\n",
       "      <td>-0.0</td>\n",
       "      <td>-0.0</td>\n",
       "      <td>-0.0</td>\n",
       "      <td>-0.0</td>\n",
       "      <td>-0.0</td>\n",
       "      <td>-0.0</td>\n",
       "      <td>-0.0</td>\n",
       "      <td>-0.0</td>\n",
       "    </tr>\n",
       "    <tr>\n",
       "      <th>4.00|5.20</th>\n",
       "      <td>-1.294046e-22</td>\n",
       "      <td>-1.266225e-22</td>\n",
       "      <td>-1.235170e-22</td>\n",
       "      <td>-1.200961e-22</td>\n",
       "      <td>-1.163684e-22</td>\n",
       "      <td>-1.123433e-22</td>\n",
       "      <td>-1.080311e-22</td>\n",
       "      <td>-1.034427e-22</td>\n",
       "      <td>-9.858974e-23</td>\n",
       "      <td>-9.348458e-23</td>\n",
       "      <td>...</td>\n",
       "      <td>-0.0</td>\n",
       "      <td>-0.0</td>\n",
       "      <td>-0.0</td>\n",
       "      <td>-0.0</td>\n",
       "      <td>-0.0</td>\n",
       "      <td>-0.0</td>\n",
       "      <td>-0.0</td>\n",
       "      <td>-0.0</td>\n",
       "      <td>-0.0</td>\n",
       "      <td>-0.0</td>\n",
       "    </tr>\n",
       "    <tr>\n",
       "      <th>4.00|5.60</th>\n",
       "      <td>1.393361e-23</td>\n",
       "      <td>2.107371e-23</td>\n",
       "      <td>2.816331e-23</td>\n",
       "      <td>3.518515e-23</td>\n",
       "      <td>4.212210e-23</td>\n",
       "      <td>4.895727e-23</td>\n",
       "      <td>5.567399e-23</td>\n",
       "      <td>6.225586e-23</td>\n",
       "      <td>6.868683e-23</td>\n",
       "      <td>7.495120e-23</td>\n",
       "      <td>...</td>\n",
       "      <td>-0.0</td>\n",
       "      <td>-0.0</td>\n",
       "      <td>-0.0</td>\n",
       "      <td>-0.0</td>\n",
       "      <td>-0.0</td>\n",
       "      <td>-0.0</td>\n",
       "      <td>-0.0</td>\n",
       "      <td>-0.0</td>\n",
       "      <td>-0.0</td>\n",
       "      <td>-0.0</td>\n",
       "    </tr>\n",
       "  </tbody>\n",
       "</table>\n",
       "<p>5 rows × 8192 columns</p>\n",
       "</div>"
      ],
      "text/plain": [
       "                   0             1             2             3     \\\n",
       "4.00|4.00 -9.812433e-23 -1.016813e-22 -1.049325e-22 -1.078680e-22   \n",
       "4.00|4.40 -1.152648e-22 -1.178176e-22 -1.200368e-22 -1.219158e-22   \n",
       "4.00|4.80  9.079569e-23  8.562824e-23  8.023045e-23  7.461677e-23   \n",
       "4.00|5.20 -1.294046e-22 -1.266225e-22 -1.235170e-22 -1.200961e-22   \n",
       "4.00|5.60  1.393361e-23  2.107371e-23  2.816331e-23  3.518515e-23   \n",
       "\n",
       "                   4             5             6             7     \\\n",
       "4.00|4.00 -1.104788e-22 -1.127572e-22 -1.146961e-22 -1.162896e-22   \n",
       "4.00|4.40 -1.234493e-22 -1.246330e-22 -1.254633e-22 -1.259379e-22   \n",
       "4.00|4.80  6.880222e-23  6.280235e-23  5.663323e-23  5.031138e-23   \n",
       "4.00|5.20 -1.163684e-22 -1.123433e-22 -1.080311e-22 -1.034427e-22   \n",
       "4.00|5.60  4.212210e-23  4.895727e-23  5.567399e-23  6.225586e-23   \n",
       "\n",
       "                   8             9     ...   8182  8183  8184  8185  8186  \\\n",
       "4.00|4.00 -1.175328e-22 -1.184220e-22  ...   -0.0  -0.0  -0.0  -0.0  -0.0   \n",
       "4.00|4.40 -1.260552e-22 -1.258150e-22  ...   -0.0  -0.0  -0.0  -0.0  -0.0   \n",
       "4.00|4.80  4.385375e-23  3.727764e-23  ...   -0.0  -0.0  -0.0  -0.0  -0.0   \n",
       "4.00|5.20 -9.858974e-23 -9.348458e-23  ...   -0.0  -0.0  -0.0  -0.0  -0.0   \n",
       "4.00|5.60  6.868683e-23  7.495120e-23  ...   -0.0  -0.0  -0.0  -0.0  -0.0   \n",
       "\n",
       "           8187  8188  8189  8190  8191  \n",
       "4.00|4.00  -0.0  -0.0  -0.0  -0.0  -0.0  \n",
       "4.00|4.40  -0.0  -0.0  -0.0  -0.0  -0.0  \n",
       "4.00|4.80  -0.0  -0.0  -0.0  -0.0  -0.0  \n",
       "4.00|5.20  -0.0  -0.0  -0.0  -0.0  -0.0  \n",
       "4.00|5.60  -0.0  -0.0  -0.0  -0.0  -0.0  \n",
       "\n",
       "[5 rows x 8192 columns]"
      ]
     },
     "execution_count": 3,
     "metadata": {},
     "output_type": "execute_result"
    }
   ],
   "source": [
    "GW_address = './data/'\n",
    "\n",
    "data = pd.DataFrame(np.load(GW_address+'GW_H1.npy'), index=np.load(GW_address+'GW_H1_index.npy'))\n",
    "print(data.shape)\n",
    "peak_samppoint = data.values.argmax(axis=1)\n",
    "peak_samppoint = int(peak_samppoint.sum() / peak_samppoint.shape[0])\n",
    "peak_time = peak_samppoint/data.shape[-1]\n",
    "peak_time = float('{:.2f}'.format(peak_time))\n",
    "print('Peak sampling point at %dth (%.2fs).' %(peak_samppoint, peak_time))\n",
    "data.head()\n",
    "# 波形数据"
   ]
  },
  {
   "cell_type": "code",
   "execution_count": 23,
   "metadata": {
    "ExecuteTime": {
     "end_time": "2018-10-15T02:42:34.943732Z",
     "start_time": "2018-10-15T02:42:34.023252Z"
    }
   },
   "outputs": [
    {
     "name": "stdout",
     "output_type": "stream",
     "text": [
      "总波形数目： (1249,)\n",
      "训练集波形数目： 600\n",
      "测试集波形数目： 649\n"
     ]
    },
    {
     "data": {
      "image/png": "[encoded data removed]",
      "text/plain": [
       "<matplotlib.figure.Figure at 0x12eadf240>"
      ]
     },
     "metadata": {
      "needs_background": "light"
     },
     "output_type": "display_data"
    }
   ],
   "source": [
    "print('总波形数目：', data.index.shape)\n",
    "train_masses = [(float(masses.split('|')[0]), float(masses.split('|')[1])) for masses in data.index if float(masses.split('|')[0]) % 2 != 0]\n",
    "test_masses = [(float(masses.split('|')[0]), float(masses.split('|')[1])) for masses in data.index if float(masses.split('|')[0]) % 2 == 0]\n",
    "print('训练集波形数目：', len(train_masses))\n",
    "print('测试集波形数目：', len(test_masses))\n",
    "\n",
    "train_m1, train_m2 = [ m[0] for m in train_masses],  [ m[1] for m in train_masses]\n",
    "test_m1, test_m2 = [ m[0] for m in test_masses],  [ m[1] for m in test_masses]\n",
    "plt.figure(figsize= (8,8))\n",
    "plt.scatter(train_m2, train_m1, label='train')\n",
    "plt.scatter(test_m2, test_m1, label = 'test')\n",
    "plt.grid()\n",
    "plt.legend()\n",
    "plt.xlim(0,80)\n",
    "# plt.title('训练集和测试集的波形在质量上的分布')\n",
    "plt.show()\n",
    "\n",
    "# 做好训练集和测试集的分割~\n",
    "\n",
    "test_masses = [masses for masses in data.index if float(masses.split('|')[0]) % 2 == 0]\n",
    "train_masses = [masses for masses in data.index if float(masses.split('|')[0]) % 2 != 0]\n",
    "train_data = nd.array(data.loc[train_masses])\n",
    "test_data = nd.array(data.loc[test_masses])"
   ]
  },
  {
   "cell_type": "code",
   "execution_count": 16,
   "metadata": {
    "ExecuteTime": {
     "end_time": "2018-10-15T02:37:14.662529Z",
     "start_time": "2018-10-15T02:37:14.422153Z"
    }
   },
   "outputs": [
    {
     "name": "stdout",
     "output_type": "stream",
     "text": [
      "data_evaluate/snr_10_best_params_epoch@29.pkl\r\n",
      "data_evaluate/snr_1_best_params_epoch@30.pkl\r\n",
      "data_evaluate/snr_2_best_params_epoch@20.pkl\r\n",
      "data_evaluate/snr_3_best_params_epoch@3.pkl\r\n",
      "data_evaluate/snr_4_best_params_epoch@16.pkl\r\n",
      "data_evaluate/snr_5_best_params_epoch@9.pkl\r\n",
      "data_evaluate/snr_6_best_params_epoch@25.pkl\r\n",
      "data_evaluate/snr_7_best_params_epoch@9.pkl\r\n",
      "data_evaluate/snr_8_best_params_epoch@16.pkl\r\n",
      "data_evaluate/snr_9_best_params_epoch@27.pkl\r\n"
     ]
    }
   ],
   "source": [
    "!ls data_evaluate/*best*"
   ]
  },
  {
   "cell_type": "code",
   "execution_count": 12,
   "metadata": {
    "ExecuteTime": {
     "end_time": "2018-10-15T02:14:25.642240Z",
     "start_time": "2018-10-15T02:14:25.523693Z"
    }
   },
   "outputs": [
    {
     "data": {
      "text/plain": [
       "dict_keys(['lr_decay', 'lr_rate', 'batch_size', 'train_shift_list', 'test_shift_list', 'num_epoch', 'epoch', 'loss_history', 'loss_v_history', 'moving_loss_history', 'train_acc_history', 'test_acc_history'])"
      ]
     },
     "execution_count": 12,
     "metadata": {},
     "output_type": "execute_result"
    }
   ],
   "source": [
    "Info = {}\n",
    "Info = {}\n",
    "for snr in range(1,11):\n",
    "    Info[snr] = nd.load('./data_evaluate/snr_%s_info.pkl' %snr)\n",
    "\n",
    "Info[1].keys()"
   ]
  },
  {
   "cell_type": "code",
   "execution_count": 13,
   "metadata": {
    "ExecuteTime": {
     "end_time": "2018-10-15T02:14:54.364023Z",
     "start_time": "2018-10-15T02:14:52.743595Z"
    }
   },
   "outputs": [
    {
     "data": {
      "image/png": "[encoded data removed]",
      "text/plain": [
       "<matplotlib.figure.Figure at 0x12ee06e10>"
      ]
     },
     "metadata": {
      "needs_background": "light"
     },
     "output_type": "display_data"
    },
    {
     "data": {
      "image/png": "[encoded data removed]",
      "text/plain": [
       "<matplotlib.figure.Figure at 0x12bfa60f0>"
      ]
     },
     "metadata": {
      "needs_background": "light"
     },
     "output_type": "display_data"
    }
   ],
   "source": [
    "loss_history_list = []\n",
    "loss_v_history_list = []\n",
    "for snr in list(range(1,11))[::-1]:\n",
    "    loss_history_list.extend(Info[snr]['loss_history'].asnumpy().tolist())\n",
    "    loss_v_history_list.extend(Info[snr]['loss_v_history'].asnumpy().tolist())\n",
    "    \n",
    "plt.figure(figsize=(15,4))\n",
    "plt.semilogy(loss_history_list, alpha = 1)\n",
    "plt.semilogy(loss_v_history_list, alpha = 0.8)\n",
    "plt.show()\n",
    "\n",
    "train_acc_history_list = []\n",
    "test_acc_history_list = []\n",
    "for snr in list(range(1,11))[::-1]:\n",
    "    train_acc_history_list.extend(Info[snr]['train_acc_history'].asnumpy().tolist())\n",
    "    test_acc_history_list.extend(Info[snr]['test_acc_history'].asnumpy().tolist())\n",
    "    \n",
    "plt.figure(figsize=(15,4))\n",
    "plt.plot(train_acc_history_list, alpha = 1)\n",
    "plt.plot(test_acc_history_list, alpha = 0.8)\n",
    "plt.show()"
   ]
  },
  {
   "cell_type": "code",
   "execution_count": 26,
   "metadata": {
    "ExecuteTime": {
     "end_time": "2018-10-15T02:43:07.952139Z",
     "start_time": "2018-10-15T02:43:07.873846Z"
    }
   },
   "outputs": [],
   "source": [
    "params_add = ['data_evaluate/snr_10_best_params_epoch@29.pkl',\n",
    " 'data_evaluate/snr_1_best_params_epoch@30.pkl',\n",
    " 'data_evaluate/snr_2_best_params_epoch@20.pkl',\n",
    " 'data_evaluate/snr_3_best_params_epoch@3.pkl',\n",
    " 'data_evaluate/snr_4_best_params_epoch@16.pkl',\n",
    " 'data_evaluate/snr_5_best_params_epoch@9.pkl',\n",
    " 'data_evaluate/snr_6_best_params_epoch@25.pkl',\n",
    " 'data_evaluate/snr_7_best_params_epoch@9.pkl',\n",
    " 'data_evaluate/snr_8_best_params_epoch@16.pkl',\n",
    " 'data_evaluate/snr_9_best_params_epoch@27.pkl']"
   ]
  },
  {
   "cell_type": "code",
   "execution_count": 39,
   "metadata": {
    "ExecuteTime": {
     "end_time": "2018-10-15T03:05:35.392466Z",
     "start_time": "2018-10-15T02:59:58.965190Z"
    }
   },
   "outputs": [
    {
     "name": "stdout",
     "output_type": "stream",
     "text": [
      "SNR = 0.1\n",
      "Label for training: (200,)\n",
      "Label for testing: (200,)\n",
      "SNR = 0.4\n",
      "Label for training: (200,)\n",
      "Label for testing: (200,)\n",
      "SNR = 0.7\n",
      "Label for training: (200,)\n",
      "Label for testing: (200,)\n",
      "SNR = 1.0\n",
      "Label for training: (200,)\n",
      "Label for testing: (200,)\n",
      "SNR = 0.1\n",
      "Label for training: (200,)\n",
      "Label for testing: (200,)\n",
      "SNR = 0.4\n",
      "Label for training: (200,)\n",
      "Label for testing: (200,)\n",
      "SNR = 0.7\n",
      "Label for training: (200,)\n",
      "Label for testing: (200,)\n",
      "SNR = 1.0\n",
      "Label for training: (200,)\n",
      "Label for testing: (200,)\n",
      "SNR = 0.1\n",
      "Label for training: (200,)\n",
      "Label for testing: (200,)\n",
      "SNR = 0.4\n",
      "Label for training: (200,)\n",
      "Label for testing: (200,)\n",
      "SNR = 0.7\n",
      "Label for training: (200,)\n",
      "Label for testing: (200,)\n",
      "SNR = 1.0\n",
      "Label for training: (200,)\n",
      "Label for testing: (200,)\n"
     ]
    }
   ],
   "source": [
    "auc_frame = []\n",
    "for param_add in params_add[:3]:\n",
    "    param = nd.load(param_add)\n",
    "    \n",
    "    OURS_ori = ConvNet(conv_params = {'kernel': ((1,16), (1,8), (1,8)), \n",
    "                                        'num_filter': (16, 32, 64,),\n",
    "                                        'stride': ((1,1), (1,1), (1,1),),\n",
    "                                        'padding': ((0,0), (0,0), (0,0),),\n",
    "                                        'dilate': ((1,1), (1,1), (1,1),)},\n",
    "                       act_params = {'act_type': ('relu', 'relu', 'relu', 'relu',)},\n",
    "                       pool_params = {'pool_type': ('avg', 'avg', 'avg',),\n",
    "                                        'kernel': ((1,16), (1,16), (1,16),),\n",
    "                                        'stride': ((1,2), (1,2), (1,2),),\n",
    "                                        'padding': ((0,0),(0,0), (0,0),),\n",
    "                                        'dilate': ((1,1), (1,1), (1,1),)},\n",
    "                       fc_params = {'hidden_dim': (64,)}, drop_prob = 0, \n",
    "                       params_inits = param,\n",
    "                       input_dim = (1,1,8192)\n",
    "                      )\n",
    "    auc_list = []\n",
    "    for snr in np.linspace(0.1, 1, 10)[::3]:\n",
    "        Solver = Solver_nd(model = OURS_ori, \n",
    "                           train = train_data[:10],\n",
    "                           test = test_data[:10],\n",
    "                           SNR = snr, \n",
    "                           batch_size = 32)\n",
    "        auc_var_list = []\n",
    "        for i in range(10):\n",
    "            prob, label, _= Solver.predict_nd()\n",
    "            fpr, tpr, thresholds = metrics.roc_curve(label, prob, pos_label=1)\n",
    "            auc_var_list.append(metrics.auc(fpr, tpr))\n",
    "            if i == 9: break\n",
    "\n",
    "        auc_list.append(auc_var_list)\n",
    "    auc_frame.append(auc_list)\n",
    "# np.save('./images/auc_finite_noise_SNR=1', auc_list)"
   ]
  },
  {
   "cell_type": "code",
   "execution_count": 74,
   "metadata": {
    "ExecuteTime": {
     "end_time": "2018-10-15T03:30:32.100335Z",
     "start_time": "2018-10-15T03:30:31.996288Z"
    }
   },
   "outputs": [],
   "source": []
  },
  {
   "cell_type": "code",
   "execution_count": 80,
   "metadata": {
    "ExecuteTime": {
     "end_time": "2018-10-15T03:39:14.546131Z",
     "start_time": "2018-10-15T03:39:14.399398Z"
    }
   },
   "outputs": [],
   "source": [
    "pretrained_add = './data_evaluate/'\n",
    "os.system('ls -a %s | grep best > test.txt' %pretrained_add)\n",
    "tt = pd.read_csv('./test.txt', header=None)\n",
    "os.system('rm test.txt')\n",
    "tt['snr'] = tt[0].map(lambda x: int(x.split('_')[1]))\n",
    "tt = tt.sort_values('snr', ascending=False)[0].values.tolist()"
   ]
  },
  {
   "cell_type": "code",
   "execution_count": 84,
   "metadata": {
    "ExecuteTime": {
     "end_time": "2018-10-15T03:49:48.669975Z",
     "start_time": "2018-10-15T03:49:48.560597Z"
    }
   },
   "outputs": [
    {
     "data": {
      "text/plain": [
       "'10'"
      ]
     },
     "execution_count": 84,
     "metadata": {},
     "output_type": "execute_result"
    }
   ],
   "source": [
    "tt[0].split('_')[1]"
   ]
  },
  {
   "cell_type": "code",
   "execution_count": 82,
   "metadata": {
    "ExecuteTime": {
     "end_time": "2018-10-15T03:39:17.124750Z",
     "start_time": "2018-10-15T03:39:16.945184Z"
    }
   },
   "outputs": [
    {
     "data": {
      "text/plain": [
       "dict_keys(['W1', 'b1', 'W2', 'b2', 'W3', 'b3', 'W4', 'b4', 'W5', 'b5'])"
      ]
     },
     "execution_count": 82,
     "metadata": {},
     "output_type": "execute_result"
    }
   ],
   "source": [
    "nd.load(pretrained_add + tt[0]).keys()"
   ]
  },
  {
   "cell_type": "code",
   "execution_count": 57,
   "metadata": {
    "ExecuteTime": {
     "end_time": "2018-10-15T03:12:36.136550Z",
     "start_time": "2018-10-15T03:12:35.730183Z"
    }
   },
   "outputs": [
    {
     "data": {
      "text/plain": [
       "<matplotlib.legend.Legend at 0x12ff89b38>"
      ]
     },
     "execution_count": 57,
     "metadata": {},
     "output_type": "execute_result"
    },
    {
     "data": {
      "image/png": "[encoded data removed]",
      "text/plain": [
       "<matplotlib.figure.Figure at 0x12ff899e8>"
      ]
     },
     "metadata": {
      "needs_background": "light"
     },
     "output_type": "display_data"
    }
   ],
   "source": [
    "for i, model in enumerate(list([10,1,2])):\n",
    "    plt.plot(auc_frame_array[i].mean(axis=1), label = model)\n",
    "plt.legend()"
   ]
  },
  {
   "cell_type": "code",
   "execution_count": 51,
   "metadata": {
    "ExecuteTime": {
     "end_time": "2018-10-15T03:10:23.620001Z",
     "start_time": "2018-10-15T03:10:23.528043Z"
    }
   },
   "outputs": [
    {
     "data": {
      "text/plain": [
       "array([ 0.49769,  0.82054,  0.99926,  1.     ])"
      ]
     },
     "execution_count": 51,
     "metadata": {},
     "output_type": "execute_result"
    }
   ],
   "source": [
    "auc_frame_array[0].mean(axis=1)"
   ]
  },
  {
   "cell_type": "code",
   "execution_count": null,
   "metadata": {},
   "outputs": [],
   "source": []
  }
 ],
 "metadata": {
  "kernelspec": {
   "display_name": "Python 3",
   "language": "python",
   "name": "python3"
  },
  "language_info": {
   "codemirror_mode": {
    "name": "ipython",
    "version": 3
   },
   "file_extension": ".py",
   "mimetype": "text/x-python",
   "name": "python",
   "nbconvert_exporter": "python",
   "pygments_lexer": "ipython3",
   "version": "3.6.2"
  },
  "nbTranslate": {
   "displayLangs": [
    "*"
   ],
   "hotkey": "alt-t",
   "langInMainMenu": true,
   "sourceLang": "en",
   "targetLang": "fr",
   "useGoogleTranslate": true
  },
  "toc": {
   "nav_menu": {},
   "number_sections": true,
   "sideBar": true,
   "skip_h1_title": false,
   "toc_cell": false,
   "toc_position": {},
   "toc_section_display": "block",
   "toc_window_display": false
  }
 },
 "nbformat": 4,
 "nbformat_minor": 2
}
