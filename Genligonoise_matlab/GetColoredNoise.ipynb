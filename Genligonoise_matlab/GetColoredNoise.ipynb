{
 "cells": [
  {
   "cell_type": "code",
   "execution_count": 1,
   "metadata": {
    "ExecuteTime": {
     "end_time": "2018-10-23T05:43:00.672290Z",
     "start_time": "2018-10-23T05:42:52.591604Z"
    }
   },
   "outputs": [],
   "source": [
    "import numpy as np\n",
    "import pandas as pd\n",
    "import matplotlib.pyplot as plt\n",
    "%matplotlib inline\n",
    "import mxnet.ndarray as nd\n",
    "# import seaborn as sns\n",
    "\n",
    "# Easily Profile Python Code in Jupyter\n",
    "# install conda install line_profiler or pip install line-profiler\n",
    "# see http://mortada.net/easily-profile-python-code-in-jupyter.html\n",
    "%load_ext line_profiler\n"
   ]
  },
  {
   "cell_type": "code",
   "execution_count": 13,
   "metadata": {
    "ExecuteTime": {
     "end_time": "2018-10-18T13:11:03.077927Z",
     "start_time": "2018-10-18T13:11:03.067055Z"
    }
   },
   "outputs": [
    {
     "data": {
      "text/plain": [
       "[\n",
       " [ 3.]\n",
       " <NDArray 1 @cpu(0)>, \n",
       " [ 4.]\n",
       " <NDArray 1 @cpu(0)>, \n",
       " [ nan]\n",
       " <NDArray 1 @cpu(0)>, \n",
       " [ 6.]\n",
       " <NDArray 1 @cpu(0)>]"
      ]
     },
     "execution_count": 13,
     "metadata": {},
     "output_type": "execute_result"
    }
   ],
   "source": [
    "a = nd.array([1,2,None,4])\n",
    "[i+2 for i in a]"
   ]
  },
  {
   "cell_type": "markdown",
   "metadata": {},
   "source": [
    "[System Requirements for MATLAB Engine API for Python](http://cn.mathworks.com/help/matlab/matlab_external/system-requirements-for-matlab-engine-for-python.html)\n",
    "\n",
    "Ref:\n",
    "- [Start and Stop MATLAB Engine for Python](http://cn.mathworks.com/help/matlab/matlab_external/start-the-matlab-engine-for-python.html)"
   ]
  },
  {
   "cell_type": "code",
   "execution_count": 11,
   "metadata": {
    "ExecuteTime": {
     "end_time": "2018-05-23T12:42:37.736816Z",
     "start_time": "2018-05-23T12:42:12.669136Z"
    }
   },
   "outputs": [],
   "source": [
    "import io\n",
    "import matlab.engine\n",
    "out = io.StringIO()\n",
    "err = io.StringIO()\n",
    "eng = matlab.engine.start_matlab()"
   ]
  },
  {
   "cell_type": "code",
   "execution_count": 8,
   "metadata": {
    "ExecuteTime": {
     "end_time": "2018-05-23T12:35:47.681833Z",
     "start_time": "2018-05-23T12:35:47.421283Z"
    }
   },
   "outputs": [],
   "source": [
    "eng.quit()"
   ]
  },
  {
   "cell_type": "markdown",
   "metadata": {},
   "source": [
    "Ref: \n",
    "- [Call User Script and Function from Python](http://cn.mathworks.com/help/matlab/matlab_external/call-user-script-and-function-from-python.html)"
   ]
  },
  {
   "cell_type": "code",
   "execution_count": 3,
   "metadata": {
    "ExecuteTime": {
     "end_time": "2018-05-23T12:26:03.140752Z",
     "start_time": "2018-05-23T12:26:02.947307Z"
    }
   },
   "outputs": [
    {
     "name": "stdout",
     "output_type": "stream",
     "text": [
      "GetColoredNoise.ipynb ZERO_DET_high_P.txt   iLIGOSensitivity.txt\r\n",
      "GetLigoNoise.m        \u001b[31mgenligonoise.m\u001b[m\u001b[m        psd_zero.txt\r\n"
     ]
    }
   ],
   "source": [
    "!ls"
   ]
  },
  {
   "cell_type": "code",
   "execution_count": 4,
   "metadata": {
    "ExecuteTime": {
     "end_time": "2018-05-23T12:26:25.055981Z",
     "start_time": "2018-05-23T12:26:10.562992Z"
    }
   },
   "outputs": [
    {
     "name": "stdout",
     "output_type": "stream",
     "text": [
      "GetColoredNoise.ipynb ZERO_DET_high_P.txt   iLIGOSensitivity.txt\r\n",
      "GetLigoNoise.m        \u001b[31mgenligonoise.m\u001b[m\u001b[m        psd_zero.txt\r\n"
     ]
    }
   ],
   "source": [
    "# Matlab编辑\n",
    "eng.edit('GetLigoNoise',nargout=0)\n",
    "!ls"
   ]
  },
  {
   "cell_type": "markdown",
   "metadata": {},
   "source": [
    "With the band-pass filtering that selects the region of 35 to 1024 Hz."
   ]
  },
  {
   "cell_type": "code",
   "execution_count": 5,
   "metadata": {
    "ExecuteTime": {
     "end_time": "2018-05-23T12:26:44.531791Z",
     "start_time": "2018-05-23T12:26:44.518840Z"
    }
   },
   "outputs": [],
   "source": [
    "file = 'ZERO_DET_high_P.txt' # File containing target sensitivity curve\n",
    "# Select pass band.\n",
    "fLow = 9 #Hz \n",
    "fHigh = 9000 #Hz\n",
    "Debug = True\n",
    "# eng.GetLigoNoise(file, fLow, fHigh, Debug, nargout=0, stdout=out,stderr=err)\n",
    "# Sampling frequency of the data to be generated (should be less than half\n",
    "# of the maximum frequency in target PSD.\n",
    "# fs = 4096;%Hz\n",
    "# FIR filter order\n",
    "# filtOrdr = 100;\n",
    "# impDataNSamples = 2048;\n",
    "# nDataSamples = 16384;"
   ]
  },
  {
   "cell_type": "code",
   "execution_count": 7,
   "metadata": {
    "ExecuteTime": {
     "end_time": "2018-05-23T12:35:44.156365Z",
     "start_time": "2018-05-23T12:31:24.299181Z"
    }
   },
   "outputs": [],
   "source": [
    "eng.GetLigoNoise(file, fLow, fHigh, True, stdout=out,stderr=err)"
   ]
  },
  {
   "cell_type": "code",
   "execution_count": 4,
   "metadata": {
    "ExecuteTime": {
     "end_time": "2018-05-09T06:08:19.133601Z",
     "start_time": "2018-05-09T06:08:13.600842Z"
    }
   },
   "outputs": [
    {
     "data": {
      "text/plain": [
       "(8192,)"
      ]
     },
     "execution_count": 4,
     "metadata": {},
     "output_type": "execute_result"
    }
   ],
   "source": [
    "def Noise_fromLigo():\n",
    "    Noise_Ligo = eng.GetLigoNoise(file, fLow, fHigh, False, stdout=out,stderr=err)\n",
    "#     print(err.getvalue())\n",
    "#     print(out.getvalue())\n",
    "    return np.array(Noise_Ligo)[0]\n",
    "Noise_fromLigo().shape"
   ]
  },
  {
   "cell_type": "code",
   "execution_count": 6,
   "metadata": {
    "ExecuteTime": {
     "end_time": "2018-04-14T05:16:15.590720Z",
     "start_time": "2018-04-14T05:16:12.935804Z"
    }
   },
   "outputs": [
    {
     "name": "stdout",
     "output_type": "stream",
     "text": [
      "shape:  (8192,)\n",
      "mean:  -6.9483382053e-26\n",
      "std:  6.19714567657e-24\n",
      "std:  1.0\n",
      "The number of samples of white noise: 8192\n"
     ]
    },
    {
     "name": "stderr",
     "output_type": "stream",
     "text": [
      "/Users/Herb/anaconda3/lib/python3.6/site-packages/matplotlib/axes/_base.py:2966: UserWarning: Attempted to set non-positive xlimits for log-scale axis; invalid limits will be ignored.\n",
      "  'Attempted to set non-positive xlimits for log-scale axis; '\n"
     ]
    },
    {
     "data": {
      "text/plain": [
       "(1e-25, 1e-21)"
      ]
     },
     "execution_count": 6,
     "metadata": {},
     "output_type": "execute_result"
    },
    {
     "data": {
      "image/png": "[encoded data removed]",
      "text/plain": [
       "<matplotlib.figure.Figure at 0x11bf67198>"
      ]
     },
     "metadata": {},
     "output_type": "display_data"
    },
    {
     "data": {
      "image/png": "[encoded data removed]",
      "text/plain": [
       "<matplotlib.figure.Figure at 0x11ca169e8>"
      ]
     },
     "metadata": {},
     "output_type": "display_data"
    }
   ],
   "source": [
    "nsample = 8192\n",
    "# Make plot for check \n",
    "randomSeries = Noise_fromLigo()\n",
    "# sns.set_context(\"notebook\")\n",
    "# sns.set_style('darkgrid')\n",
    "plt.figure(figsize=(10,6))\n",
    "plt.plot(np.linspace(0,1,nsample) ,randomSeries)\n",
    "# plt.plot(np.linspace(0,1,nsample) ,(randomSeries-randomSeries.mean())/randomSeries.std())\n",
    "plt.xlabel('Time (s)')\n",
    "plt.ylabel('Normalized Strain')\n",
    "plt.title('Colored noise for aLIGO')\n",
    "print('shape: ' ,randomSeries.shape)\n",
    "print('mean: ', randomSeries.mean())\n",
    "print('std: ', randomSeries.std())\n",
    "\n",
    "# Normalized strain\n",
    "dd = (randomSeries-randomSeries.mean())/randomSeries.std()\n",
    "print('std: ' , dd.std())\n",
    "\n",
    "# Check the randomSeries for aLIGO\n",
    "f = np.fft.fftfreq(nsample ) * nsample\n",
    "psd0 = np.abs(np.fft.fft(randomSeries))**2 / len(randomSeries)\n",
    "print('The number of samples of white noise: %s' %len(randomSeries))\n",
    "\n",
    "# sns.set_context(\"notebook\")\n",
    "# sns.set_style('darkgrid')\n",
    "plt.figure(figsize=(10,6))\n",
    "plt.loglog(f[f>=0][1:], np.sqrt(psd0[f>=0])[1:] )\n",
    "ZERO_DET = np.loadtxt('./ZERO_DET_high_P.txt')\n",
    "plt.loglog(ZERO_DET[:,0],ZERO_DET[:,1])   # Frequency(Hz) , ASD(Strain/Hz)\n",
    "plt.xlabel('freq (Hz)')\n",
    "plt.ylabel('ASD (rtHz)')\n",
    "plt.xlim(fLow-10, fHigh+10)\n",
    "plt.ylim(1e-25,1e-21)\n",
    "# plt.grid()"
   ]
  },
  {
   "cell_type": "code",
   "execution_count": 7,
   "metadata": {
    "ExecuteTime": {
     "end_time": "2018-04-14T05:17:39.717538Z",
     "start_time": "2018-04-14T05:17:39.697602Z"
    }
   },
   "outputs": [],
   "source": [
    "# The color of the noise matches a PSD which you provide\n",
    "def normalized_noise(randomSeries, sigma=5.0):\n",
    "    return sigma * (randomSeries-randomSeries.mean())/randomSeries.std()\n",
    "# Creat a set of noise time series\n",
    "\n",
    "def NormNoise(data_GW_shape, sigma):\n",
    "    num = data_GW_shape\n",
    "    y = []\n",
    "    i = 0\n",
    "    while i < num:   \t\t\t\t\n",
    "#         y.append(normalized_noise(Noise_fromLigo(),sigma))\n",
    "        y.append(Noise_fromLigo()) \n",
    "        i+=1\n",
    "        #if i%5==0: print('%s of generating %s noises' %(i/num ,num))\n",
    "    return y \t\t\t# A set of noise time series which have the same shape with data_GW"
   ]
  },
  {
   "cell_type": "code",
   "execution_count": 24,
   "metadata": {
    "ExecuteTime": {
     "end_time": "2018-04-14T07:08:20.408295Z",
     "start_time": "2018-04-14T06:53:00.089300Z"
    }
   },
   "outputs": [
    {
     "data": {
      "text/plain": [
       "(10000, 8192)"
      ]
     },
     "execution_count": 24,
     "metadata": {},
     "output_type": "execute_result"
    }
   ],
   "source": [
    "data_GW_shape = 10000\n",
    "sigma = 1\n",
    "data_noise = np.array(NormNoise(data_GW_shape, sigma))\n",
    "data_noise.shape\n",
    "# It may take 13 mins"
   ]
  },
  {
   "cell_type": "code",
   "execution_count": 25,
   "metadata": {
    "ExecuteTime": {
     "end_time": "2018-04-14T07:14:25.203171Z",
     "start_time": "2018-04-14T07:08:20.426761Z"
    }
   },
   "outputs": [],
   "source": [
    "pd.DataFrame(data_noise).to_csv('../Noise_data2/LigoNose9_9000_8192_4.csv')\n",
    "# It may take 4 mins"
   ]
  },
  {
   "cell_type": "code",
   "execution_count": 26,
   "metadata": {
    "ExecuteTime": {
     "end_time": "2018-04-14T07:18:29.103284Z",
     "start_time": "2018-04-14T07:18:28.835687Z"
    }
   },
   "outputs": [
    {
     "name": "stdout",
     "output_type": "stream",
     "text": [
      "LigoNose9_9000_8192_3.csv LigoNose9_9000_8192_4.csv\r\n"
     ]
    }
   ],
   "source": [
    "!ls ../Noise_data2/"
   ]
  },
  {
   "cell_type": "code",
   "execution_count": 15,
   "metadata": {
    "ExecuteTime": {
     "end_time": "2018-04-10T01:37:27.174471Z",
     "start_time": "2018-04-10T01:37:26.832850Z"
    }
   },
   "outputs": [
    {
     "name": "stdout",
     "output_type": "stream",
     "text": [
      "LigoNose9_9000_8192_5.csv\r\n"
     ]
    }
   ],
   "source": [
    "!ls ../Noise_data2/\n",
    "# !rm ../Noise_data2/*"
   ]
  },
  {
   "cell_type": "code",
   "execution_count": 23,
   "metadata": {
    "ExecuteTime": {
     "end_time": "2018-01-21T05:32:04.186897Z",
     "start_time": "2018-01-21T05:32:03.726612Z"
    }
   },
   "outputs": [
    {
     "data": {
      "text/plain": [
       "[<matplotlib.lines.Line2D at 0x11fffc5f8>]"
      ]
     },
     "execution_count": 23,
     "metadata": {},
     "output_type": "execute_result"
    },
    {
     "data": {
      "image/png": "[encoded data removed]",
      "text/plain": [
       "<matplotlib.figure.Figure at 0x11fffc7b8>"
      ]
     },
     "metadata": {},
     "output_type": "display_data"
    }
   ],
   "source": [
    "plt.plot(data_noise[0,:].tolist())"
   ]
  },
  {
   "cell_type": "code",
   "execution_count": 18,
   "metadata": {
    "ExecuteTime": {
     "end_time": "2018-04-14T06:23:45.061167Z",
     "start_time": "2018-04-14T06:23:44.565916Z"
    }
   },
   "outputs": [
    {
     "data": {
      "text/html": [
       "<div>\n",
       "<style>\n",
       "    .dataframe thead tr:only-child th {\n",
       "        text-align: right;\n",
       "    }\n",
       "\n",
       "    .dataframe thead th {\n",
       "        text-align: left;\n",
       "    }\n",
       "\n",
       "    .dataframe tbody tr th {\n",
       "        vertical-align: top;\n",
       "    }\n",
       "</style>\n",
       "<table border=\"1\" class=\"dataframe\">\n",
       "  <thead>\n",
       "    <tr style=\"text-align: right;\">\n",
       "      <th></th>\n",
       "      <th>0</th>\n",
       "      <th>1</th>\n",
       "      <th>2</th>\n",
       "      <th>3</th>\n",
       "      <th>4</th>\n",
       "      <th>5</th>\n",
       "      <th>6</th>\n",
       "      <th>7</th>\n",
       "      <th>8</th>\n",
       "      <th>9</th>\n",
       "      <th>...</th>\n",
       "      <th>8182</th>\n",
       "      <th>8183</th>\n",
       "      <th>8184</th>\n",
       "      <th>8185</th>\n",
       "      <th>8186</th>\n",
       "      <th>8187</th>\n",
       "      <th>8188</th>\n",
       "      <th>8189</th>\n",
       "      <th>8190</th>\n",
       "      <th>8191</th>\n",
       "    </tr>\n",
       "  </thead>\n",
       "  <tbody>\n",
       "    <tr>\n",
       "      <th>0</th>\n",
       "      <td>-1.851416e-28</td>\n",
       "      <td>5.728589e-27</td>\n",
       "      <td>1.004643e-26</td>\n",
       "      <td>6.342425e-27</td>\n",
       "      <td>1.166781e-26</td>\n",
       "      <td>6.185404e-27</td>\n",
       "      <td>-2.206391e-27</td>\n",
       "      <td>1.294658e-27</td>\n",
       "      <td>8.455106e-27</td>\n",
       "      <td>1.304367e-26</td>\n",
       "      <td>...</td>\n",
       "      <td>-4.001126e-24</td>\n",
       "      <td>3.468656e-24</td>\n",
       "      <td>-8.126242e-24</td>\n",
       "      <td>-1.024269e-23</td>\n",
       "      <td>5.156548e-24</td>\n",
       "      <td>-2.056193e-23</td>\n",
       "      <td>1.893195e-24</td>\n",
       "      <td>-1.071452e-23</td>\n",
       "      <td>-1.233000e-23</td>\n",
       "      <td>3.161093e-24</td>\n",
       "    </tr>\n",
       "    <tr>\n",
       "      <th>1</th>\n",
       "      <td>5.228653e-27</td>\n",
       "      <td>5.393392e-27</td>\n",
       "      <td>-1.344599e-26</td>\n",
       "      <td>-8.472808e-27</td>\n",
       "      <td>-2.166755e-26</td>\n",
       "      <td>-2.130211e-26</td>\n",
       "      <td>-1.746924e-26</td>\n",
       "      <td>-3.991712e-27</td>\n",
       "      <td>-4.104665e-27</td>\n",
       "      <td>-1.878266e-26</td>\n",
       "      <td>...</td>\n",
       "      <td>-6.492246e-24</td>\n",
       "      <td>5.507373e-26</td>\n",
       "      <td>8.047780e-24</td>\n",
       "      <td>-3.599893e-24</td>\n",
       "      <td>3.835406e-24</td>\n",
       "      <td>-3.241442e-24</td>\n",
       "      <td>-4.989194e-24</td>\n",
       "      <td>3.402128e-24</td>\n",
       "      <td>-2.253202e-24</td>\n",
       "      <td>1.101215e-23</td>\n",
       "    </tr>\n",
       "  </tbody>\n",
       "</table>\n",
       "<p>2 rows × 8192 columns</p>\n",
       "</div>"
      ],
      "text/plain": [
       "              0             1             2             3             4  \\\n",
       "0 -1.851416e-28  5.728589e-27  1.004643e-26  6.342425e-27  1.166781e-26   \n",
       "1  5.228653e-27  5.393392e-27 -1.344599e-26 -8.472808e-27 -2.166755e-26   \n",
       "\n",
       "              5             6             7             8             9  \\\n",
       "0  6.185404e-27 -2.206391e-27  1.294658e-27  8.455106e-27  1.304367e-26   \n",
       "1 -2.130211e-26 -1.746924e-26 -3.991712e-27 -4.104665e-27 -1.878266e-26   \n",
       "\n",
       "       ...               8182          8183          8184          8185  \\\n",
       "0      ...      -4.001126e-24  3.468656e-24 -8.126242e-24 -1.024269e-23   \n",
       "1      ...      -6.492246e-24  5.507373e-26  8.047780e-24 -3.599893e-24   \n",
       "\n",
       "           8186          8187          8188          8189          8190  \\\n",
       "0  5.156548e-24 -2.056193e-23  1.893195e-24 -1.071452e-23 -1.233000e-23   \n",
       "1  3.835406e-24 -3.241442e-24 -4.989194e-24  3.402128e-24 -2.253202e-24   \n",
       "\n",
       "           8191  \n",
       "0  3.161093e-24  \n",
       "1  1.101215e-23  \n",
       "\n",
       "[2 rows x 8192 columns]"
      ]
     },
     "execution_count": 18,
     "metadata": {},
     "output_type": "execute_result"
    }
   ],
   "source": [
    "pd.read_csv('../Noise_data/LigoNose9_9000_8192_1.csv', index_col=0, nrows = 2)"
   ]
  },
  {
   "cell_type": "markdown",
   "metadata": {},
   "source": [
    "## Simulate Matlab"
   ]
  },
  {
   "cell_type": "code",
   "execution_count": 2,
   "metadata": {
    "ExecuteTime": {
     "end_time": "2018-10-20T14:45:25.070486Z",
     "start_time": "2018-10-20T14:45:14.388273Z"
    }
   },
   "outputs": [
    {
     "name": "stderr",
     "output_type": "stream",
     "text": [
      "/Users/Herb/anaconda3/lib/python3.6/site-packages/sklearn/externals/joblib/_multiprocessing_helpers.py:28: UserWarning: [Errno 28] No space left on device.  joblib will operate in serial mode\n",
      "  warnings.warn('%s.  joblib will operate in serial mode' % (e,))\n"
     ]
    }
   ],
   "source": [
    "import numpy as np\n",
    "import pandas as pd\n",
    "import matplotlib.pyplot as plt\n",
    "%matplotlib inline\n",
    "import mxnet.ndarray as nd"
   ]
  },
  {
   "cell_type": "code",
   "execution_count": 64,
   "metadata": {
    "ExecuteTime": {
     "end_time": "2018-10-23T06:06:56.262408Z",
     "start_time": "2018-10-23T06:06:55.702051Z"
    }
   },
   "outputs": [],
   "source": [
    "def fir2(nn, ff, aa, **kwargs):\n",
    "    '''http://read.pudn.com/downloads48/sourcecode/math/163974/fir2.m__.htm'''\n",
    "    \n",
    "    from scipy import ifft, real\n",
    "    nn += 1\n",
    "    ff = ff.reshape(1,-1)\n",
    "    aa = aa.reshape(1,-1)\n",
    "    assert len(kwargs) <= 3, 'Wrong number of input parameters!'\n",
    "\n",
    "    npt = kwargs.setdefault('npt', None)\n",
    "    lap = kwargs.setdefault('lap', None)\n",
    "    wind = kwargs.setdefault('wind', None)\n",
    "    \n",
    "    length_kwargs = pd.Series(kwargs).count()\n",
    "    \n",
    "    if length_kwargs > 0:\n",
    "        if length_kwargs == 1:\n",
    "            if npt:\n",
    "                if 2**round(np.log(npt)/np.log(2)) != npt:\n",
    "                    npt = 2**round(np.log(npt)/np.log(2))\n",
    "                wind = np.hamming(nn)\n",
    "            else:\n",
    "                wind = npt\n",
    "                npt = 512\n",
    "            lap = np.floor(npt/25)\n",
    "        elif length_kwargs == 2:\n",
    "            if npt ==1:\n",
    "                if 2**round(np.log(npt)/np.log(2)) != npt:\n",
    "                    npt = 2**round(np.log(npt)/np.log(2))\n",
    "                if lap:\n",
    "                    wind = np.hamming(nn)\n",
    "                else:\n",
    "                    wind = lap\n",
    "                    lap = np.floor(npt/25)\n",
    "            else:\n",
    "                wind = npt\n",
    "                npt = lap\n",
    "                lap = np.floor(npt/25)\n",
    "    elif length_kwargs == 0:\n",
    "        if nn < 1024:\n",
    "            npt = 512\n",
    "        else:\n",
    "            npt = 2**round(np.log(npt)/np.log(2))\n",
    "        wind = np.hamming(nn)\n",
    "        lap = np.floor(npt/25)\n",
    "\n",
    "    assert nn == len(wind), print('The specified window must be the same as the filter length')\n",
    "\n",
    "    [mf, nf] = ff.shape\n",
    "    [ma, na] = aa.shape\n",
    "    assert (mf == ma) and (nf == na), \"You must specify the same number of frequencies and amplitudes\"\n",
    "    \n",
    "    nbrk = np.maximum(mf, nf)  # length of the series\n",
    "    if mf < nf:\n",
    "        ff = ff.T\n",
    "#         aa = aa.T\n",
    "\n",
    "    assert (abs(ff[0]) <= np.spacing(1)) and (abs(ff[nbrk-1] -1) <=np.spacing(1)), 'The first frequency must be 0 and the last 1'\n",
    "    \n",
    "    # interpolate breakpoints onto large grid \n",
    "    H = np.zeros((1, npt+1))\n",
    "    nint = nbrk-1\n",
    "    df = np.diff(ff.conj().T)[0]\n",
    "    assert any(np.diff(df) >= 0), \"Frequencies must be non-decreasing\"\n",
    "\n",
    "    npt+= 1    # Length of [dc 1 2 ... nyquist] frequencies. \n",
    "    \n",
    "    nb = 1\n",
    "    H[0][0] = aa[0][0]\n",
    "    \n",
    "    for i in range(nint):\n",
    "        \n",
    "        if df[i] == 0:\n",
    "            nb = int(nb - lap/2)\n",
    "            ne = int(nb + lap)\n",
    "        else:\n",
    "            ne = int(np.floor(ff[i+1] * npt)[0])\n",
    "            \n",
    "        assert (nb >= 0) and (ne <= npt), \"Too abrupt an amplitude change near end of frequency interval\"\n",
    "        \n",
    "        j = np.arange(nb, ne+1)\n",
    "        if nb == ne:\n",
    "            inc = 0\n",
    "        else:\n",
    "            inc = (j-nb)/(ne - nb)\n",
    "\n",
    "        H[0][nb-1:ne] = inc*aa[0][i+1] + (1 - inc)*aa[0][i]\n",
    "        nb = ne + 1\n",
    "    # Fourier time-shift. \n",
    "    dt = 0.5 * (nn -1)\n",
    "    rad = -dt * 1j * np.pi * np.arange(npt) / (npt-1)\n",
    "    H = H * np.exp(rad)\n",
    "    H = np.concatenate((H, H[0][npt-2:0:-1].reshape(1,-1).conj()), axis=1) # Fourier transform of real series. \n",
    "    ht = real(ifft(H))    # Symmetric real series. \n",
    "    \n",
    "    b = ht[0][:nn]  # Raw numerator. \n",
    "    b = b * wind.T  # Apply window. \n",
    "    a = 1           # Denominator. \n",
    "    return b"
   ]
  },
  {
   "cell_type": "code",
   "execution_count": 504,
   "metadata": {
    "ExecuteTime": {
     "end_time": "2018-10-22T12:39:25.246624Z",
     "start_time": "2018-10-22T12:39:22.354473Z"
    }
   },
   "outputs": [
    {
     "name": "stdout",
     "output_type": "stream",
     "text": [
      "3.37 ms ± 236 µs per loop (mean ± std. dev. of 7 runs, 100 loops each)\n"
     ]
    }
   ],
   "source": [
    "%timeit fir2(1000,np.array([0]+np.random.uniform(size=(100,)).tolist()+[1]), np.random.uniform(low=0, high=10, size=(102,)))\n",
    "%lprun -f fir2 fir2(1000,np.array([0]+np.random.uniform(size=(100,)).tolist()+[1]), np.random.uniform(low=0, high=10, size=(102,)))"
   ]
  },
  {
   "cell_type": "code",
   "execution_count": 505,
   "metadata": {
    "ExecuteTime": {
     "end_time": "2018-10-22T12:46:17.631191Z",
     "start_time": "2018-10-22T12:46:17.609970Z"
    }
   },
   "outputs": [
    {
     "data": {
      "text/plain": [
       "array([ -9.72075622e-04,   2.26357059e-02,   1.80292599e-05,\n",
       "        -5.12916098e-01,   1.02024504e+00,   1.02024504e+00,\n",
       "        -5.12916098e-01,   1.80292599e-05,   2.26357059e-02,\n",
       "        -9.72075622e-04])"
      ]
     },
     "execution_count": 505,
     "metadata": {},
     "output_type": "execute_result"
    }
   ],
   "source": [
    "from scipy import signal as sigs\n",
    "sigs.firwin2(10,[0,0.2,0.6,1], [1,1,3,0])"
   ]
  },
  {
   "cell_type": "code",
   "execution_count": 544,
   "metadata": {
    "ExecuteTime": {
     "end_time": "2018-10-22T13:15:45.475266Z",
     "start_time": "2018-10-22T13:15:45.446473Z"
    }
   },
   "outputs": [
    {
     "data": {
      "text/plain": [
       "array([  0.99048861,   1.98097722,   2.97146583,   3.96195443,\n",
       "         4.95244304,   5.94293165,   6.93342026,   7.92390887,\n",
       "         8.91439748,   9.90488608,  10.89537469,  11.8858633 ,\n",
       "        12.87635191,  13.86684052,  14.85732913,  15.84781773,\n",
       "        16.83830634,  17.82879495,  18.81928356,  19.80977217,\n",
       "        20.80026078,  21.79074939,  22.78123799,  23.7717266 ,\n",
       "        24.76221521,  25.75270382,  26.74319243,  27.73368104,\n",
       "        28.72416964,  29.71465825,  30.70514686,  31.69563547,\n",
       "        32.68612408,  33.67661269,  34.66710129])"
      ]
     },
     "execution_count": 544,
     "metadata": {},
     "output_type": "execute_result"
    }
   ],
   "source": [
    "b = fir2(10,np.array([0]+[0.4, 0.4]+[1]), np.array([1,1,2,2]))\n",
    "sigs.filtfilt(b,a=1,x=np.linspace(1,35,35),padtype='odd')"
   ]
  },
  {
   "cell_type": "code",
   "execution_count": 117,
   "metadata": {
    "ExecuteTime": {
     "end_time": "2018-10-20T15:56:09.346848Z",
     "start_time": "2018-10-20T15:56:09.340688Z"
    }
   },
   "outputs": [
    {
     "data": {
      "text/plain": [
       "True"
      ]
     },
     "execution_count": 117,
     "metadata": {},
     "output_type": "execute_result"
    }
   ],
   "source": [
    "any(np.diff(ff.T)[0] < 0)"
   ]
  },
  {
   "cell_type": "code",
   "execution_count": 73,
   "metadata": {
    "ExecuteTime": {
     "end_time": "2018-10-23T06:12:35.006112Z",
     "start_time": "2018-10-23T06:12:34.706929Z"
    }
   },
   "outputs": [],
   "source": [
    "def fftfilt(b, x, nfft=None):\n",
    "    from scipy import fft, ifft\n",
    "    m = x.shape[0]\n",
    "    if m == 1:\n",
    "        x = x.reshape((-1,1))  # turn row into a column\n",
    "    nx = x.shape[0]\n",
    "    \n",
    "    if min(b.shape) > 1:\n",
    "        assert b.shape[1] == x.shape[1] and x.shape[1] <=1, \"signal:fftfilt:InvalidDimensions\"\n",
    "    else:\n",
    "        b = b.reshape((-1,1))   # make input a column\n",
    "    nb = b.shape[0]\n",
    "    \n",
    "    if nfft == None:\n",
    "        # figure out which nfft and L to use\n",
    "        if (nb >= nx) or (nb > 2**20):  # take a single FFT in this case\n",
    "            nfft = 2**round(np.log(nb+nx-1)/np.log(2))\n",
    "            L = nx\n",
    "        else:\n",
    "            fftflops = np.array([ 18,59,138,303,660,1441,3150,6875,14952,32373,69762,\n",
    "                                 149647,319644,680105,1441974,3047619,6422736,13500637,\n",
    "                                 28311786,59244791,59244791*2.09])\n",
    "            n = 2**np.arange(1,22,1)\n",
    "            validset = np.nonzero(n > (nb -1))[0]   # must have nfft > (nb-1)\n",
    "            n = n[validset]\n",
    "            fftflops = fftflops[validset]\n",
    "            # minimize (number of blocks) * (number of flops per fft)\n",
    "            L = n - (nb - 1)\n",
    "            temp = np.ceil(nx/L) * fftflops\n",
    "            dum, ind = np.min(temp), np.argmin(temp)\n",
    "            nfft = n[ind]\n",
    "            L = L[ind]\n",
    "            \n",
    "    else:  # nfft is given\n",
    "        # Cast to enforce precision rules\n",
    "        raise\n",
    "        '''\n",
    "        nfft = signal.internal.sigcasttofloat(nfft,'double','fftfilt','N','allownumeric');\n",
    "        if nfft < nb\n",
    "            nfft = nb;\n",
    "        end\n",
    "        nfft = 2.^(ceil(log(nfft)/log(2))); % force this to a power of 2 for speed\n",
    "        L = nfft - nb + 1;        \n",
    "        '''\n",
    "    # Check the input data type. Single precision is not supported.\n",
    "    '''\n",
    "    try\n",
    "        chkinputdatatype(b,x,nfft);\n",
    "    catch ME\n",
    "        throwAsCaller(ME);\n",
    "    end'''\n",
    "    B = fft(b.T, nfft).T\n",
    "    if b.size == 1:\n",
    "        B = B.T     # make sure fft of B is a column (might be a row if b is scalar)\n",
    "    if b.shape[1] == 1:\n",
    "        B = np.repeat(B, [x.shape[1],],axis=1)    # replicate the column B \n",
    "    if x.shape[1] == 1:\n",
    "        x = np.repeat(x, [b.shape[1],],axis=1)   # replicate the column x \n",
    "    y = np.zeros_like(x)\n",
    "\n",
    "    istart = 1\n",
    "    while istart <= nx:\n",
    "        iend = min(istart+L-1, nx)\n",
    "        if (iend - istart) == 0:\n",
    "            X = x[istart] * np.ones((nfft,1))  # need to fft a scalar\n",
    "        else:\n",
    "            X = fft(x[istart-1:iend,:].T, nfft).T\n",
    "#         print(X)\n",
    "#         print(B)\n",
    "        Y = ifft((X * B).T).T\n",
    "        yend = min(nx,istart+nfft-1)\n",
    "#         print(istart, yend)\n",
    "        y[istart-1:yend,:] = y[istart-1:yend,:] + Y[:(yend-istart+1),:]\n",
    "        istart += L\n",
    "    y = np.real(y)\n",
    "    if (m == 1) and (y.shape[1] == 1):\n",
    "        y = y.T    # turn column back into a row\n",
    "    return y\n",
    "    \n",
    "# fs = 100\n",
    "# t = np.linspace(0, 1, 101)\n",
    "# x = np.sin(2*np.pi*t*3)+.25*np.sin(2*np.pi*t*40)\n",
    "# b = np.ones((1,10))/10\n",
    "# y = fftfilt(b, x.reshape((1,-1)))[0]\n"
   ]
  },
  {
   "cell_type": "code",
   "execution_count": null,
   "metadata": {
    "ExecuteTime": {
     "end_time": "2018-10-22T15:42:44.538923Z",
     "start_time": "2018-10-22T15:42:11.161Z"
    }
   },
   "outputs": [],
   "source": [
    "istart = 2\n",
    "istart * np.ones((3,1))"
   ]
  },
  {
   "cell_type": "code",
   "execution_count": 37,
   "metadata": {
    "ExecuteTime": {
     "end_time": "2018-10-22T15:40:18.406675Z",
     "start_time": "2018-10-22T15:40:18.397192Z"
    }
   },
   "outputs": [
    {
     "data": {
      "text/plain": [
       "(55, 1)"
      ]
     },
     "execution_count": 37,
     "metadata": {},
     "output_type": "execute_result"
    }
   ],
   "source": [
    "iend = 55\n",
    "istart = 1\n",
    "x.reshape((-1,1))[istart-1:iend,:].shape"
   ]
  },
  {
   "cell_type": "code",
   "execution_count": 587,
   "metadata": {
    "ExecuteTime": {
     "end_time": "2018-10-22T13:52:30.076205Z",
     "start_time": "2018-10-22T13:52:30.064030Z"
    }
   },
   "outputs": [
    {
     "data": {
      "text/plain": [
       "array([     16,      32,      64,     128,     256,     512,    1024,\n",
       "          2048,    4096,    8192,   16384,   32768,   65536,  131072,\n",
       "        262144,  524288, 1048576, 2097152])"
      ]
     },
     "execution_count": 587,
     "metadata": {},
     "output_type": "execute_result"
    }
   ],
   "source": [
    "fft(x[istart-1:iend,:], nfft)"
   ]
  },
  {
   "cell_type": "code",
   "execution_count": 563,
   "metadata": {
    "ExecuteTime": {
     "end_time": "2018-10-22T13:30:32.690535Z",
     "start_time": "2018-10-22T13:30:32.685585Z"
    }
   },
   "outputs": [],
   "source": [
    "b = np.ones((1,10))/10"
   ]
  },
  {
   "cell_type": "code",
   "execution_count": 549,
   "metadata": {
    "ExecuteTime": {
     "end_time": "2018-10-22T13:24:54.110828Z",
     "start_time": "2018-10-22T13:24:54.101071Z"
    }
   },
   "outputs": [
    {
     "data": {
      "text/plain": [
       "(101,)"
      ]
     },
     "execution_count": 549,
     "metadata": {},
     "output_type": "execute_result"
    }
   ],
   "source": [
    "x.T.shape"
   ]
  },
  {
   "cell_type": "code",
   "execution_count": null,
   "metadata": {},
   "outputs": [],
   "source": []
  },
  {
   "cell_type": "code",
   "execution_count": 601,
   "metadata": {
    "ExecuteTime": {
     "end_time": "2018-10-19T17:29:04.457104Z",
     "start_time": "2018-10-19T17:29:04.440039Z"
    }
   },
   "outputs": [
    {
     "name": "stdout",
     "output_type": "stream",
     "text": [
      "[ 0.   0.2  0.5  0.2  0.5  0.8  0.9  0.9  1. ]\n",
      "[2]\n",
      "[ 0.    0.2   0.35  0.35  0.5   0.8   0.9   0.9   1.  ]\n"
     ]
    }
   ],
   "source": [
    "grid_n = 128.0\n",
    "ramp_n = 0.45\n",
    "ll = np.array([0,0.2,0.5,0.2,0.5,0.8,0.9,0.9,1])\n",
    "basell = ll.copy()\n",
    "print(ll)\n",
    "idx = np.argwhere(np.diff(ll) < 0).T[0]\n",
    "print(idx)\n",
    "ll[idx] = ll[idx+1] = (basell[idx]+ basell[idx+1])/2\n",
    "print(ll)"
   ]
  },
  {
   "cell_type": "code",
   "execution_count": 456,
   "metadata": {
    "ExecuteTime": {
     "end_time": "2018-10-19T16:47:42.890643Z",
     "start_time": "2018-10-19T16:47:42.870978Z"
    }
   },
   "outputs": [
    {
     "name": "stdout",
     "output_type": "stream",
     "text": [
      "[13 14 15 16]\n"
     ]
    },
    {
     "data": {
      "text/plain": [
       "array([ 13.,  14.,  15.,  16.])"
      ]
     },
     "execution_count": 456,
     "metadata": {},
     "output_type": "execute_result"
    }
   ],
   "source": [
    "from scipy.fftpack import ifft\n",
    "bb = ifft(np.concatenate([ll,ll[-2:0:-1]]))\n",
    "grid_n = 8\n",
    "n = 10\n",
    "mid = (n+1)/2\n",
    "2*grid_n-np.floor(mid)+1\n",
    "2*grid_n\n",
    "\n",
    "# bb[[range(2*grid_n-np.floor(mid).astype('int')+1, 2*grid_n + 1)]]\n",
    "# np.ceil(mid).astype('int')\n",
    "print(np.arange(2*grid_n-np.floor(mid)+1+1, 2*grid_n+1, dtype='int'))\n",
    "bbb = np.linspace(1,16,16)\n",
    "bbb[np.arange(2*grid_n-np.floor(mid)+1, 2*grid_n, dtype='int')]"
   ]
  },
  {
   "cell_type": "code",
   "execution_count": 431,
   "metadata": {
    "ExecuteTime": {
     "end_time": "2018-10-19T16:40:42.516048Z",
     "start_time": "2018-10-19T16:40:42.508219Z"
    }
   },
   "outputs": [
    {
     "data": {
      "text/plain": [
       "array([[ 0.045     ],\n",
       "       [-0.02556818],\n",
       "       [-0.00102619],\n",
       "       [ 0.00182893],\n",
       "       [-0.0183776 ],\n",
       "       [-0.02492477],\n",
       "       [ 0.00403116],\n",
       "       [-0.00866025],\n",
       "       [ 0.        ],\n",
       "       [-0.00797964],\n",
       "       [ 0.00340295],\n",
       "       [-0.01903615],\n",
       "       [-0.01243288],\n",
       "       [ 0.00106743],\n",
       "       [-0.00052931],\n",
       "       [-0.01707832]])"
      ]
     },
     "execution_count": 431,
     "metadata": {},
     "output_type": "execute_result"
    }
   ],
   "source": [
    "# np.in(2*grid_n-np.floor(mid)+1, 2*grid_n,num=, dtype = 'int')\n",
    "np.real(bb).reshape(-1,1)*np.hamming(16).reshape(-1,1)"
   ]
  },
  {
   "cell_type": "code",
   "execution_count": 432,
   "metadata": {
    "ExecuteTime": {
     "end_time": "2018-10-19T16:40:52.982970Z",
     "start_time": "2018-10-19T16:40:52.975738Z"
    }
   },
   "outputs": [
    {
     "data": {
      "text/plain": [
       "array([ 0.045     , -0.02556818, -0.00102619,  0.00182893, -0.0183776 ,\n",
       "       -0.02492477,  0.00403116, -0.00866025,  0.        , -0.00797964,\n",
       "        0.00340295, -0.01903615, -0.01243288,  0.00106743, -0.00052931,\n",
       "       -0.01707832])"
      ]
     },
     "execution_count": 432,
     "metadata": {},
     "output_type": "execute_result"
    }
   ],
   "source": [
    "np.real(bb)*np.hamming(16)"
   ]
  },
  {
   "cell_type": "code",
   "execution_count": 439,
   "metadata": {
    "ExecuteTime": {
     "end_time": "2018-10-19T16:41:36.219394Z",
     "start_time": "2018-10-19T16:41:36.211519Z"
    }
   },
   "outputs": [
    {
     "data": {
      "text/plain": [
       "1"
      ]
     },
     "execution_count": 439,
     "metadata": {},
     "output_type": "execute_result"
    }
   ],
   "source": [
    "np.real(bb).reshape(-1,1).shape[-1]"
   ]
  },
  {
   "cell_type": "code",
   "execution_count": 329,
   "metadata": {
    "ExecuteTime": {
     "end_time": "2018-10-19T16:03:36.241987Z",
     "start_time": "2018-10-19T16:03:36.233158Z"
    }
   },
   "outputs": [
    {
     "data": {
      "text/plain": [
       "array([[ 9.86842105],\n",
       "       [ 9.73684211],\n",
       "       [ 9.93421053],\n",
       "       [ 5.06578947],\n",
       "       [ 7.63157895],\n",
       "       [ 7.56578947],\n",
       "       [ 7.5       ]])"
      ]
     },
     "execution_count": 329,
     "metadata": {},
     "output_type": "execute_result"
    }
   ],
   "source": [
    "interp1d(xp, fp, kind='linear')(x.reshape(-1,1))"
   ]
  },
  {
   "cell_type": "code",
   "execution_count": 328,
   "metadata": {
    "ExecuteTime": {
     "end_time": "2018-10-19T16:03:31.424614Z",
     "start_time": "2018-10-19T16:03:31.417758Z"
    }
   },
   "outputs": [
    {
     "data": {
      "text/plain": [
       "array([[-180],\n",
       "       [-170],\n",
       "       [-185],\n",
       "       [ 185],\n",
       "       [ -10],\n",
       "       [  -5],\n",
       "       [   0]])"
      ]
     },
     "execution_count": 328,
     "metadata": {},
     "output_type": "execute_result"
    }
   ],
   "source": [
    "x.reshape(-1,1)"
   ]
  },
  {
   "cell_type": "code",
   "execution_count": 5,
   "metadata": {
    "ExecuteTime": {
     "end_time": "2018-10-23T05:44:52.778774Z",
     "start_time": "2018-10-23T05:44:52.770446Z"
    }
   },
   "outputs": [
    {
     "data": {
      "text/plain": [
       "array([[  9.00000000e+00,   1.73707227e-21],\n",
       "       [  9.02047113e+00,   2.17351569e-21],\n",
       "       [  9.04098882e+00,   2.92374984e-21],\n",
       "       ..., \n",
       "       [  8.15486021e+03,   3.51734547e-23],\n",
       "       [  8.17340901e+03,   3.52527968e-23],\n",
       "       [  8.19200000e+03,   3.53323209e-23]])"
      ]
     },
     "execution_count": 5,
     "metadata": {},
     "output_type": "execute_result"
    }
   ],
   "source": [
    "targetSens"
   ]
  },
  {
   "cell_type": "code",
   "execution_count": 130,
   "metadata": {
    "ExecuteTime": {
     "end_time": "2018-10-23T06:46:16.389157Z",
     "start_time": "2018-10-23T06:46:14.264438Z"
    }
   },
   "outputs": [
    {
     "data": {
      "image/png": "[encoded data removed]",
      "text/plain": [
       "<matplotlib.figure.Figure at 0x122ed6cc0>"
      ]
     },
     "metadata": {
      "needs_background": "light"
     },
     "output_type": "display_data"
    },
    {
     "name": "stderr",
     "output_type": "stream",
     "text": [
      "/Users/Herb/anaconda3/lib/python3.6/site-packages/ipykernel_launcher.py:73: ComplexWarning: Casting complex values to real discards the imaginary part\n"
     ]
    },
    {
     "data": {
      "image/png": "[encoded data removed]",
      "text/plain": [
       "<matplotlib.figure.Figure at 0x126f2c978>"
      ]
     },
     "metadata": {
      "needs_background": "light"
     },
     "output_type": "display_data"
    },
    {
     "data": {
      "image/png": "[encoded data removed]",
      "text/plain": [
       "<matplotlib.figure.Figure at 0x125c9e198>"
      ]
     },
     "metadata": {
      "needs_background": "light"
     },
     "output_type": "display_data"
    },
    {
     "data": {
      "image/png": "[encoded data removed]",
      "text/plain": [
       "<matplotlib.figure.Figure at 0x125c62908>"
      ]
     },
     "metadata": {
      "needs_background": "light"
     },
     "output_type": "display_data"
    }
   ],
   "source": [
    "from scipy import fft\n",
    "from scipy.signal import welch\n",
    "\n",
    "# Generate simulated GW detector noise\n",
    "# File containing target sensitivity curve (first column is frequency and\n",
    "#  second column is square root of PSD).\n",
    "targetSens = np.loadtxt('ZERO_DET_high_P.txt')\n",
    "\n",
    "# Plot the target sensitivity.\n",
    "plt.loglog(targetSens[:,0], targetSens[:,1])\n",
    "plt.xlabel('Frequency (Hz)')\n",
    "plt.ylabel(r'Strain Sensitivity ($1/\\sqrt{Hz}$)')\n",
    "\n",
    "# Select pass band.\n",
    "fLow = 40 #Hz\n",
    "fHigh = 1024 #Hz\n",
    "targetSens[(targetSens[:,0] <= fLow) + (targetSens[:,0] >=fHigh), 1] = 0\n",
    "plt.loglog(targetSens[:,0], targetSens[:,1])\n",
    "plt.show()\n",
    "\n",
    "# Sampling frequency of the data to be generated (should be less than half\n",
    "# of the maximum frequency in target PSD.\n",
    "fs = 4096 #Hz\n",
    "\n",
    "## Design filter\n",
    "# B = fir2(N,F,A) designs an Nth order linear phase FIR digital filter with\n",
    "# the frequency response specified by vectors F and A and returns the\n",
    "# filter coefficients in length N+1 vector B.  The frequencies in F must be\n",
    "# given in increasing order with 0.0 < F < 1.0 and 1.0 corresponding to\n",
    "# half the sample rate.\n",
    "##\n",
    "# FIR filter order\n",
    "filtOrdr = 100\n",
    "##\n",
    "# We only include frequencies up to the Nyquist frequency (half of sampling\n",
    "# frequency) when designing the filter.\n",
    "indxfCut = (targetSens[:,0] <= fs/2)\n",
    "targetSens = targetSens[indxfCut, :]\n",
    "\n",
    "# Add 0 frequency and corresponding PSD value\n",
    "# as per the requirement of FIR2. Similarly add Nyquist frequency.\n",
    "if targetSens[0,0] > 0:\n",
    "    addZero = 1\n",
    "else:\n",
    "    addZero = 0\n",
    "\n",
    "if targetSens[-1,0] < fs/2:\n",
    "    addNyq = 1\n",
    "else:\n",
    "    addNyq = 0\n",
    "##\n",
    "if addZero:\n",
    "    targetSens = np.concatenate((np.zeros((1,2)), targetSens))\n",
    "if addNyq:\n",
    "    targetSens = np.concatenate((targetSens, np.array([[fs/2, 0]])));\n",
    "##\n",
    "# Obtain filter coefficients. \n",
    "b = fir2(filtOrdr, targetSens[:,0]/(fs/2), targetSens[:,1])\n",
    "##\n",
    "# Compare target and designed quantities\n",
    "# Get the impulse response\n",
    "impDataNSamples = 2048\n",
    "impSample = int(np.floor(impDataNSamples/2))\n",
    "impVec = np.zeros((1,impDataNSamples))\n",
    "impVec[0][impSample-1] = 1\n",
    "impResp = fftfilt(b.reshape((-1,1)),impVec)\n",
    "##\n",
    "# Get the transfer function\n",
    "designTf = fft(impResp)\n",
    "##\n",
    "# Plot the magnitude of the filter transfer function.\n",
    "kNyq = int(np.floor(impDataNSamples/2)+1)\n",
    "posFreq = np.arange(kNyq) * (1/(impDataNSamples/fs))\n",
    "plt.plot(posFreq,abs(designTf[0][:kNyq]), label = 'Designed')\n",
    "plt.plot(targetSens[:,0],targetSens[:,1], label = 'Target')\n",
    "plt.ylabel('TF magnitude')\n",
    "plt.xlabel('Frequency (Hz)')\n",
    "plt.legend()\n",
    "plt.show()\n",
    "\n",
    "## Generate noise\n",
    "# Pass a white noise sequence through the designed filter.\n",
    "nDataSamples = 16384\n",
    "inputNoise = np.random.randn(1,nDataSamples)\n",
    "outputNoise = fftfilt(b.reshape((-1,1)),inputNoise)[0]\n",
    "plt.plot(np.arange((nDataSamples-1)+1)/fs, \n",
    "         outputNoise)\n",
    "plt.show()\n",
    "##\n",
    "# Estimate PSD of simulated noise. *Note*: Scaling may be off because of\n",
    "# (a) factors involved in discrete version of Wiener-Khinchin theorem, and\n",
    "# (b) factors involved in how pwelch defines PSD. This can be easily\n",
    "# corrected by multiplying with an overall factor (exercise: work out the\n",
    "# factor!).\n",
    "[f, pxx] = welch(x = outputNoise,nperseg=2048, fs = fs)\n",
    "plt.plot(f, np.sqrt(pxx))\n",
    "\n",
    "plt.xlabel('Frequency (Hz)')\n",
    "plt.ylabel('$[PSD]^{1/2}$')\n",
    "plt.show()"
   ]
  },
  {
   "cell_type": "code",
   "execution_count": 125,
   "metadata": {
    "ExecuteTime": {
     "end_time": "2018-10-23T06:43:21.092420Z",
     "start_time": "2018-10-23T06:43:21.085389Z"
    }
   },
   "outputs": [
    {
     "data": {
      "text/plain": [
       "(1025,)"
      ]
     },
     "execution_count": 125,
     "metadata": {},
     "output_type": "execute_result"
    }
   ],
   "source": [
    "pxx.shape"
   ]
  },
  {
   "cell_type": "code",
   "execution_count": 104,
   "metadata": {
    "ExecuteTime": {
     "end_time": "2018-10-23T06:26:23.798934Z",
     "start_time": "2018-10-23T06:26:23.790055Z"
    }
   },
   "outputs": [
    {
     "data": {
      "text/plain": [
       "array([ 0.,  1.,  2.,  3.,  4.])"
      ]
     },
     "execution_count": 104,
     "metadata": {},
     "output_type": "execute_result"
    }
   ],
   "source": [
    "np.arange((nDataSamples-1)/fs+1)"
   ]
  },
  {
   "cell_type": "code",
   "execution_count": 105,
   "metadata": {
    "ExecuteTime": {
     "end_time": "2018-10-23T06:26:28.041149Z",
     "start_time": "2018-10-23T06:26:28.034645Z"
    }
   },
   "outputs": [
    {
     "data": {
      "text/plain": [
       "16384"
      ]
     },
     "execution_count": 105,
     "metadata": {},
     "output_type": "execute_result"
    }
   ],
   "source": [
    "nDataSamples"
   ]
  },
  {
   "cell_type": "code",
   "execution_count": null,
   "metadata": {},
   "outputs": [],
   "source": []
  }
 ],
 "metadata": {
  "anaconda-cloud": {},
  "kernelspec": {
   "display_name": "Python 3",
   "language": "python",
   "name": "python3"
  },
  "language_info": {
   "codemirror_mode": {
    "name": "ipython",
    "version": 3
   },
   "file_extension": ".py",
   "mimetype": "text/x-python",
   "name": "python",
   "nbconvert_exporter": "python",
   "pygments_lexer": "ipython3",
   "version": "3.6.2"
  },
  "nbTranslate": {
   "displayLangs": [
    "*"
   ],
   "hotkey": "alt-t",
   "langInMainMenu": true,
   "sourceLang": "en",
   "targetLang": "fr",
   "useGoogleTranslate": true
  },
  "toc": {
   "nav_menu": {},
   "number_sections": true,
   "sideBar": true,
   "skip_h1_title": false,
   "toc_cell": false,
   "toc_position": {},
   "toc_section_display": "block",
   "toc_window_display": false
  }
 },
 "nbformat": 4,
 "nbformat_minor": 2
}
