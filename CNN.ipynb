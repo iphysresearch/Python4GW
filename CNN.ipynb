{
 "cells": [
  {
   "cell_type": "markdown",
   "metadata": {
    "toc": true
   },
   "source": [
    "<h1>Table of Contents<span class=\"tocSkip\"></span></h1>\n",
    "<div class=\"toc\" style=\"margin-top: 1em;\"><ul class=\"toc-item\"><li><span><a href=\"#ConvNets\" data-toc-modified-id=\"ConvNets-1\"><span class=\"toc-item-num\">1&nbsp;&nbsp;</span>ConvNets</a></span><ul class=\"toc-item\"><li><span><a href=\"#Load-library\" data-toc-modified-id=\"Load-library-1.1\"><span class=\"toc-item-num\">1.1&nbsp;&nbsp;</span>Load library</a></span></li></ul></li><li><span><a href=\"#One-Channels\" data-toc-modified-id=\"One-Channels-2\"><span class=\"toc-item-num\">2&nbsp;&nbsp;</span>One Channels</a></span><ul class=\"toc-item\"><li><span><a href=\"#Load-Data\" data-toc-modified-id=\"Load-Data-2.1\"><span class=\"toc-item-num\">2.1&nbsp;&nbsp;</span>Load Data</a></span></li><li><span><a href=\"#Preparing-dataset\" data-toc-modified-id=\"Preparing-dataset-2.2\"><span class=\"toc-item-num\">2.2&nbsp;&nbsp;</span>Preparing dataset</a></span></li><li><span><a href=\"#Modeling\" data-toc-modified-id=\"Modeling-2.3\"><span class=\"toc-item-num\">2.3&nbsp;&nbsp;</span>Modeling</a></span></li><li><span><a href=\"#Transfer-learning\" data-toc-modified-id=\"Transfer-learning-2.4\"><span class=\"toc-item-num\">2.4&nbsp;&nbsp;</span>Transfer learning</a></span></li></ul></li><li><span><a href=\"#One-Channels-(random)\" data-toc-modified-id=\"One-Channels-(random)-3\"><span class=\"toc-item-num\">3&nbsp;&nbsp;</span>One Channels (random)</a></span><ul class=\"toc-item\"><li><span><a href=\"#Load-Data\" data-toc-modified-id=\"Load-Data-3.1\"><span class=\"toc-item-num\">3.1&nbsp;&nbsp;</span>Load Data</a></span></li><li><span><a href=\"#Split-the-data\" data-toc-modified-id=\"Split-the-data-3.2\"><span class=\"toc-item-num\">3.2&nbsp;&nbsp;</span>Split the data</a></span></li><li><span><a href=\"#Random-the-peak\" data-toc-modified-id=\"Random-the-peak-3.3\"><span class=\"toc-item-num\">3.3&nbsp;&nbsp;</span>Random the peak</a></span></li></ul></li><li><span><a href=\"#Two-Channels\" data-toc-modified-id=\"Two-Channels-4\"><span class=\"toc-item-num\">4&nbsp;&nbsp;</span>Two Channels</a></span><ul class=\"toc-item\"><li><span><a href=\"#Load-Data\" data-toc-modified-id=\"Load-Data-4.1\"><span class=\"toc-item-num\">4.1&nbsp;&nbsp;</span>Load Data</a></span></li><li><span><a href=\"#Check-the-efficiency-of-the-generator-of-colored-noises\" data-toc-modified-id=\"Check-the-efficiency-of-the-generator-of-colored-noises-4.2\"><span class=\"toc-item-num\">4.2&nbsp;&nbsp;</span>Check the efficiency of the generator of colored noises</a></span></li><li><span><a href=\"#Predict\" data-toc-modified-id=\"Predict-4.3\"><span class=\"toc-item-num\">4.3&nbsp;&nbsp;</span>Predict</a></span></li><li><span><a href=\"#Plot-AUC\" data-toc-modified-id=\"Plot-AUC-4.4\"><span class=\"toc-item-num\">4.4&nbsp;&nbsp;</span>Plot AUC</a></span></li></ul></li></ul></div>"
   ]
  },
  {
   "cell_type": "code",
   "execution_count": null,
   "metadata": {},
   "outputs": [],
   "source": []
  },
  {
   "cell_type": "markdown",
   "metadata": {},
   "source": [
    "# ConvNets"
   ]
  },
  {
   "cell_type": "code",
   "execution_count": null,
   "metadata": {},
   "outputs": [],
   "source": []
  },
  {
   "cell_type": "markdown",
   "metadata": {},
   "source": [
    "## Load library"
   ]
  },
  {
   "cell_type": "code",
   "execution_count": 1,
   "metadata": {
    "ExecuteTime": {
     "end_time": "2018-10-14T03:12:16.862233Z",
     "start_time": "2018-10-14T03:12:03.634911Z"
    }
   },
   "outputs": [
    {
     "name": "stdout",
     "output_type": "stream",
     "text": [
      "CPU or GPU? :  cpu(0)\n"
     ]
    }
   ],
   "source": [
    "import sys, os\n",
    "sys.path.append(os.path.abspath(''))   # 把当前目录设为引用模块的地址之一\n",
    "\n",
    "from utils import *\n",
    "from data_utils import *\n",
    "from models.solver_cnn import *\n",
    "from models.ConvNet import *\n",
    "\n",
    "import numpy as np\n",
    "import pandas as pd\n",
    "from itertools import product, permutations\n",
    "\n",
    "import matplotlib.pyplot as plt\n",
    "%matplotlib inline\n",
    "\n",
    "# for auto-re00loading external modules\n",
    "# see http://stackoverflow.com/questions/1907993/autoreload-of-modules-in-ipython\n",
    "%load_ext autoreload\n",
    "%autoreload 2\n",
    "\n",
    "# Easily Profile Python Code in Jupyter\n",
    "# install conda install line_profiler or pip install line-profiler\n",
    "# see http://mortada.net/easily-profile-python-code-in-jupyter.html\n",
    "%load_ext line_profiler\n",
    "\n",
    "test_ctx()"
   ]
  },
  {
   "cell_type": "markdown",
   "metadata": {},
   "source": [
    "# One Channels\n",
    "\n",
    "## Load Data"
   ]
  },
  {
   "cell_type": "code",
   "execution_count": 2,
   "metadata": {},
   "outputs": [
    {
     "name": "stdout",
     "output_type": "stream",
     "text": [
      "The shape of colored noise: (1000, 8192)\n",
      "The shape of training GW sinals: (704, 8192)\n",
      "The shape of testing GW sinals: (736, 8192)\n"
     ]
    },
    {
     "data": {
      "image/png": "[encoded data removed]",
      "text/plain": [
       "<matplotlib.figure.Figure at 0x11b43a9b0>"
      ]
     },
     "metadata": {},
     "output_type": "display_data"
    },
    {
     "name": "stdout",
     "output_type": "stream",
     "text": [
      "CPU times: user 13 s, sys: 727 ms, total: 13.7 s\n",
      "Wall time: 14.2 s\n"
     ]
    }
   ],
   "source": [
    "%%time\n",
    "if ctx == mx.cpu():\n",
    "    GW_address = './data/GW_data/'\n",
    "    noise_GWtrain = pd.read_csv(GW_address+'LigoNose9_9000_8192_2.csv', index_col=0, nrows=1000)\n",
    "    noise_puretrain = noise_GWtrain\n",
    "    noise_GWtest = noise_GWtrain\n",
    "    noise_puretest = noise_GWtrain\n",
    "    print('The shape of colored noise:', noise_GWtrain.shape)\n",
    "elif ctx == mx.gpu():\n",
    "    GW_address = '../input/'\n",
    "\n",
    "GW_train = pd.read_csv(GW_address + 'GW_train_full.csv',index_col=0)\n",
    "GW_test = pd.read_csv(GW_address + 'GW_test_full.csv',index_col=0)\n",
    "print('The shape of training GW sinals:', GW_train.shape)\n",
    "print('The shape of testing GW sinals:', GW_test.shape)\n",
    "\n",
    "plt.plot(GW_train.sample(1).values[0])\n",
    "plt.show()\n",
    "\n",
    "GW_train.head()"
   ]
  },
  {
   "cell_type": "markdown",
   "metadata": {},
   "source": [
    "## Preparing dataset"
   ]
  },
  {
   "cell_type": "code",
   "execution_count": 72,
   "metadata": {},
   "outputs": [
    {
     "name": "stdout",
     "output_type": "stream",
     "text": [
      "Found same value in: ['GW_train', 'GW_data']\n",
      "Found same value in: ['GW_test', 'GW_data']\n",
      "\n",
      "Finished!\n",
      "\n",
      "GW_train_1 (1408, 8199)\n",
      "GW_test_1 (1472, 8199)\n",
      "CPU times: user 13.9 s, sys: 2.09 s, total: 16 s\n",
      "Wall time: 17.8 s\n"
     ]
    }
   ],
   "source": [
    "%%time\n",
    "sampling_freq = GW_train.shape[-1]\n",
    "colomns = [ str(i) for i in range(sampling_freq)] + ['mass','positions','gaps','max_peak','sigma','SNR_mf','SNR_mf0']\n",
    "\n",
    "dataset = {}\n",
    "for SNR, (GW_data, noise_GW, noise_pure) in product([1], [(GW_train, noise_GWtrain, noise_puretrain), (GW_test, noise_GWtest, noise_puretest) ]):\n",
    "    data = creat_data(GW_data, noise_GW, 1)\n",
    "    dataset[retrieve_name(GW_data)+'_'+str(SNR)] = pd.concat([data, noise_pure.iloc[:data.shape[0],:]])[colomns]\n",
    "print()\n",
    "print('Finished!')\n",
    "print()\n",
    "\n",
    "for key in dataset.keys():\n",
    "    print(key, dataset[key].shape)"
   ]
  },
  {
   "cell_type": "code",
   "execution_count": null,
   "metadata": {},
   "outputs": [],
   "source": []
  },
  {
   "cell_type": "markdown",
   "metadata": {},
   "source": [
    "## Modeling\n",
    "\n",
    "> use `oldversion=True`"
   ]
  },
  {
   "cell_type": "code",
   "execution_count": 458,
   "metadata": {},
   "outputs": [
    {
     "name": "stdout",
     "output_type": "stream",
     "text": [
      "self.train.shape != self.test.shape\n",
      "Label for training: (1408,)\n",
      "Dataset for training: (1408, 8192)\n",
      "\n",
      "Label for testing: (1472,)\n",
      "Dataset for testing: (1472, 8192)\n",
      "\n"
     ]
    }
   ],
   "source": [
    "OURS = ConvNet(conv_params = {'kernel': ((1,16), (1,16), (1,16)), \n",
    "                               'num_filter': (16, 32, 64),\n",
    "                               'stride': ((1,1), (1,1), (1,1)),\n",
    "                               'padding': ((0,0), (0,0), (0,0)),\n",
    "                               'dilate': ((1,1), (1,1), (1,1))},\n",
    "                act_params = {'act_type': ('relu', 'relu', 'relu', 'relu')},\n",
    "                pool_params = {'pool_type': ('max', 'max', 'max'),\n",
    "                               'kernel': ((1,16), (1,16), (1,16)),\n",
    "                               'stride': ((1,2), (1,2), (1,2)),\n",
    "                               'padding': ((0,0), (0,0), (0,0)),\n",
    "                               'dilate': ((1,1), (1,1), (1,1))},\n",
    "                fc_params = {'hidden_dim': (64,)},\n",
    ")\n",
    "Solver = Solver_nd(model = OURS, train = dataset['GW_train_1'], test = dataset['GW_test_1'], SNR = 10, num_epoch=10\n",
    "                   ,  lr_rate=0.003, oldversion=True)"
   ]
  },
  {
   "cell_type": "code",
   "execution_count": 387,
   "metadata": {},
   "outputs": [
    {
     "name": "stdout",
     "output_type": "stream",
     "text": [
      "\n",
      "Early stoping at epoch=1\n",
      "Finished!\n"
     ]
    }
   ],
   "source": [
    "Solver.Training()"
   ]
  },
  {
   "cell_type": "markdown",
   "metadata": {},
   "source": [
    "## Transfer learning"
   ]
  },
  {
   "cell_type": "code",
   "execution_count": 619,
   "metadata": {},
   "outputs": [],
   "source": [
    "# Transfer training\n",
    "OURS_modified = ConvNet(conv_params = {'kernel': ((1,16), (1,8), (1,8), (1,8), (1,8)), \n",
    "                                       'num_filter': (8, 16, 32, 64, 128),\n",
    "                                       'stride': ((1,1), (1,1), (1,1), (1,1), (1,1)),\n",
    "                                       'padding': ((0,0), (0,0), (0,0), (0,0), (0,0)),\n",
    "                                       'dilate': ((1,1), (1,1), (1,1), (1,1), (1,1))},\n",
    "                        act_params = {'act_type': ('elu', 'elu', 'elu', 'elu', 'elu', 'elu','elu')},\n",
    "                        pool_params = {'pool_type': ('max', 'max', 'max', 'max', 'max'),\n",
    "                                       'kernel': ((1,8), (1,8), (1,8), (1,8), (1,8),),\n",
    "                                       'stride': ((1,2), (1,2), (1,2), (1,2), (1,2),),\n",
    "                                       'padding': ((0,0),(0,0), (0,0), (0,0), (0,0),),\n",
    "                                       'dilate': ((1,1), (1,1), (1,1), (1,1), (1,1),)},\n",
    "                        fc_params = {'hidden_dim': (64,64)}, drop_prob = 0.25\n",
    ")\n",
    "\n",
    "params_MLP = { key: value for key, value in zip(OURS.params.keys(), nd.load('./pretrained_models/ConvNet/OURS_modified_01'))}"
   ]
  },
  {
   "cell_type": "code",
   "execution_count": 620,
   "metadata": {},
   "outputs": [
    {
     "name": "stdout",
     "output_type": "stream",
     "text": [
      "self.train.shape != self.test.shape\n",
      "Label for training: (1408,)\n",
      "Dataset for training: (1408, 8192)\n",
      "\n",
      "Label for testing: (1472,)\n",
      "Dataset for testing: (1472, 8192)\n",
      "\n"
     ]
    }
   ],
   "source": [
    "Solver = Solver_nd(model = OURS_modified, train = dataset['GW_train_1'], test = dataset['GW_test_1'], params=params_MLP ,\n",
    "                   SNR = 1, num_epoch=5\n",
    "                   ,  lr_rate=0.003, oldversion=True)"
   ]
  },
  {
   "cell_type": "code",
   "execution_count": 621,
   "metadata": {},
   "outputs": [
    {
     "name": "stdout",
     "output_type": "stream",
     "text": [
      "Epoch 1, Moving_loss: 0.702700, Epoch_loss(mean): 0.954856, Train_acc 0.8899, Test_acc 0.8954(Best:0.8954)\n",
      "Working on epoch 2. Curr_loss: 0.25199 (complete percent: 0.00/100)\n",
      "Early stoping at epoch=2\n",
      "Finished!\n"
     ]
    }
   ],
   "source": [
    "Solver.Training()"
   ]
  },
  {
   "cell_type": "code",
   "execution_count": 475,
   "metadata": {},
   "outputs": [],
   "source": [
    "# %lprun -f Solver.Training Solver.Training()  # need early stopping"
   ]
  },
  {
   "cell_type": "code",
   "execution_count": 617,
   "metadata": {},
   "outputs": [
    {
     "name": "stdout",
     "output_type": "stream",
     "text": [
      "CONV4_copy        MLP2              OURS_modified_05  activation_elu\n",
      "CONV4_power       MLP3              OURS_modified_06  conv_numfilter1_2\n",
      "CONV5_copy        MLP_fc128         OURS_modified_07  conv_numfilter2\n",
      "CONV5_power       MLP_fc32          OURS_modified_08  dilate2\n",
      "CONV6_copy        OURS_modified_01  OURS_modified_09  dropout_0_25\n",
      "CONV6_power       OURS_modified_02  OURS_modified_1   dropout_0_75\n",
      "CONV7_copy        OURS_modified_03  PLB               droptout_0_5\n",
      "CONV7_power       OURS_modified_04  PRL\n"
     ]
    }
   ],
   "source": [
    "!ls pretrained_models/ConvNet/"
   ]
  },
  {
   "cell_type": "code",
   "execution_count": null,
   "metadata": {},
   "outputs": [],
   "source": []
  },
  {
   "cell_type": "code",
   "execution_count": null,
   "metadata": {},
   "outputs": [],
   "source": []
  },
  {
   "cell_type": "code",
   "execution_count": 6,
   "metadata": {},
   "outputs": [],
   "source": [
    "import os, sys"
   ]
  },
  {
   "cell_type": "code",
   "execution_count": null,
   "metadata": {},
   "outputs": [],
   "source": []
  },
  {
   "cell_type": "markdown",
   "metadata": {},
   "source": [
    "# One Channels (random)\n",
    "\n",
    "## Load Data\n"
   ]
  },
  {
   "cell_type": "code",
   "execution_count": 2,
   "metadata": {
    "ExecuteTime": {
     "end_time": "2018-10-14T03:12:24.567064Z",
     "start_time": "2018-10-14T03:12:23.766449Z"
    }
   },
   "outputs": [
    {
     "name": "stdout",
     "output_type": "stream",
     "text": [
      "(1249, 8192)\n",
      "Peak sampling point at 7371th (0.90s).\n"
     ]
    },
    {
     "data": {
      "text/html": [
       "<div>\n",
       "<style>\n",
       "    .dataframe thead tr:only-child th {\n",
       "        text-align: right;\n",
       "    }\n",
       "\n",
       "    .dataframe thead th {\n",
       "        text-align: left;\n",
       "    }\n",
       "\n",
       "    .dataframe tbody tr th {\n",
       "        vertical-align: top;\n",
       "    }\n",
       "</style>\n",
       "<table border=\"1\" class=\"dataframe\">\n",
       "  <thead>\n",
       "    <tr style=\"text-align: right;\">\n",
       "      <th></th>\n",
       "      <th>0</th>\n",
       "      <th>1</th>\n",
       "      <th>2</th>\n",
       "      <th>3</th>\n",
       "      <th>4</th>\n",
       "      <th>5</th>\n",
       "      <th>6</th>\n",
       "      <th>7</th>\n",
       "      <th>8</th>\n",
       "      <th>9</th>\n",
       "      <th>...</th>\n",
       "      <th>8182</th>\n",
       "      <th>8183</th>\n",
       "      <th>8184</th>\n",
       "      <th>8185</th>\n",
       "      <th>8186</th>\n",
       "      <th>8187</th>\n",
       "      <th>8188</th>\n",
       "      <th>8189</th>\n",
       "      <th>8190</th>\n",
       "      <th>8191</th>\n",
       "    </tr>\n",
       "  </thead>\n",
       "  <tbody>\n",
       "    <tr>\n",
       "      <th>4.00|4.00</th>\n",
       "      <td>-9.812433e-23</td>\n",
       "      <td>-1.016813e-22</td>\n",
       "      <td>-1.049325e-22</td>\n",
       "      <td>-1.078680e-22</td>\n",
       "      <td>-1.104788e-22</td>\n",
       "      <td>-1.127572e-22</td>\n",
       "      <td>-1.146961e-22</td>\n",
       "      <td>-1.162896e-22</td>\n",
       "      <td>-1.175328e-22</td>\n",
       "      <td>-1.184220e-22</td>\n",
       "      <td>...</td>\n",
       "      <td>-0.0</td>\n",
       "      <td>-0.0</td>\n",
       "      <td>-0.0</td>\n",
       "      <td>-0.0</td>\n",
       "      <td>-0.0</td>\n",
       "      <td>-0.0</td>\n",
       "      <td>-0.0</td>\n",
       "      <td>-0.0</td>\n",
       "      <td>-0.0</td>\n",
       "      <td>-0.0</td>\n",
       "    </tr>\n",
       "    <tr>\n",
       "      <th>4.00|4.40</th>\n",
       "      <td>-1.152648e-22</td>\n",
       "      <td>-1.178176e-22</td>\n",
       "      <td>-1.200368e-22</td>\n",
       "      <td>-1.219158e-22</td>\n",
       "      <td>-1.234493e-22</td>\n",
       "      <td>-1.246330e-22</td>\n",
       "      <td>-1.254633e-22</td>\n",
       "      <td>-1.259379e-22</td>\n",
       "      <td>-1.260552e-22</td>\n",
       "      <td>-1.258150e-22</td>\n",
       "      <td>...</td>\n",
       "      <td>-0.0</td>\n",
       "      <td>-0.0</td>\n",
       "      <td>-0.0</td>\n",
       "      <td>-0.0</td>\n",
       "      <td>-0.0</td>\n",
       "      <td>-0.0</td>\n",
       "      <td>-0.0</td>\n",
       "      <td>-0.0</td>\n",
       "      <td>-0.0</td>\n",
       "      <td>-0.0</td>\n",
       "    </tr>\n",
       "    <tr>\n",
       "      <th>4.00|4.80</th>\n",
       "      <td>9.079569e-23</td>\n",
       "      <td>8.562824e-23</td>\n",
       "      <td>8.023045e-23</td>\n",
       "      <td>7.461677e-23</td>\n",
       "      <td>6.880222e-23</td>\n",
       "      <td>6.280235e-23</td>\n",
       "      <td>5.663323e-23</td>\n",
       "      <td>5.031138e-23</td>\n",
       "      <td>4.385375e-23</td>\n",
       "      <td>3.727764e-23</td>\n",
       "      <td>...</td>\n",
       "      <td>-0.0</td>\n",
       "      <td>-0.0</td>\n",
       "      <td>-0.0</td>\n",
       "      <td>-0.0</td>\n",
       "      <td>-0.0</td>\n",
       "      <td>-0.0</td>\n",
       "      <td>-0.0</td>\n",
       "      <td>-0.0</td>\n",
       "      <td>-0.0</td>\n",
       "      <td>-0.0</td>\n",
       "    </tr>\n",
       "    <tr>\n",
       "      <th>4.00|5.20</th>\n",
       "      <td>-1.294046e-22</td>\n",
       "      <td>-1.266225e-22</td>\n",
       "      <td>-1.235170e-22</td>\n",
       "      <td>-1.200961e-22</td>\n",
       "      <td>-1.163684e-22</td>\n",
       "      <td>-1.123433e-22</td>\n",
       "      <td>-1.080311e-22</td>\n",
       "      <td>-1.034427e-22</td>\n",
       "      <td>-9.858974e-23</td>\n",
       "      <td>-9.348458e-23</td>\n",
       "      <td>...</td>\n",
       "      <td>-0.0</td>\n",
       "      <td>-0.0</td>\n",
       "      <td>-0.0</td>\n",
       "      <td>-0.0</td>\n",
       "      <td>-0.0</td>\n",
       "      <td>-0.0</td>\n",
       "      <td>-0.0</td>\n",
       "      <td>-0.0</td>\n",
       "      <td>-0.0</td>\n",
       "      <td>-0.0</td>\n",
       "    </tr>\n",
       "    <tr>\n",
       "      <th>4.00|5.60</th>\n",
       "      <td>1.393361e-23</td>\n",
       "      <td>2.107371e-23</td>\n",
       "      <td>2.816331e-23</td>\n",
       "      <td>3.518515e-23</td>\n",
       "      <td>4.212210e-23</td>\n",
       "      <td>4.895727e-23</td>\n",
       "      <td>5.567399e-23</td>\n",
       "      <td>6.225586e-23</td>\n",
       "      <td>6.868683e-23</td>\n",
       "      <td>7.495120e-23</td>\n",
       "      <td>...</td>\n",
       "      <td>-0.0</td>\n",
       "      <td>-0.0</td>\n",
       "      <td>-0.0</td>\n",
       "      <td>-0.0</td>\n",
       "      <td>-0.0</td>\n",
       "      <td>-0.0</td>\n",
       "      <td>-0.0</td>\n",
       "      <td>-0.0</td>\n",
       "      <td>-0.0</td>\n",
       "      <td>-0.0</td>\n",
       "    </tr>\n",
       "  </tbody>\n",
       "</table>\n",
       "<p>5 rows × 8192 columns</p>\n",
       "</div>"
      ],
      "text/plain": [
       "                   0             1             2             3     \\\n",
       "4.00|4.00 -9.812433e-23 -1.016813e-22 -1.049325e-22 -1.078680e-22   \n",
       "4.00|4.40 -1.152648e-22 -1.178176e-22 -1.200368e-22 -1.219158e-22   \n",
       "4.00|4.80  9.079569e-23  8.562824e-23  8.023045e-23  7.461677e-23   \n",
       "4.00|5.20 -1.294046e-22 -1.266225e-22 -1.235170e-22 -1.200961e-22   \n",
       "4.00|5.60  1.393361e-23  2.107371e-23  2.816331e-23  3.518515e-23   \n",
       "\n",
       "                   4             5             6             7     \\\n",
       "4.00|4.00 -1.104788e-22 -1.127572e-22 -1.146961e-22 -1.162896e-22   \n",
       "4.00|4.40 -1.234493e-22 -1.246330e-22 -1.254633e-22 -1.259379e-22   \n",
       "4.00|4.80  6.880222e-23  6.280235e-23  5.663323e-23  5.031138e-23   \n",
       "4.00|5.20 -1.163684e-22 -1.123433e-22 -1.080311e-22 -1.034427e-22   \n",
       "4.00|5.60  4.212210e-23  4.895727e-23  5.567399e-23  6.225586e-23   \n",
       "\n",
       "                   8             9     ...   8182  8183  8184  8185  8186  \\\n",
       "4.00|4.00 -1.175328e-22 -1.184220e-22  ...   -0.0  -0.0  -0.0  -0.0  -0.0   \n",
       "4.00|4.40 -1.260552e-22 -1.258150e-22  ...   -0.0  -0.0  -0.0  -0.0  -0.0   \n",
       "4.00|4.80  4.385375e-23  3.727764e-23  ...   -0.0  -0.0  -0.0  -0.0  -0.0   \n",
       "4.00|5.20 -9.858974e-23 -9.348458e-23  ...   -0.0  -0.0  -0.0  -0.0  -0.0   \n",
       "4.00|5.60  6.868683e-23  7.495120e-23  ...   -0.0  -0.0  -0.0  -0.0  -0.0   \n",
       "\n",
       "           8187  8188  8189  8190  8191  \n",
       "4.00|4.00  -0.0  -0.0  -0.0  -0.0  -0.0  \n",
       "4.00|4.40  -0.0  -0.0  -0.0  -0.0  -0.0  \n",
       "4.00|4.80  -0.0  -0.0  -0.0  -0.0  -0.0  \n",
       "4.00|5.20  -0.0  -0.0  -0.0  -0.0  -0.0  \n",
       "4.00|5.60  -0.0  -0.0  -0.0  -0.0  -0.0  \n",
       "\n",
       "[5 rows x 8192 columns]"
      ]
     },
     "execution_count": 2,
     "metadata": {},
     "output_type": "execute_result"
    }
   ],
   "source": [
    "GW_address = './data/'\n",
    "\n",
    "data = pd.DataFrame(np.load(GW_address+'GW_H1.npy'), index=np.load(GW_address+'GW_H1_index.npy'))\n",
    "print(data.shape)\n",
    "peak_samppoint = data.values.argmax(axis=1)\n",
    "peak_samppoint = int(peak_samppoint.sum() / peak_samppoint.shape[0])\n",
    "peak_time = peak_samppoint/data.shape[-1]\n",
    "peak_time = float('{:.2f}'.format(peak_time))\n",
    "print('Peak sampling point at %dth (%.2fs).' %(peak_samppoint, peak_time))\n",
    "data.head()\n",
    "# 波形数据"
   ]
  },
  {
   "cell_type": "code",
   "execution_count": null,
   "metadata": {
    "ExecuteTime": {
     "end_time": "2018-10-13T11:43:12.880065Z",
     "start_time": "2018-10-13T11:43:12.812766Z"
    }
   },
   "outputs": [],
   "source": []
  },
  {
   "cell_type": "markdown",
   "metadata": {
    "ExecuteTime": {
     "end_time": "2018-10-13T11:38:08.805252Z",
     "start_time": "2018-10-13T11:38:08.735215Z"
    }
   },
   "source": [
    "## Split the data"
   ]
  },
  {
   "cell_type": "code",
   "execution_count": 3,
   "metadata": {
    "ExecuteTime": {
     "end_time": "2018-10-14T03:12:27.675706Z",
     "start_time": "2018-10-14T03:12:26.475714Z"
    }
   },
   "outputs": [
    {
     "name": "stdout",
     "output_type": "stream",
     "text": [
      "总波形数目： (1249,)\n",
      "训练集波形数目： 600\n",
      "测试集波形数目： 649\n"
     ]
    },
    {
     "data": {
      "image/png": "[encoded data removed]",
      "text/plain": [
       "<matplotlib.figure.Figure at 0x12a8a5d68>"
      ]
     },
     "metadata": {
      "needs_background": "light"
     },
     "output_type": "display_data"
    }
   ],
   "source": [
    "print('总波形数目：', data.index.shape)\n",
    "train_masses = [(float(masses.split('|')[0]), float(masses.split('|')[1])) for masses in data.index if float(masses.split('|')[0]) % 2 != 0]\n",
    "test_masses = [(float(masses.split('|')[0]), float(masses.split('|')[1])) for masses in data.index if float(masses.split('|')[0]) % 2 == 0]\n",
    "print('训练集波形数目：', len(train_masses))\n",
    "print('测试集波形数目：', len(test_masses))\n",
    "\n",
    "train_m1, train_m2 = [ m[0] for m in train_masses],  [ m[1] for m in train_masses]\n",
    "test_m1, test_m2 = [ m[0] for m in test_masses],  [ m[1] for m in test_masses]\n",
    "plt.figure(figsize= (8,8))\n",
    "plt.scatter(train_m2, train_m1, label='train')\n",
    "plt.scatter(test_m2, test_m1, label = 'test')\n",
    "plt.grid()\n",
    "plt.legend()\n",
    "plt.xlim(0,80)\n",
    "# plt.title('训练集和测试集的波形在质量上的分布')\n",
    "plt.show()\n",
    "\n",
    "# 做好训练集和测试集的分割~\n",
    "\n",
    "test_masses = [masses for masses in data.index if float(masses.split('|')[0]) % 2 == 0]\n",
    "train_masses = [masses for masses in data.index if float(masses.split('|')[0]) % 2 != 0]\n",
    "train_data = data.loc[train_masses]\n",
    "test_data = data.loc[test_masses]"
   ]
  },
  {
   "cell_type": "markdown",
   "metadata": {},
   "source": [
    "## Random the peak"
   ]
  },
  {
   "cell_type": "code",
   "execution_count": 4,
   "metadata": {
    "ExecuteTime": {
     "end_time": "2018-10-13T12:34:13.594016Z",
     "start_time": "2018-10-13T12:34:12.489575Z"
    }
   },
   "outputs": [
    {
     "data": {
      "image/png": "[encoded data removed]",
      "text/plain": [
       "<matplotlib.figure.Figure at 0x12df15320>"
      ]
     },
     "metadata": {
      "needs_background": "light"
     },
     "output_type": "display_data"
    },
    {
     "data": {
      "image/png": "[encoded data removed]",
      "text/plain": [
       "<matplotlib.figure.Figure at 0x1306213c8>"
      ]
     },
     "metadata": {
      "needs_background": "light"
     },
     "output_type": "display_data"
    }
   ],
   "source": [
    "def forward_moving_wave(data, a):\n",
    "    return np.concatenate((data.values[:,a:], np.array([data.values[0,-1]]*data.shape[0]*a).reshape(-1,a)), axis = 1)\n",
    "\n",
    "def shuffle_data(data, times):\n",
    "    shift_list = np.random.uniform(0, peak_samppoint - round((peak_time-0.2)*data.shape[-1]), size = (times))\n",
    "    base = forward_moving_wave(data, int(shift_list[0]))\n",
    "    \n",
    "    index = []    \n",
    "    index.extend(data.index.tolist())\n",
    "    for shift_size in shift_list[1:]:\n",
    "        temp = forward_moving_wave(data, int(shift_size))\n",
    "        base = np.concatenate((base, temp) , axis = 0)    \n",
    "        index.extend(data.index.tolist())\n",
    "    return pd.DataFrame(base, index=index), np.array([ [s]*train_data.shape[0] for s in shift_list]).reshape(-1,)\n",
    "\n",
    "plt.plot(np.linspace(0,1,num=data.shape[-1]),train_data.values[0,:])\n",
    "plt.plot(np.linspace(0,1,num=data.shape[-1]),forward_moving_wave(train_data, peak_samppoint - round((peak_time-0.2)*data.shape[-1]))[0,:])\n",
    "plt.xlabel('time (s)')\n",
    "plt.show()\n",
    "# 瞅一眼0.7~0.9的波形挪动的差别\n",
    "plt.figure(figsize=(15,3))\n",
    "for i in range(1, 5):\n",
    "    plt.subplot(1,4,i)\n",
    "    plt.vlines(np.random.uniform(0, 7371 - 5734, size = (10)), 0,1)\n",
    "    plt.xlim(0,7371 - 5734)"
   ]
  },
  {
   "cell_type": "code",
   "execution_count": 37,
   "metadata": {
    "ExecuteTime": {
     "end_time": "2018-10-13T11:52:06.250595Z",
     "start_time": "2018-10-13T11:51:51.142406Z"
    }
   },
   "outputs": [
    {
     "name": "stdout",
     "output_type": "stream",
     "text": [
      "(6000, 8192)\n",
      "(6490, 8192)\n",
      "CPU times: user 4.03 s, sys: 4.72 s, total: 8.74 s\n",
      "Wall time: 15 s\n"
     ]
    }
   ],
   "source": [
    "%%time\n",
    "# 在 0.2 秒区间里均匀分布随机取波形，扩充数据集 10 倍，保留扩充数据中每个波形距离原位置的移动偏差\n",
    "train_data_rand, train_rand_array= shuffle_data(train_data, 10)  \n",
    "test_data_rand, test_rand_array= shuffle_data(test_data, 10)\n",
    "print(train_data_rand.shape)\n",
    "print(test_data_rand.shape)"
   ]
  },
  {
   "cell_type": "code",
   "execution_count": null,
   "metadata": {},
   "outputs": [],
   "source": []
  },
  {
   "cell_type": "code",
   "execution_count": 56,
   "metadata": {
    "ExecuteTime": {
     "end_time": "2018-10-13T12:17:58.544436Z",
     "start_time": "2018-10-13T12:17:58.435306Z"
    }
   },
   "outputs": [
    {
     "name": "stdout",
     "output_type": "stream",
     "text": [
      "(600, 8192)\n"
     ]
    },
    {
     "data": {
      "text/html": [
       "<div>\n",
       "<style>\n",
       "    .dataframe thead tr:only-child th {\n",
       "        text-align: right;\n",
       "    }\n",
       "\n",
       "    .dataframe thead th {\n",
       "        text-align: left;\n",
       "    }\n",
       "\n",
       "    .dataframe tbody tr th {\n",
       "        vertical-align: top;\n",
       "    }\n",
       "</style>\n",
       "<table border=\"1\" class=\"dataframe\">\n",
       "  <thead>\n",
       "    <tr style=\"text-align: right;\">\n",
       "      <th></th>\n",
       "      <th>0</th>\n",
       "      <th>1</th>\n",
       "      <th>2</th>\n",
       "      <th>3</th>\n",
       "      <th>4</th>\n",
       "      <th>5</th>\n",
       "      <th>6</th>\n",
       "      <th>7</th>\n",
       "      <th>8</th>\n",
       "      <th>9</th>\n",
       "      <th>...</th>\n",
       "      <th>8182</th>\n",
       "      <th>8183</th>\n",
       "      <th>8184</th>\n",
       "      <th>8185</th>\n",
       "      <th>8186</th>\n",
       "      <th>8187</th>\n",
       "      <th>8188</th>\n",
       "      <th>8189</th>\n",
       "      <th>8190</th>\n",
       "      <th>8191</th>\n",
       "    </tr>\n",
       "  </thead>\n",
       "  <tbody>\n",
       "    <tr>\n",
       "      <th>5.00|5.00</th>\n",
       "      <td>4.636616e-23</td>\n",
       "      <td>5.344724e-23</td>\n",
       "      <td>6.040793e-23</td>\n",
       "      <td>6.723243e-23</td>\n",
       "      <td>7.390522e-23</td>\n",
       "      <td>8.041115e-23</td>\n",
       "      <td>8.673542e-23</td>\n",
       "      <td>9.286364e-23</td>\n",
       "      <td>9.878187e-23</td>\n",
       "      <td>1.044766e-22</td>\n",
       "      <td>...</td>\n",
       "      <td>-0.0</td>\n",
       "      <td>-0.0</td>\n",
       "      <td>-0.0</td>\n",
       "      <td>-0.0</td>\n",
       "      <td>-0.0</td>\n",
       "      <td>-0.0</td>\n",
       "      <td>-0.0</td>\n",
       "      <td>-0.0</td>\n",
       "      <td>-0.0</td>\n",
       "      <td>-0.0</td>\n",
       "    </tr>\n",
       "    <tr>\n",
       "      <th>5.00|5.50</th>\n",
       "      <td>-1.490032e-22</td>\n",
       "      <td>-1.522832e-22</td>\n",
       "      <td>-1.552386e-22</td>\n",
       "      <td>-1.578630e-22</td>\n",
       "      <td>-1.601507e-22</td>\n",
       "      <td>-1.620968e-22</td>\n",
       "      <td>-1.636971e-22</td>\n",
       "      <td>-1.649481e-22</td>\n",
       "      <td>-1.658470e-22</td>\n",
       "      <td>-1.663918e-22</td>\n",
       "      <td>...</td>\n",
       "      <td>-0.0</td>\n",
       "      <td>-0.0</td>\n",
       "      <td>-0.0</td>\n",
       "      <td>-0.0</td>\n",
       "      <td>-0.0</td>\n",
       "      <td>-0.0</td>\n",
       "      <td>-0.0</td>\n",
       "      <td>-0.0</td>\n",
       "      <td>-0.0</td>\n",
       "      <td>-0.0</td>\n",
       "    </tr>\n",
       "    <tr>\n",
       "      <th>5.00|6.00</th>\n",
       "      <td>2.192574e-23</td>\n",
       "      <td>2.971145e-23</td>\n",
       "      <td>3.743803e-23</td>\n",
       "      <td>4.508988e-23</td>\n",
       "      <td>5.265152e-23</td>\n",
       "      <td>6.010766e-23</td>\n",
       "      <td>6.744322e-23</td>\n",
       "      <td>7.464334e-23</td>\n",
       "      <td>8.169346e-23</td>\n",
       "      <td>8.857929e-23</td>\n",
       "      <td>...</td>\n",
       "      <td>-0.0</td>\n",
       "      <td>-0.0</td>\n",
       "      <td>-0.0</td>\n",
       "      <td>-0.0</td>\n",
       "      <td>-0.0</td>\n",
       "      <td>-0.0</td>\n",
       "      <td>-0.0</td>\n",
       "      <td>-0.0</td>\n",
       "      <td>-0.0</td>\n",
       "      <td>-0.0</td>\n",
       "    </tr>\n",
       "    <tr>\n",
       "      <th>5.00|6.50</th>\n",
       "      <td>1.349219e-22</td>\n",
       "      <td>1.402823e-22</td>\n",
       "      <td>1.453742e-22</td>\n",
       "      <td>1.501875e-22</td>\n",
       "      <td>1.547131e-22</td>\n",
       "      <td>1.589422e-22</td>\n",
       "      <td>1.628665e-22</td>\n",
       "      <td>1.664785e-22</td>\n",
       "      <td>1.697712e-22</td>\n",
       "      <td>1.727382e-22</td>\n",
       "      <td>...</td>\n",
       "      <td>-0.0</td>\n",
       "      <td>-0.0</td>\n",
       "      <td>-0.0</td>\n",
       "      <td>-0.0</td>\n",
       "      <td>-0.0</td>\n",
       "      <td>-0.0</td>\n",
       "      <td>-0.0</td>\n",
       "      <td>-0.0</td>\n",
       "      <td>-0.0</td>\n",
       "      <td>-0.0</td>\n",
       "    </tr>\n",
       "    <tr>\n",
       "      <th>5.00|7.00</th>\n",
       "      <td>6.354312e-23</td>\n",
       "      <td>7.125557e-23</td>\n",
       "      <td>7.883839e-23</td>\n",
       "      <td>8.627766e-23</td>\n",
       "      <td>9.355972e-23</td>\n",
       "      <td>1.006712e-22</td>\n",
       "      <td>1.075990e-22</td>\n",
       "      <td>1.143304e-22</td>\n",
       "      <td>1.208531e-22</td>\n",
       "      <td>1.271550e-22</td>\n",
       "      <td>...</td>\n",
       "      <td>-0.0</td>\n",
       "      <td>-0.0</td>\n",
       "      <td>-0.0</td>\n",
       "      <td>-0.0</td>\n",
       "      <td>-0.0</td>\n",
       "      <td>-0.0</td>\n",
       "      <td>-0.0</td>\n",
       "      <td>-0.0</td>\n",
       "      <td>-0.0</td>\n",
       "      <td>-0.0</td>\n",
       "    </tr>\n",
       "  </tbody>\n",
       "</table>\n",
       "<p>5 rows × 8192 columns</p>\n",
       "</div>"
      ],
      "text/plain": [
       "                   0             1             2             3     \\\n",
       "5.00|5.00  4.636616e-23  5.344724e-23  6.040793e-23  6.723243e-23   \n",
       "5.00|5.50 -1.490032e-22 -1.522832e-22 -1.552386e-22 -1.578630e-22   \n",
       "5.00|6.00  2.192574e-23  2.971145e-23  3.743803e-23  4.508988e-23   \n",
       "5.00|6.50  1.349219e-22  1.402823e-22  1.453742e-22  1.501875e-22   \n",
       "5.00|7.00  6.354312e-23  7.125557e-23  7.883839e-23  8.627766e-23   \n",
       "\n",
       "                   4             5             6             7     \\\n",
       "5.00|5.00  7.390522e-23  8.041115e-23  8.673542e-23  9.286364e-23   \n",
       "5.00|5.50 -1.601507e-22 -1.620968e-22 -1.636971e-22 -1.649481e-22   \n",
       "5.00|6.00  5.265152e-23  6.010766e-23  6.744322e-23  7.464334e-23   \n",
       "5.00|6.50  1.547131e-22  1.589422e-22  1.628665e-22  1.664785e-22   \n",
       "5.00|7.00  9.355972e-23  1.006712e-22  1.075990e-22  1.143304e-22   \n",
       "\n",
       "                   8             9     ...   8182  8183  8184  8185  8186  \\\n",
       "5.00|5.00  9.878187e-23  1.044766e-22  ...   -0.0  -0.0  -0.0  -0.0  -0.0   \n",
       "5.00|5.50 -1.658470e-22 -1.663918e-22  ...   -0.0  -0.0  -0.0  -0.0  -0.0   \n",
       "5.00|6.00  8.169346e-23  8.857929e-23  ...   -0.0  -0.0  -0.0  -0.0  -0.0   \n",
       "5.00|6.50  1.697712e-22  1.727382e-22  ...   -0.0  -0.0  -0.0  -0.0  -0.0   \n",
       "5.00|7.00  1.208531e-22  1.271550e-22  ...   -0.0  -0.0  -0.0  -0.0  -0.0   \n",
       "\n",
       "           8187  8188  8189  8190  8191  \n",
       "5.00|5.00  -0.0  -0.0  -0.0  -0.0  -0.0  \n",
       "5.00|5.50  -0.0  -0.0  -0.0  -0.0  -0.0  \n",
       "5.00|6.00  -0.0  -0.0  -0.0  -0.0  -0.0  \n",
       "5.00|6.50  -0.0  -0.0  -0.0  -0.0  -0.0  \n",
       "5.00|7.00  -0.0  -0.0  -0.0  -0.0  -0.0  \n",
       "\n",
       "[5 rows x 8192 columns]"
      ]
     },
     "execution_count": 56,
     "metadata": {},
     "output_type": "execute_result"
    }
   ],
   "source": [
    "print(train_data.shape)\n",
    "train_data.head()"
   ]
  },
  {
   "cell_type": "code",
   "execution_count": 57,
   "metadata": {
    "ExecuteTime": {
     "end_time": "2018-10-13T12:18:37.751463Z",
     "start_time": "2018-10-13T12:18:31.099606Z"
    }
   },
   "outputs": [
    {
     "name": "stdout",
     "output_type": "stream",
     "text": [
      "(6000, 8192)\n"
     ]
    },
    {
     "data": {
      "text/html": [
       "<div>\n",
       "<style>\n",
       "    .dataframe thead tr:only-child th {\n",
       "        text-align: right;\n",
       "    }\n",
       "\n",
       "    .dataframe thead th {\n",
       "        text-align: left;\n",
       "    }\n",
       "\n",
       "    .dataframe tbody tr th {\n",
       "        vertical-align: top;\n",
       "    }\n",
       "</style>\n",
       "<table border=\"1\" class=\"dataframe\">\n",
       "  <thead>\n",
       "    <tr style=\"text-align: right;\">\n",
       "      <th></th>\n",
       "      <th>0</th>\n",
       "      <th>1</th>\n",
       "      <th>2</th>\n",
       "      <th>3</th>\n",
       "      <th>4</th>\n",
       "      <th>5</th>\n",
       "      <th>6</th>\n",
       "      <th>7</th>\n",
       "      <th>8</th>\n",
       "      <th>9</th>\n",
       "      <th>...</th>\n",
       "      <th>8182</th>\n",
       "      <th>8183</th>\n",
       "      <th>8184</th>\n",
       "      <th>8185</th>\n",
       "      <th>8186</th>\n",
       "      <th>8187</th>\n",
       "      <th>8188</th>\n",
       "      <th>8189</th>\n",
       "      <th>8190</th>\n",
       "      <th>8191</th>\n",
       "    </tr>\n",
       "  </thead>\n",
       "  <tbody>\n",
       "    <tr>\n",
       "      <th>5.00|5.00</th>\n",
       "      <td>1.568972e-22</td>\n",
       "      <td>1.550589e-22</td>\n",
       "      <td>1.528433e-22</td>\n",
       "      <td>1.502556e-22</td>\n",
       "      <td>1.473020e-22</td>\n",
       "      <td>1.439898e-22</td>\n",
       "      <td>1.403267e-22</td>\n",
       "      <td>1.363218e-22</td>\n",
       "      <td>1.319845e-22</td>\n",
       "      <td>1.273255e-22</td>\n",
       "      <td>...</td>\n",
       "      <td>-0.0</td>\n",
       "      <td>-0.0</td>\n",
       "      <td>-0.0</td>\n",
       "      <td>-0.0</td>\n",
       "      <td>-0.0</td>\n",
       "      <td>-0.0</td>\n",
       "      <td>-0.0</td>\n",
       "      <td>-0.0</td>\n",
       "      <td>-0.0</td>\n",
       "      <td>-0.0</td>\n",
       "    </tr>\n",
       "    <tr>\n",
       "      <th>5.00|5.50</th>\n",
       "      <td>-1.702421e-22</td>\n",
       "      <td>-1.697651e-22</td>\n",
       "      <td>-1.688995e-22</td>\n",
       "      <td>-1.676471e-22</td>\n",
       "      <td>-1.660107e-22</td>\n",
       "      <td>-1.639941e-22</td>\n",
       "      <td>-1.616016e-22</td>\n",
       "      <td>-1.588388e-22</td>\n",
       "      <td>-1.557118e-22</td>\n",
       "      <td>-1.522278e-22</td>\n",
       "      <td>...</td>\n",
       "      <td>-0.0</td>\n",
       "      <td>-0.0</td>\n",
       "      <td>-0.0</td>\n",
       "      <td>-0.0</td>\n",
       "      <td>-0.0</td>\n",
       "      <td>-0.0</td>\n",
       "      <td>-0.0</td>\n",
       "      <td>-0.0</td>\n",
       "      <td>-0.0</td>\n",
       "      <td>-0.0</td>\n",
       "    </tr>\n",
       "    <tr>\n",
       "      <th>5.00|6.00</th>\n",
       "      <td>-4.366347e-23</td>\n",
       "      <td>-3.553305e-23</td>\n",
       "      <td>-2.732466e-23</td>\n",
       "      <td>-1.905607e-23</td>\n",
       "      <td>-1.074517e-23</td>\n",
       "      <td>-2.409960e-24</td>\n",
       "      <td>5.931505e-24</td>\n",
       "      <td>1.426115e-23</td>\n",
       "      <td>2.256093e-23</td>\n",
       "      <td>3.081284e-23</td>\n",
       "      <td>...</td>\n",
       "      <td>-0.0</td>\n",
       "      <td>-0.0</td>\n",
       "      <td>-0.0</td>\n",
       "      <td>-0.0</td>\n",
       "      <td>-0.0</td>\n",
       "      <td>-0.0</td>\n",
       "      <td>-0.0</td>\n",
       "      <td>-0.0</td>\n",
       "      <td>-0.0</td>\n",
       "      <td>-0.0</td>\n",
       "    </tr>\n",
       "    <tr>\n",
       "      <th>5.00|6.50</th>\n",
       "      <td>-6.069187e-23</td>\n",
       "      <td>-5.254640e-23</td>\n",
       "      <td>-4.429177e-23</td>\n",
       "      <td>-3.594494e-23</td>\n",
       "      <td>-2.752307e-23</td>\n",
       "      <td>-1.904348e-23</td>\n",
       "      <td>-1.052363e-23</td>\n",
       "      <td>-1.981052e-24</td>\n",
       "      <td>6.566668e-24</td>\n",
       "      <td>1.510192e-23</td>\n",
       "      <td>...</td>\n",
       "      <td>-0.0</td>\n",
       "      <td>-0.0</td>\n",
       "      <td>-0.0</td>\n",
       "      <td>-0.0</td>\n",
       "      <td>-0.0</td>\n",
       "      <td>-0.0</td>\n",
       "      <td>-0.0</td>\n",
       "      <td>-0.0</td>\n",
       "      <td>-0.0</td>\n",
       "      <td>-0.0</td>\n",
       "    </tr>\n",
       "    <tr>\n",
       "      <th>5.00|7.00</th>\n",
       "      <td>-1.964700e-22</td>\n",
       "      <td>-1.958056e-22</td>\n",
       "      <td>-1.947565e-22</td>\n",
       "      <td>-1.933248e-22</td>\n",
       "      <td>-1.915132e-22</td>\n",
       "      <td>-1.893251e-22</td>\n",
       "      <td>-1.867647e-22</td>\n",
       "      <td>-1.838370e-22</td>\n",
       "      <td>-1.805477e-22</td>\n",
       "      <td>-1.769031e-22</td>\n",
       "      <td>...</td>\n",
       "      <td>-0.0</td>\n",
       "      <td>-0.0</td>\n",
       "      <td>-0.0</td>\n",
       "      <td>-0.0</td>\n",
       "      <td>-0.0</td>\n",
       "      <td>-0.0</td>\n",
       "      <td>-0.0</td>\n",
       "      <td>-0.0</td>\n",
       "      <td>-0.0</td>\n",
       "      <td>-0.0</td>\n",
       "    </tr>\n",
       "  </tbody>\n",
       "</table>\n",
       "<p>5 rows × 8192 columns</p>\n",
       "</div>"
      ],
      "text/plain": [
       "                   0             1             2             3     \\\n",
       "5.00|5.00  1.568972e-22  1.550589e-22  1.528433e-22  1.502556e-22   \n",
       "5.00|5.50 -1.702421e-22 -1.697651e-22 -1.688995e-22 -1.676471e-22   \n",
       "5.00|6.00 -4.366347e-23 -3.553305e-23 -2.732466e-23 -1.905607e-23   \n",
       "5.00|6.50 -6.069187e-23 -5.254640e-23 -4.429177e-23 -3.594494e-23   \n",
       "5.00|7.00 -1.964700e-22 -1.958056e-22 -1.947565e-22 -1.933248e-22   \n",
       "\n",
       "                   4             5             6             7     \\\n",
       "5.00|5.00  1.473020e-22  1.439898e-22  1.403267e-22  1.363218e-22   \n",
       "5.00|5.50 -1.660107e-22 -1.639941e-22 -1.616016e-22 -1.588388e-22   \n",
       "5.00|6.00 -1.074517e-23 -2.409960e-24  5.931505e-24  1.426115e-23   \n",
       "5.00|6.50 -2.752307e-23 -1.904348e-23 -1.052363e-23 -1.981052e-24   \n",
       "5.00|7.00 -1.915132e-22 -1.893251e-22 -1.867647e-22 -1.838370e-22   \n",
       "\n",
       "                   8             9     ...   8182  8183  8184  8185  8186  \\\n",
       "5.00|5.00  1.319845e-22  1.273255e-22  ...   -0.0  -0.0  -0.0  -0.0  -0.0   \n",
       "5.00|5.50 -1.557118e-22 -1.522278e-22  ...   -0.0  -0.0  -0.0  -0.0  -0.0   \n",
       "5.00|6.00  2.256093e-23  3.081284e-23  ...   -0.0  -0.0  -0.0  -0.0  -0.0   \n",
       "5.00|6.50  6.566668e-24  1.510192e-23  ...   -0.0  -0.0  -0.0  -0.0  -0.0   \n",
       "5.00|7.00 -1.805477e-22 -1.769031e-22  ...   -0.0  -0.0  -0.0  -0.0  -0.0   \n",
       "\n",
       "           8187  8188  8189  8190  8191  \n",
       "5.00|5.00  -0.0  -0.0  -0.0  -0.0  -0.0  \n",
       "5.00|5.50  -0.0  -0.0  -0.0  -0.0  -0.0  \n",
       "5.00|6.00  -0.0  -0.0  -0.0  -0.0  -0.0  \n",
       "5.00|6.50  -0.0  -0.0  -0.0  -0.0  -0.0  \n",
       "5.00|7.00  -0.0  -0.0  -0.0  -0.0  -0.0  \n",
       "\n",
       "[5 rows x 8192 columns]"
      ]
     },
     "execution_count": 57,
     "metadata": {},
     "output_type": "execute_result"
    }
   ],
   "source": [
    "dd , _ = shuffle_data(train_data, 10)\n",
    "print(dd.shape)\n",
    "dd.head()"
   ]
  },
  {
   "cell_type": "code",
   "execution_count": 69,
   "metadata": {
    "ExecuteTime": {
     "end_time": "2018-10-13T12:50:59.992683Z",
     "start_time": "2018-10-13T12:50:56.739046Z"
    }
   },
   "outputs": [
    {
     "name": "stdout",
     "output_type": "stream",
     "text": [
      "(6000, 8192)\n"
     ]
    }
   ],
   "source": [
    "def forward_moving_wave_np(data, a):\n",
    "    return np.concatenate((data[:,a:], np.ones(shape=(data.shape[0], a)) * data[0,-1]), axis = 1)\n",
    "\n",
    "def shuffle_data_np(data, times):\n",
    "    shift_list = np.random.uniform(0, peak_samppoint - round((peak_time-0.2)*data.shape[-1]), size = (times))\n",
    "    base = forward_moving_wave_np(data, int(shift_list[0]))\n",
    "    \n",
    "    for shift_size in shift_list[1:]:\n",
    "        temp = forward_moving_wave_np(data, int(shift_size))\n",
    "        base = np.concatenate((base, temp) , axis = 0)    \n",
    "    return base\n",
    "tt_np = train_data.values\n",
    "dd = shuffle_data_np(tt_np, 10)\n",
    "print(dd.shape)"
   ]
  },
  {
   "cell_type": "code",
   "execution_count": 70,
   "metadata": {
    "ExecuteTime": {
     "end_time": "2018-10-13T12:51:04.660563Z",
     "start_time": "2018-10-13T12:51:04.373560Z"
    }
   },
   "outputs": [
    {
     "name": "stdout",
     "output_type": "stream",
     "text": [
      "(6000, 8192)\n"
     ]
    }
   ],
   "source": [
    "def forward_moving_wave_nd(data, a):\n",
    "    return nd.concatenate([data[:,a:], nd.ones(shape=(data.shape[0], a), ctx=ctx) * data[0,-1]], axis = 1)\n",
    "\n",
    "def shuffle_data_nd(data, times):\n",
    "    shift_list = nd.random_uniform(0, peak_samppoint - round((peak_time-0.2)*data.shape[-1]), shape=(10), ctx=ctx)\n",
    "    base = forward_moving_wave_nd(data, int(shift_list.asnumpy()[0]))\n",
    "    \n",
    "    for shift_size in shift_list[1:]:\n",
    "        temp = forward_moving_wave_nd(data, int(shift_size.asnumpy()[0]))\n",
    "        base = nd.concatenate([base, temp] , axis = 0)    \n",
    "    return base\n",
    "\n",
    "tt_nd = nd.array(train_data)\n",
    "dd = shuffle_data_nd(tt_nd, 10)\n",
    "print(dd.shape)\n"
   ]
  },
  {
   "cell_type": "code",
   "execution_count": 72,
   "metadata": {
    "ExecuteTime": {
     "end_time": "2018-10-13T12:55:47.080685Z",
     "start_time": "2018-10-13T12:55:25.726457Z"
    }
   },
   "outputs": [
    {
     "name": "stdout",
     "output_type": "stream",
     "text": [
      "2.54 s ± 212 ms per loop (mean ± std. dev. of 7 runs, 1 loop each)\n"
     ]
    }
   ],
   "source": [
    "%timeit shuffle_data_np(tt_np, 10)"
   ]
  },
  {
   "cell_type": "code",
   "execution_count": 73,
   "metadata": {
    "ExecuteTime": {
     "end_time": "2018-10-13T12:57:42.985411Z",
     "start_time": "2018-10-13T12:55:47.087077Z"
    }
   },
   "outputs": [
    {
     "name": "stdout",
     "output_type": "stream",
     "text": [
      "1.45 s ± 145 ms per loop (mean ± std. dev. of 7 runs, 10 loops each)\n"
     ]
    }
   ],
   "source": [
    "%timeit shuffle_data_nd(tt_nd, 10)"
   ]
  },
  {
   "cell_type": "code",
   "execution_count": 77,
   "metadata": {
    "ExecuteTime": {
     "end_time": "2018-10-13T13:06:15.670954Z",
     "start_time": "2018-10-13T13:06:15.498720Z"
    }
   },
   "outputs": [],
   "source": [
    "%lprun -f shuffle_data_nd shuffle_data_nd(tt_nd, 100)"
   ]
  },
  {
   "cell_type": "code",
   "execution_count": 50,
   "metadata": {
    "ExecuteTime": {
     "end_time": "2018-10-13T12:46:05.818907Z",
     "start_time": "2018-10-13T12:46:05.675060Z"
    }
   },
   "outputs": [
    {
     "data": {
      "text/plain": [
       "\n",
       "[[  4.63661611e-23   5.34472385e-23   6.04079326e-23 ...,  -0.00000000e+00\n",
       "   -0.00000000e+00  -0.00000000e+00]\n",
       " [ -1.49003203e-22  -1.52283199e-22  -1.55238600e-22 ...,  -0.00000000e+00\n",
       "   -0.00000000e+00  -0.00000000e+00]\n",
       " [  2.19257404e-23   2.97114489e-23   3.74380291e-23 ...,  -0.00000000e+00\n",
       "   -0.00000000e+00  -0.00000000e+00]\n",
       " ..., \n",
       " [  2.20994508e-21   2.21089505e-21   2.21153300e-21 ...,  -0.00000000e+00\n",
       "   -0.00000000e+00  -0.00000000e+00]\n",
       " [  2.20557492e-21   2.20768407e-21   2.20948201e-21 ...,  -0.00000000e+00\n",
       "   -0.00000000e+00  -0.00000000e+00]\n",
       " [ -1.79261590e-21  -1.77519200e-21  -1.75752898e-21 ...,  -0.00000000e+00\n",
       "   -0.00000000e+00  -0.00000000e+00]]\n",
       "<NDArray 600x8192 @cpu(0)>"
      ]
     },
     "execution_count": 50,
     "metadata": {},
     "output_type": "execute_result"
    }
   ],
   "source": [
    "nd.array(train_data)"
   ]
  },
  {
   "cell_type": "code",
   "execution_count": 56,
   "metadata": {
    "ExecuteTime": {
     "end_time": "2018-10-13T12:47:31.169084Z",
     "start_time": "2018-10-13T12:47:31.034747Z"
    }
   },
   "outputs": [
    {
     "data": {
      "text/plain": [
       "\n",
       "[[ 1.  1.  1. ...,  1.  1.  1.]\n",
       " [ 1.  1.  1. ...,  1.  1.  1.]\n",
       " [ 1.  1.  1. ...,  1.  1.  1.]\n",
       " ..., \n",
       " [ 1.  1.  1. ...,  1.  1.  1.]\n",
       " [ 1.  1.  1. ...,  1.  1.  1.]\n",
       " [ 1.  1.  1. ...,  1.  1.  1.]]\n",
       "<NDArray 600x65 @cpu(0)>"
      ]
     },
     "execution_count": 56,
     "metadata": {},
     "output_type": "execute_result"
    }
   ],
   "source": [
    "nd.ones(shape=(nd.array(train_data).shape[0], 65), ctx=ctx)"
   ]
  },
  {
   "cell_type": "code",
   "execution_count": null,
   "metadata": {},
   "outputs": [],
   "source": [
    "peak_samppoint = data.values.argmax(axis=1)\n",
    "peak_samppoint = int(peak_samppoint.sum() / peak_samppoint.shape[0])\n",
    "peak_time = peak_samppoint/data.shape[-1]\n",
    "peak_time = float('{:.2f}'.format(peak_time))"
   ]
  },
  {
   "cell_type": "code",
   "execution_count": 86,
   "metadata": {
    "ExecuteTime": {
     "end_time": "2018-10-14T03:54:31.075889Z",
     "start_time": "2018-10-14T03:54:30.299327Z"
    }
   },
   "outputs": [
    {
     "data": {
      "text/plain": [
       "(100, 8192)"
      ]
     },
     "execution_count": 86,
     "metadata": {},
     "output_type": "execute_result"
    }
   ],
   "source": [
    "train_data.head()\n",
    "train =  nd.array(train_data, ctx=ctx)[:100,:]\n",
    "test = nd.array(test_data, ctx=ctx)[:100,:]\n",
    "train.shape"
   ]
  },
  {
   "cell_type": "code",
   "execution_count": 87,
   "metadata": {
    "ExecuteTime": {
     "end_time": "2018-10-14T03:54:32.446629Z",
     "start_time": "2018-10-14T03:54:32.341094Z"
    }
   },
   "outputs": [
    {
     "data": {
      "text/plain": [
       "(100, 1, 2, 4096)"
      ]
     },
     "execution_count": 87,
     "metadata": {},
     "output_type": "execute_result"
    }
   ],
   "source": [
    "train.reshape(100,2,-1).reshape(100,-4,-1,2,-2).shape\n",
    "# train.max(axis = 1).shape"
   ]
  },
  {
   "cell_type": "code",
   "execution_count": 88,
   "metadata": {
    "ExecuteTime": {
     "end_time": "2018-10-14T03:54:34.413724Z",
     "start_time": "2018-10-14T03:54:33.005952Z"
    }
   },
   "outputs": [
    {
     "name": "stdout",
     "output_type": "stream",
     "text": [
      "finish random data~\n",
      "Label for training: (2000,)\n",
      "Label for testing: (2000,)\n"
     ]
    }
   ],
   "source": [
    "OURS_modified = ConvNet(conv_params = {'kernel': ((1,16), (1,8), (1,8), (1,8)), \n",
    "                                       'num_filter': (8, 16, 32, 64),\n",
    "                                       'stride': ((1,1), (1,1), (1,1), (1,1)),\n",
    "                                       'padding': ((0,0), (0,0), (0,0), (0,0)),\n",
    "                                       'dilate': ((1,1), (1,1), (1,1), (1,1))},\n",
    "                        act_params = {'act_type': ('elu', 'elu', 'elu', 'elu', 'elu', 'elu')},\n",
    "                        pool_params = {'pool_type': ('max', 'max', 'max', 'max',),\n",
    "                                       'kernel': ((1,8), (1,8), (1,8), (1,8), ),\n",
    "                                       'stride': ((1,2), (1,2), (1,2), (1,2), ),\n",
    "                                       'padding': ((0,0),(0,0), (0,0), (0,0), ),\n",
    "                                       'dilate': ((1,1), (1,1), (1,1), (1,1), )},\n",
    "                        fc_params = {'hidden_dim': (64,64)}, drop_prob = 0, \n",
    "#                         input_dim = (2,1,8192)\n",
    "                        input_dim = (1,1,8192)\n",
    "                       )\n",
    "Solver = Solver_nd(model = OURS_modified, \n",
    "                   train = train,\n",
    "                   test = test,\n",
    "                   SNR = 1, \n",
    "                   num_epoch=1, \n",
    "                   batch_size = 32\n",
    "                   ,  lr_rate=0.0003)\n",
    "\n",
    "# Solver = Solver_nd(model = OURS_modified, \n",
    "#                    train = GW_train,\n",
    "#                    test = GW_test,\n",
    "#                    SNR = 1, \n",
    "#                    num_epoch=30, \n",
    "#                    batch_size = 256\n",
    "#                    ,  lr_rate=0.0003)"
   ]
  },
  {
   "cell_type": "code",
   "execution_count": 89,
   "metadata": {
    "ExecuteTime": {
     "end_time": "2018-10-14T03:57:17.931909Z",
     "start_time": "2018-10-14T03:54:49.057002Z"
    }
   },
   "outputs": [
    {
     "name": "stdout",
     "output_type": "stream",
     "text": [
      "finish random data~\n",
      "(1000, 1, 8192) (1000, 1, 8192)\n",
      "(2000, 1, 8192)\n",
      "(1000, 1)\n",
      "(1000, 1, 8192)\n",
      "(1000, 1, 8192) (1000, 1, 8192)\n",
      "(2000, 1, 8192) (2000, 1, 8192)\n",
      "Epoch 1, Moving_loss: 0.693378, Epoch_loss(mean): 0.693209, Train_acc 0.5000, Test_acc 0.5000(Best:0.5000)\n",
      "Finished!\n"
     ]
    }
   ],
   "source": [
    "Solver.Training()"
   ]
  },
  {
   "cell_type": "markdown",
   "metadata": {},
   "source": [
    "# Two Channels"
   ]
  },
  {
   "cell_type": "code",
   "execution_count": 68,
   "metadata": {},
   "outputs": [
    {
     "name": "stdout",
     "output_type": "stream",
     "text": [
      "The autoreload extension is already loaded. To reload it, use:\n",
      "  %reload_ext autoreload\n",
      "The line_profiler extension is already loaded. To reload it, use:\n",
      "  %reload_ext line_profiler\n",
      "CPU or GPU? :  gpu(0)\n"
     ]
    }
   ],
   "source": [
    "import sys, os\n",
    "sys.path.append(os.path.abspath(''))   # 把当前目录设为引用模块的地址之一\n",
    "\n",
    "from utils import *\n",
    "from data_utils import *\n",
    "from models.solver_cnn import *\n",
    "from models.ConvNet import *\n",
    "\n",
    "import numpy as np\n",
    "import pandas as pd\n",
    "from itertools import product, permutations\n",
    "\n",
    "import matplotlib.pyplot as plt\n",
    "from sklearn import metrics\n",
    "\n",
    "# for auto-re00loading external modules\n",
    "# see http://stackoverflow.com/questions/1907993/autoreload-of-modules-in-ipython\n",
    "%load_ext autoreload\n",
    "%autoreload 2\n",
    "\n",
    "# Easily Profile Python Code in Jupyter\n",
    "# install conda install line_profiler or pip install line-profiler\n",
    "# see http://mortada.net/easily-profile-python-code-in-jupyter.html\n",
    "%load_ext line_profiler\n",
    "\n",
    "test_ctx()"
   ]
  },
  {
   "cell_type": "markdown",
   "metadata": {},
   "source": [
    "## Load Data"
   ]
  },
  {
   "cell_type": "code",
   "execution_count": 2,
   "metadata": {},
   "outputs": [
    {
     "name": "stdout",
     "output_type": "stream",
     "text": [
      "GW_H1.npy  GW_H1_index.npy  GW_L1.npy  GW_L1_index.npy\n"
     ]
    }
   ],
   "source": [
    "!ls ../input/gw_data"
   ]
  },
  {
   "cell_type": "code",
   "execution_count": 3,
   "metadata": {},
   "outputs": [
    {
     "name": "stdout",
     "output_type": "stream",
     "text": [
      "(1330, 8192)\n",
      "(1330, 8192)\n"
     ]
    }
   ],
   "source": [
    "if ctx == mx.cpu():\n",
    "    num = 1000\n",
    "    GW_address = './data/'\n",
    "elif ctx == mx.gpu():\n",
    "    GW_address = '../input/gw_data/'\n",
    "\n",
    "GW_data_H1 = pd.DataFrame(np.load(GW_address + 'GW_H1.npy', ), index=np.load(GW_address + 'GW_H1_index.npy'))\n",
    "GW_data_L1 = pd.DataFrame(np.load(GW_address + 'GW_L1.npy', ), index=np.load(GW_address + 'GW_L1_index.npy'))\n",
    "print(GW_data_H1.shape)\n",
    "print(GW_data_L1.shape)\n",
    "\n",
    "if ctx == mx.cpu():\n",
    "    GW_data_H1 = GW_data_H1.head(num)\n",
    "\n",
    "# noise_sample = nd.load('noise')[0]\n",
    "# noise_sample.shape\n",
    "# noise_sample = noise_sample[:num,:]"
   ]
  },
  {
   "cell_type": "markdown",
   "metadata": {},
   "source": [
    "- glimpse"
   ]
  },
  {
   "cell_type": "code",
   "execution_count": 4,
   "metadata": {},
   "outputs": [
    {
     "name": "stdout",
     "output_type": "stream",
     "text": [
      "(1330, 8192)\n"
     ]
    },
    {
     "data": {
      "text/html": [
       "<div>\n",
       "<style scoped>\n",
       "    .dataframe tbody tr th:only-of-type {\n",
       "        vertical-align: middle;\n",
       "    }\n",
       "\n",
       "    .dataframe tbody tr th {\n",
       "        vertical-align: top;\n",
       "    }\n",
       "\n",
       "    .dataframe thead th {\n",
       "        text-align: right;\n",
       "    }\n",
       "</style>\n",
       "<table border=\"1\" class=\"dataframe\">\n",
       "  <thead>\n",
       "    <tr style=\"text-align: right;\">\n",
       "      <th></th>\n",
       "      <th>0</th>\n",
       "      <th>1</th>\n",
       "      <th>2</th>\n",
       "      <th>3</th>\n",
       "      <th>4</th>\n",
       "      <th>5</th>\n",
       "      <th>6</th>\n",
       "      <th>7</th>\n",
       "      <th>8</th>\n",
       "      <th>9</th>\n",
       "      <th>...</th>\n",
       "      <th>8182</th>\n",
       "      <th>8183</th>\n",
       "      <th>8184</th>\n",
       "      <th>8185</th>\n",
       "      <th>8186</th>\n",
       "      <th>8187</th>\n",
       "      <th>8188</th>\n",
       "      <th>8189</th>\n",
       "      <th>8190</th>\n",
       "      <th>8191</th>\n",
       "    </tr>\n",
       "  </thead>\n",
       "  <tbody>\n",
       "    <tr>\n",
       "      <th>5.00|5.00</th>\n",
       "      <td>1.054130e-22</td>\n",
       "      <td>9.922528e-23</td>\n",
       "      <td>9.279175e-23</td>\n",
       "      <td>8.612821e-23</td>\n",
       "      <td>7.925107e-23</td>\n",
       "      <td>7.217726e-23</td>\n",
       "      <td>6.492422e-23</td>\n",
       "      <td>5.750983e-23</td>\n",
       "      <td>4.995236e-23</td>\n",
       "      <td>4.227047e-23</td>\n",
       "      <td>...</td>\n",
       "      <td>-0.0</td>\n",
       "      <td>-0.0</td>\n",
       "      <td>-0.0</td>\n",
       "      <td>-0.0</td>\n",
       "      <td>-0.0</td>\n",
       "      <td>-0.0</td>\n",
       "      <td>-0.0</td>\n",
       "      <td>-0.0</td>\n",
       "      <td>-0.0</td>\n",
       "      <td>-0.0</td>\n",
       "    </tr>\n",
       "    <tr>\n",
       "      <th>5.13|4.87</th>\n",
       "      <td>1.160190e-22</td>\n",
       "      <td>1.103344e-22</td>\n",
       "      <td>1.043764e-22</td>\n",
       "      <td>9.815966e-23</td>\n",
       "      <td>9.169958e-23</td>\n",
       "      <td>8.501203e-23</td>\n",
       "      <td>7.811349e-23</td>\n",
       "      <td>7.102095e-23</td>\n",
       "      <td>6.375191e-23</td>\n",
       "      <td>5.632430e-23</td>\n",
       "      <td>...</td>\n",
       "      <td>-0.0</td>\n",
       "      <td>-0.0</td>\n",
       "      <td>-0.0</td>\n",
       "      <td>-0.0</td>\n",
       "      <td>-0.0</td>\n",
       "      <td>-0.0</td>\n",
       "      <td>-0.0</td>\n",
       "      <td>-0.0</td>\n",
       "      <td>-0.0</td>\n",
       "      <td>-0.0</td>\n",
       "    </tr>\n",
       "    <tr>\n",
       "      <th>5.26|4.74</th>\n",
       "      <td>1.449005e-22</td>\n",
       "      <td>1.412315e-22</td>\n",
       "      <td>1.372125e-22</td>\n",
       "      <td>1.328535e-22</td>\n",
       "      <td>1.281651e-22</td>\n",
       "      <td>1.231590e-22</td>\n",
       "      <td>1.178474e-22</td>\n",
       "      <td>1.122434e-22</td>\n",
       "      <td>1.063608e-22</td>\n",
       "      <td>1.002142e-22</td>\n",
       "      <td>...</td>\n",
       "      <td>-0.0</td>\n",
       "      <td>-0.0</td>\n",
       "      <td>-0.0</td>\n",
       "      <td>-0.0</td>\n",
       "      <td>-0.0</td>\n",
       "      <td>-0.0</td>\n",
       "      <td>-0.0</td>\n",
       "      <td>-0.0</td>\n",
       "      <td>-0.0</td>\n",
       "      <td>-0.0</td>\n",
       "    </tr>\n",
       "    <tr>\n",
       "      <th>5.41|4.59</th>\n",
       "      <td>1.598507e-22</td>\n",
       "      <td>1.603821e-22</td>\n",
       "      <td>1.605156e-22</td>\n",
       "      <td>1.602509e-22</td>\n",
       "      <td>1.595885e-22</td>\n",
       "      <td>1.585300e-22</td>\n",
       "      <td>1.570778e-22</td>\n",
       "      <td>1.552355e-22</td>\n",
       "      <td>1.530076e-22</td>\n",
       "      <td>1.503994e-22</td>\n",
       "      <td>...</td>\n",
       "      <td>-0.0</td>\n",
       "      <td>-0.0</td>\n",
       "      <td>-0.0</td>\n",
       "      <td>-0.0</td>\n",
       "      <td>-0.0</td>\n",
       "      <td>-0.0</td>\n",
       "      <td>-0.0</td>\n",
       "      <td>-0.0</td>\n",
       "      <td>-0.0</td>\n",
       "      <td>-0.0</td>\n",
       "    </tr>\n",
       "    <tr>\n",
       "      <th>5.56|4.44</th>\n",
       "      <td>9.587190e-23</td>\n",
       "      <td>1.021275e-22</td>\n",
       "      <td>1.081296e-22</td>\n",
       "      <td>1.138630e-22</td>\n",
       "      <td>1.193135e-22</td>\n",
       "      <td>1.244674e-22</td>\n",
       "      <td>1.293118e-22</td>\n",
       "      <td>1.338345e-22</td>\n",
       "      <td>1.380242e-22</td>\n",
       "      <td>1.418704e-22</td>\n",
       "      <td>...</td>\n",
       "      <td>-0.0</td>\n",
       "      <td>-0.0</td>\n",
       "      <td>-0.0</td>\n",
       "      <td>-0.0</td>\n",
       "      <td>-0.0</td>\n",
       "      <td>-0.0</td>\n",
       "      <td>-0.0</td>\n",
       "      <td>-0.0</td>\n",
       "      <td>-0.0</td>\n",
       "      <td>-0.0</td>\n",
       "    </tr>\n",
       "  </tbody>\n",
       "</table>\n",
       "<p>5 rows × 8192 columns</p>\n",
       "</div>"
      ],
      "text/plain": [
       "                   0             1             2             3     \\\n",
       "5.00|5.00  1.054130e-22  9.922528e-23  9.279175e-23  8.612821e-23   \n",
       "5.13|4.87  1.160190e-22  1.103344e-22  1.043764e-22  9.815966e-23   \n",
       "5.26|4.74  1.449005e-22  1.412315e-22  1.372125e-22  1.328535e-22   \n",
       "5.41|4.59  1.598507e-22  1.603821e-22  1.605156e-22  1.602509e-22   \n",
       "5.56|4.44  9.587190e-23  1.021275e-22  1.081296e-22  1.138630e-22   \n",
       "\n",
       "                   4             5             6             7     \\\n",
       "5.00|5.00  7.925107e-23  7.217726e-23  6.492422e-23  5.750983e-23   \n",
       "5.13|4.87  9.169958e-23  8.501203e-23  7.811349e-23  7.102095e-23   \n",
       "5.26|4.74  1.281651e-22  1.231590e-22  1.178474e-22  1.122434e-22   \n",
       "5.41|4.59  1.595885e-22  1.585300e-22  1.570778e-22  1.552355e-22   \n",
       "5.56|4.44  1.193135e-22  1.244674e-22  1.293118e-22  1.338345e-22   \n",
       "\n",
       "                   8             9     ...   8182  8183  8184  8185  8186  \\\n",
       "5.00|5.00  4.995236e-23  4.227047e-23  ...   -0.0  -0.0  -0.0  -0.0  -0.0   \n",
       "5.13|4.87  6.375191e-23  5.632430e-23  ...   -0.0  -0.0  -0.0  -0.0  -0.0   \n",
       "5.26|4.74  1.063608e-22  1.002142e-22  ...   -0.0  -0.0  -0.0  -0.0  -0.0   \n",
       "5.41|4.59  1.530076e-22  1.503994e-22  ...   -0.0  -0.0  -0.0  -0.0  -0.0   \n",
       "5.56|4.44  1.380242e-22  1.418704e-22  ...   -0.0  -0.0  -0.0  -0.0  -0.0   \n",
       "\n",
       "           8187  8188  8189  8190  8191  \n",
       "5.00|5.00  -0.0  -0.0  -0.0  -0.0  -0.0  \n",
       "5.13|4.87  -0.0  -0.0  -0.0  -0.0  -0.0  \n",
       "5.26|4.74  -0.0  -0.0  -0.0  -0.0  -0.0  \n",
       "5.41|4.59  -0.0  -0.0  -0.0  -0.0  -0.0  \n",
       "5.56|4.44  -0.0  -0.0  -0.0  -0.0  -0.0  \n",
       "\n",
       "[5 rows x 8192 columns]"
      ]
     },
     "execution_count": 4,
     "metadata": {},
     "output_type": "execute_result"
    }
   ],
   "source": [
    "print(GW_data_H1.shape)\n",
    "GW_data_H1.head()"
   ]
  },
  {
   "cell_type": "code",
   "execution_count": 5,
   "metadata": {},
   "outputs": [
    {
     "name": "stdout",
     "output_type": "stream",
     "text": [
      "(1330, 8192)\n"
     ]
    },
    {
     "data": {
      "text/html": [
       "<div>\n",
       "<style scoped>\n",
       "    .dataframe tbody tr th:only-of-type {\n",
       "        vertical-align: middle;\n",
       "    }\n",
       "\n",
       "    .dataframe tbody tr th {\n",
       "        vertical-align: top;\n",
       "    }\n",
       "\n",
       "    .dataframe thead th {\n",
       "        text-align: right;\n",
       "    }\n",
       "</style>\n",
       "<table border=\"1\" class=\"dataframe\">\n",
       "  <thead>\n",
       "    <tr style=\"text-align: right;\">\n",
       "      <th></th>\n",
       "      <th>0</th>\n",
       "      <th>1</th>\n",
       "      <th>2</th>\n",
       "      <th>3</th>\n",
       "      <th>4</th>\n",
       "      <th>5</th>\n",
       "      <th>6</th>\n",
       "      <th>7</th>\n",
       "      <th>8</th>\n",
       "      <th>9</th>\n",
       "      <th>...</th>\n",
       "      <th>8182</th>\n",
       "      <th>8183</th>\n",
       "      <th>8184</th>\n",
       "      <th>8185</th>\n",
       "      <th>8186</th>\n",
       "      <th>8187</th>\n",
       "      <th>8188</th>\n",
       "      <th>8189</th>\n",
       "      <th>8190</th>\n",
       "      <th>8191</th>\n",
       "    </tr>\n",
       "  </thead>\n",
       "  <tbody>\n",
       "    <tr>\n",
       "      <th>5.00|5.00</th>\n",
       "      <td>-1.484704e-22</td>\n",
       "      <td>-1.469948e-22</td>\n",
       "      <td>-1.451561e-22</td>\n",
       "      <td>-1.429585e-22</td>\n",
       "      <td>-1.404075e-22</td>\n",
       "      <td>-1.375093e-22</td>\n",
       "      <td>-1.342710e-22</td>\n",
       "      <td>-1.307005e-22</td>\n",
       "      <td>-1.268066e-22</td>\n",
       "      <td>-1.225987e-22</td>\n",
       "      <td>...</td>\n",
       "      <td>0.0</td>\n",
       "      <td>0.0</td>\n",
       "      <td>0.0</td>\n",
       "      <td>0.0</td>\n",
       "      <td>0.0</td>\n",
       "      <td>0.0</td>\n",
       "      <td>0.0</td>\n",
       "      <td>0.0</td>\n",
       "      <td>0.0</td>\n",
       "      <td>0.0</td>\n",
       "    </tr>\n",
       "    <tr>\n",
       "      <th>5.13|4.87</th>\n",
       "      <td>-1.499905e-22</td>\n",
       "      <td>-1.491955e-22</td>\n",
       "      <td>-1.480317e-22</td>\n",
       "      <td>-1.465019e-22</td>\n",
       "      <td>-1.446100e-22</td>\n",
       "      <td>-1.423603e-22</td>\n",
       "      <td>-1.397584e-22</td>\n",
       "      <td>-1.368107e-22</td>\n",
       "      <td>-1.335244e-22</td>\n",
       "      <td>-1.299075e-22</td>\n",
       "      <td>...</td>\n",
       "      <td>0.0</td>\n",
       "      <td>0.0</td>\n",
       "      <td>0.0</td>\n",
       "      <td>0.0</td>\n",
       "      <td>0.0</td>\n",
       "      <td>0.0</td>\n",
       "      <td>0.0</td>\n",
       "      <td>0.0</td>\n",
       "      <td>0.0</td>\n",
       "      <td>0.0</td>\n",
       "    </tr>\n",
       "    <tr>\n",
       "      <th>5.26|4.74</th>\n",
       "      <td>-1.466213e-22</td>\n",
       "      <td>-1.481578e-22</td>\n",
       "      <td>-1.493279e-22</td>\n",
       "      <td>-1.501287e-22</td>\n",
       "      <td>-1.505580e-22</td>\n",
       "      <td>-1.506148e-22</td>\n",
       "      <td>-1.502988e-22</td>\n",
       "      <td>-1.496107e-22</td>\n",
       "      <td>-1.485521e-22</td>\n",
       "      <td>-1.471256e-22</td>\n",
       "      <td>...</td>\n",
       "      <td>0.0</td>\n",
       "      <td>0.0</td>\n",
       "      <td>0.0</td>\n",
       "      <td>0.0</td>\n",
       "      <td>0.0</td>\n",
       "      <td>0.0</td>\n",
       "      <td>0.0</td>\n",
       "      <td>0.0</td>\n",
       "      <td>0.0</td>\n",
       "      <td>0.0</td>\n",
       "    </tr>\n",
       "    <tr>\n",
       "      <th>5.41|4.59</th>\n",
       "      <td>-1.076203e-22</td>\n",
       "      <td>-1.126906e-22</td>\n",
       "      <td>-1.174820e-22</td>\n",
       "      <td>-1.219825e-22</td>\n",
       "      <td>-1.261808e-22</td>\n",
       "      <td>-1.300665e-22</td>\n",
       "      <td>-1.336299e-22</td>\n",
       "      <td>-1.368620e-22</td>\n",
       "      <td>-1.397547e-22</td>\n",
       "      <td>-1.423008e-22</td>\n",
       "      <td>...</td>\n",
       "      <td>0.0</td>\n",
       "      <td>0.0</td>\n",
       "      <td>0.0</td>\n",
       "      <td>0.0</td>\n",
       "      <td>0.0</td>\n",
       "      <td>0.0</td>\n",
       "      <td>0.0</td>\n",
       "      <td>0.0</td>\n",
       "      <td>0.0</td>\n",
       "      <td>0.0</td>\n",
       "    </tr>\n",
       "    <tr>\n",
       "      <th>5.56|4.44</th>\n",
       "      <td>4.710359e-24</td>\n",
       "      <td>-2.731377e-24</td>\n",
       "      <td>-1.016725e-23</td>\n",
       "      <td>-1.757875e-23</td>\n",
       "      <td>-2.494738e-23</td>\n",
       "      <td>-3.225479e-23</td>\n",
       "      <td>-3.948275e-23</td>\n",
       "      <td>-4.661323e-23</td>\n",
       "      <td>-5.362842e-23</td>\n",
       "      <td>-6.051083e-23</td>\n",
       "      <td>...</td>\n",
       "      <td>0.0</td>\n",
       "      <td>0.0</td>\n",
       "      <td>0.0</td>\n",
       "      <td>0.0</td>\n",
       "      <td>0.0</td>\n",
       "      <td>0.0</td>\n",
       "      <td>0.0</td>\n",
       "      <td>0.0</td>\n",
       "      <td>0.0</td>\n",
       "      <td>0.0</td>\n",
       "    </tr>\n",
       "  </tbody>\n",
       "</table>\n",
       "<p>5 rows × 8192 columns</p>\n",
       "</div>"
      ],
      "text/plain": [
       "                   0             1             2             3     \\\n",
       "5.00|5.00 -1.484704e-22 -1.469948e-22 -1.451561e-22 -1.429585e-22   \n",
       "5.13|4.87 -1.499905e-22 -1.491955e-22 -1.480317e-22 -1.465019e-22   \n",
       "5.26|4.74 -1.466213e-22 -1.481578e-22 -1.493279e-22 -1.501287e-22   \n",
       "5.41|4.59 -1.076203e-22 -1.126906e-22 -1.174820e-22 -1.219825e-22   \n",
       "5.56|4.44  4.710359e-24 -2.731377e-24 -1.016725e-23 -1.757875e-23   \n",
       "\n",
       "                   4             5             6             7     \\\n",
       "5.00|5.00 -1.404075e-22 -1.375093e-22 -1.342710e-22 -1.307005e-22   \n",
       "5.13|4.87 -1.446100e-22 -1.423603e-22 -1.397584e-22 -1.368107e-22   \n",
       "5.26|4.74 -1.505580e-22 -1.506148e-22 -1.502988e-22 -1.496107e-22   \n",
       "5.41|4.59 -1.261808e-22 -1.300665e-22 -1.336299e-22 -1.368620e-22   \n",
       "5.56|4.44 -2.494738e-23 -3.225479e-23 -3.948275e-23 -4.661323e-23   \n",
       "\n",
       "                   8             9     ...   8182  8183  8184  8185  8186  \\\n",
       "5.00|5.00 -1.268066e-22 -1.225987e-22  ...    0.0   0.0   0.0   0.0   0.0   \n",
       "5.13|4.87 -1.335244e-22 -1.299075e-22  ...    0.0   0.0   0.0   0.0   0.0   \n",
       "5.26|4.74 -1.485521e-22 -1.471256e-22  ...    0.0   0.0   0.0   0.0   0.0   \n",
       "5.41|4.59 -1.397547e-22 -1.423008e-22  ...    0.0   0.0   0.0   0.0   0.0   \n",
       "5.56|4.44 -5.362842e-23 -6.051083e-23  ...    0.0   0.0   0.0   0.0   0.0   \n",
       "\n",
       "           8187  8188  8189  8190  8191  \n",
       "5.00|5.00   0.0   0.0   0.0   0.0   0.0  \n",
       "5.13|4.87   0.0   0.0   0.0   0.0   0.0  \n",
       "5.26|4.74   0.0   0.0   0.0   0.0   0.0  \n",
       "5.41|4.59   0.0   0.0   0.0   0.0   0.0  \n",
       "5.56|4.44   0.0   0.0   0.0   0.0   0.0  \n",
       "\n",
       "[5 rows x 8192 columns]"
      ]
     },
     "execution_count": 5,
     "metadata": {},
     "output_type": "execute_result"
    }
   ],
   "source": [
    "print(GW_data_L1.shape)\n",
    "GW_data_L1.head()"
   ]
  },
  {
   "cell_type": "markdown",
   "metadata": {},
   "source": [
    "- divided into training/testing dataset"
   ]
  },
  {
   "cell_type": "code",
   "execution_count": 6,
   "metadata": {},
   "outputs": [
    {
     "name": "stdout",
     "output_type": "stream",
     "text": [
      "Number of unique masses for training/testing: 665/665\n"
     ]
    }
   ],
   "source": [
    "TTmass = pd.Series(GW_data_H1.index.unique().tolist()).map(lambda x: int(float(x.split('|')[0]) + float(x.split('|')[1]))).unique()\n",
    "TTmass.sort()\n",
    "mass_step = TTmass[1] - TTmass[0]\n",
    "\n",
    "# 总质量的 index\n",
    "train_index = [m for m in GW_data_H1.index.unique().tolist() if float(m.split('|')[0]) + float(m.split('|')[1]) in range(TTmass[0], TTmass[-1]+mass_step, 2*mass_step)]\n",
    "test_index = [m for m in GW_data_H1.index.unique().tolist() if float(m.split('|')[0]) + float(m.split('|')[1]) in range(TTmass[0]+mass_step, TTmass[-1]+mass_step, 2*mass_step)]\n",
    "\n",
    "if ctx == mx.gpu():\n",
    "    assert len(train_index) == len(test_index)\n",
    "    \n",
    "print('Number of unique masses for training/testing: %s/%s' %(len(train_index), len(test_index)) )"
   ]
  },
  {
   "cell_type": "markdown",
   "metadata": {},
   "source": [
    "- multi-channel (2 channels)"
   ]
  },
  {
   "cell_type": "code",
   "execution_count": null,
   "metadata": {},
   "outputs": [],
   "source": []
  },
  {
   "cell_type": "code",
   "execution_count": 7,
   "metadata": {},
   "outputs": [
    {
     "name": "stdout",
     "output_type": "stream",
     "text": [
      "(665, 2, 8192)\n",
      "(665, 2, 8192)\n"
     ]
    }
   ],
   "source": [
    "# From Panyi + Liu\n",
    "GW_data_train_reshape = []\n",
    "for index in train_index:\n",
    "    temp_H1 = GW_data_H1[GW_data_H1.index == index].values\n",
    "    temp_L1 = GW_data_L1[GW_data_L1.index == index].values\n",
    "    temp = np.concatenate((temp_H1.reshape((1,1,8192)), temp_L1.reshape((1,1,8192))),axis=1)\n",
    "    GW_data_train_reshape.extend(temp)\n",
    "    \n",
    "GW_data_test_reshape = []\n",
    "for index in test_index:\n",
    "    temp_H1 = GW_data_H1[GW_data_H1.index == index].values\n",
    "    temp_L1 = GW_data_L1[GW_data_L1.index == index].values\n",
    "    temp = np.concatenate((temp_H1.reshape((1,1,8192)), temp_L1.reshape((1,1,8192))),axis=1)\n",
    "    GW_data_test_reshape.extend(temp)    \n",
    "    \n",
    "print(np.array(GW_data_train_reshape).shape)\n",
    "print(np.array(GW_data_test_reshape).shape)"
   ]
  },
  {
   "cell_type": "code",
   "execution_count": null,
   "metadata": {},
   "outputs": [],
   "source": []
  },
  {
   "cell_type": "code",
   "execution_count": null,
   "metadata": {},
   "outputs": [],
   "source": []
  },
  {
   "cell_type": "code",
   "execution_count": 8,
   "metadata": {},
   "outputs": [],
   "source": [
    "# %%time\n",
    "# from itertools import product\n",
    "# GW_data_train_reshape = []\n",
    "# for index in train_index:\n",
    "#     temp = GW_data[GW_data.index == index].values\n",
    "    \n",
    "#     for value in product(range(10),range(10)):\n",
    "#         GW_data_train_reshape.extend(temp[value,:].reshape((-1,len(value),8192)))\n",
    "\n",
    "# GW_data_test_reshape = []\n",
    "# for index in test_index:\n",
    "#     temp = GW_data[GW_data.index == index].values\n",
    "    \n",
    "#     for value in product(range(10),range(10)):\n",
    "#         GW_data_test_reshape.extend(temp[value,:].reshape((-1,len(value),8192)))"
   ]
  },
  {
   "cell_type": "code",
   "execution_count": null,
   "metadata": {},
   "outputs": [],
   "source": []
  },
  {
   "cell_type": "code",
   "execution_count": null,
   "metadata": {},
   "outputs": [],
   "source": []
  },
  {
   "cell_type": "code",
   "execution_count": 9,
   "metadata": {},
   "outputs": [
    {
     "name": "stdout",
     "output_type": "stream",
     "text": [
      "(665, 2, 8192)\n",
      "(665, 2, 8192)\n"
     ]
    }
   ],
   "source": [
    "GW_train = nd.array(GW_data_train_reshape, ctx=ctx)\n",
    "print(GW_train.shape)\n",
    "GW_test = nd.array(GW_data_test_reshape, ctx=ctx)\n",
    "print(GW_test.shape)"
   ]
  },
  {
   "cell_type": "code",
   "execution_count": 10,
   "metadata": {},
   "outputs": [],
   "source": [
    "del GW_data_H1, GW_data_L1, GW_data_test_reshape, GW_data_train_reshape"
   ]
  },
  {
   "cell_type": "code",
   "execution_count": 11,
   "metadata": {},
   "outputs": [
    {
     "data": {
      "image/png": "[encoded data removed]",
      "text/plain": [
       "<Figure size 720x720 with 2 Axes>"
      ]
     },
     "metadata": {},
     "output_type": "display_data"
    }
   ],
   "source": [
    "a = 12\n",
    "plt.figure(figsize=(10, 10))\n",
    "plt.subplot(2,1,1)\n",
    "plt.plot(GW_train.asnumpy()[a,0,:], label = 'H1')\n",
    "plt.plot(GW_train.asnumpy()[a,1,:], label = 'L1')\n",
    "plt.legend()\n",
    "plt.title(train_index[a])\n",
    "a = 500\n",
    "plt.subplot(2,1,2)\n",
    "plt.plot(GW_train.asnumpy()[a,0,:], label = 'H1')\n",
    "plt.plot(GW_train.asnumpy()[a,1,:], label = 'L1')\n",
    "plt.legend()\n",
    "plt.title(train_index[a])\n",
    "plt.show()"
   ]
  },
  {
   "cell_type": "code",
   "execution_count": 12,
   "metadata": {},
   "outputs": [
    {
     "data": {
      "text/plain": [
       "(665, 1, 16384)"
      ]
     },
     "execution_count": 12,
     "metadata": {},
     "output_type": "execute_result"
    }
   ],
   "source": [
    "GW_train.reshape((GW_train.shape[0],1,-1)).shape"
   ]
  },
  {
   "cell_type": "markdown",
   "metadata": {},
   "source": [
    "## Check the efficiency of the generator of colored noises"
   ]
  },
  {
   "cell_type": "markdown",
   "metadata": {},
   "source": [
    "- 不混合"
   ]
  },
  {
   "cell_type": "code",
   "execution_count": 135,
   "metadata": {},
   "outputs": [
    {
     "name": "stdout",
     "output_type": "stream",
     "text": [
      "Label for training: (1330,)\n",
      "Label for testing: (1330,)\n"
     ]
    }
   ],
   "source": [
    "OURS_modified = ConvNet(conv_params = {'kernel': ((1,16), (1,8), (1,8), (1,8)), \n",
    "                                       'num_filter': (8, 16, 32, 64),\n",
    "                                       'stride': ((1,1), (1,1), (1,1), (1,1)),\n",
    "                                       'padding': ((0,0), (0,0), (0,0), (0,0)),\n",
    "                                       'dilate': ((1,1), (1,1), (1,1), (1,1))},\n",
    "                        act_params = {'act_type': ('elu', 'elu', 'elu', 'elu', 'elu', 'elu')},\n",
    "                        pool_params = {'pool_type': ('max', 'max', 'max', 'max',),\n",
    "                                       'kernel': ((1,8), (1,8), (1,8), (1,8), ),\n",
    "                                       'stride': ((1,2), (1,2), (1,2), (1,2), ),\n",
    "                                       'padding': ((0,0),(0,0), (0,0), (0,0), ),\n",
    "                                       'dilate': ((1,1), (1,1), (1,1), (1,1), )},\n",
    "                        fc_params = {'hidden_dim': (64,64)}, drop_prob = 0, \n",
    "#                         input_dim = (2,1,8192)\n",
    "                        input_dim = (1,1,2*8192)\n",
    "                       )\n",
    "Solver = Solver_nd(model = OURS_modified, \n",
    "                   train = GW_train.reshape((GW_train.shape[0],1,-1)), \n",
    "                   test = GW_test.reshape((GW_test.shape[0],1,-1)), \n",
    "                   SNR = 1, \n",
    "                   num_epoch=30, \n",
    "                   batch_size = 256\n",
    "                   ,  lr_rate=0.0003)\n",
    "\n",
    "# Solver = Solver_nd(model = OURS_modified, \n",
    "#                    train = GW_train,\n",
    "#                    test = GW_test,\n",
    "#                    SNR = 1, \n",
    "#                    num_epoch=30, \n",
    "#                    batch_size = 256\n",
    "#                    ,  lr_rate=0.0003)"
   ]
  },
  {
   "cell_type": "code",
   "execution_count": 136,
   "metadata": {},
   "outputs": [
    {
     "name": "stdout",
     "output_type": "stream",
     "text": [
      "Epoch 1, Moving_loss: 0.693111, Epoch_loss(mean): 0.693163, Train_acc 0.5000, Test_acc 0.5000(Best:0.5000)\n",
      "Epoch 2, Moving_loss: 0.693114, Epoch_loss(mean): 0.693156, Train_acc 0.5000, Test_acc 0.5000(Best:0.5000)\n",
      "Epoch 3, Moving_loss: 0.693117, Epoch_loss(mean): 0.693173, Train_acc 0.5000, Test_acc 0.5000(Best:0.5000)\n",
      "Epoch 4, Moving_loss: 0.693119, Epoch_loss(mean): 0.693139, Train_acc 0.5000, Test_acc 0.5000(Best:0.5000)\n",
      "Epoch 5, Moving_loss: 0.693119, Epoch_loss(mean): 0.693122, Train_acc 0.5000, Test_acc 0.5000(Best:0.5000)\n",
      "Epoch 6, Moving_loss: 0.693096, Epoch_loss(mean): 0.692737, Train_acc 0.5000, Test_acc 0.5000(Best:0.5000)\n",
      "Epoch 7, Moving_loss: 0.692854, Epoch_loss(mean): 0.689001, Train_acc 1.0000, Test_acc 1.0000(Best:1.0000)\n",
      "Epoch 8, Moving_loss: 0.691516, Epoch_loss(mean): 0.670140, Train_acc 1.0000, Test_acc 1.0000(Best:1.0000)\n",
      "Epoch 9, Moving_loss: 0.686641, Epoch_loss(mean): 0.608676, Train_acc 1.0000, Test_acc 1.0000(Best:1.0000)\n",
      "Epoch 10, Moving_loss: 0.674213, Epoch_loss(mean): 0.475094, Train_acc 1.0000, Test_acc 1.0000(Best:1.0000)\n",
      "Epoch 11, Moving_loss: 0.652219, Epoch_loss(mean): 0.299151, Train_acc 1.0000, Test_acc 1.0000(Best:1.0000)\n",
      "Epoch 12, Moving_loss: 0.622745, Epoch_loss(mean): 0.149205, Train_acc 1.0000, Test_acc 1.0000(Best:1.0000)\n",
      "Epoch 13, Moving_loss: 0.589803, Epoch_loss(mean): 0.060105, Train_acc 1.0000, Test_acc 1.0000(Best:1.0000)\n",
      "Epoch 14, Moving_loss: 0.556583, Epoch_loss(mean): 0.022219, Train_acc 1.0000, Test_acc 1.0000(Best:1.0000)\n",
      "Epoch 15, Moving_loss: 0.524619, Epoch_loss(mean): 0.010412, Train_acc 1.0000, Test_acc 1.0000(Best:1.0000)\n",
      "Epoch 16, Moving_loss: 0.494348, Epoch_loss(mean): 0.007312, Train_acc 1.0000, Test_acc 1.0000(Best:1.0000)\n",
      "Epoch 17, Moving_loss: 0.465683, Epoch_loss(mean): 0.004520, Train_acc 1.0000, Test_acc 1.0000(Best:1.0000)\n",
      "Epoch 18, Moving_loss: 0.438648, Epoch_loss(mean): 0.003707, Train_acc 1.0000, Test_acc 1.0000(Best:1.0000)\n",
      "Epoch 19, Moving_loss: 0.413189, Epoch_loss(mean): 0.003595, Train_acc 1.0000, Test_acc 1.0000(Best:1.0000)\n",
      "Epoch 20, Moving_loss: 0.389172, Epoch_loss(mean): 0.002787, Train_acc 1.0000, Test_acc 1.0000(Best:1.0000)\n",
      "Epoch 21, Moving_loss: 0.366565, Epoch_loss(mean): 0.002850, Train_acc 1.0000, Test_acc 1.0000(Best:1.0000)\n",
      "Epoch 22, Moving_loss: 0.345262, Epoch_loss(mean): 0.002548, Train_acc 1.0000, Test_acc 1.0000(Best:1.0000)\n",
      "Epoch 23, Moving_loss: 0.325238, Epoch_loss(mean): 0.003075, Train_acc 1.0000, Test_acc 1.0000(Best:1.0000)\n",
      "Epoch 24, Moving_loss: 0.306346, Epoch_loss(mean): 0.002421, Train_acc 1.0000, Test_acc 1.0000(Best:1.0000)\n",
      "Epoch 25, Moving_loss: 0.288567, Epoch_loss(mean): 0.002519, Train_acc 1.0000, Test_acc 1.0000(Best:1.0000)\n",
      "Epoch 26, Moving_loss: 0.271828, Epoch_loss(mean): 0.002533, Train_acc 1.0000, Test_acc 1.0000(Best:1.0000)\n",
      "Epoch 27, Moving_loss: 0.256054, Epoch_loss(mean): 0.002286, Train_acc 1.0000, Test_acc 1.0000(Best:1.0000)\n",
      "Epoch 28, Moving_loss: 0.241204, Epoch_loss(mean): 0.002282, Train_acc 1.0000, Test_acc 1.0000(Best:1.0000)\n",
      "Epoch 29, Moving_loss: 0.227223, Epoch_loss(mean): 0.002293, Train_acc 1.0000, Test_acc 1.0000(Best:1.0000)\n",
      "Epoch 30, Moving_loss: 0.214063, Epoch_loss(mean): 0.002353, Train_acc 1.0000, Test_acc 1.0000(Best:1.0000)\n",
      "Finished!\n"
     ]
    }
   ],
   "source": [
    "Solver.Training()"
   ]
  },
  {
   "cell_type": "code",
   "execution_count": 137,
   "metadata": {},
   "outputs": [
    {
     "data": {
      "image/png": "[encoded data removed]",
      "text/plain": [
       "<Figure size 1008x360 with 2 Axes>"
      ]
     },
     "metadata": {},
     "output_type": "display_data"
    }
   ],
   "source": [
    "# finite noises\n",
    "plt.figure(figsize=(14,5))\n",
    "plt.subplot(1,2,1)\n",
    "plt.plot(Solver.loss_history, label = 'training loss')\n",
    "plt.plot(Solver.loss_v_history, label = 'testing loss')\n",
    "plt.legend()\n",
    "plt.subplot(1,2,2)\n",
    "plt.plot(Solver.train_acc_history, label = 'training acc.')\n",
    "plt.plot(Solver.test_acc_history, label = 'testing acc.')\n",
    "plt.legend()\n",
    "plt.show()\n",
    "\n",
    "nd.save('./pretrained_models/non_mixed_fn_SNR=1', Solver.best_params)"
   ]
  },
  {
   "cell_type": "code",
   "execution_count": 134,
   "metadata": {},
   "outputs": [
    {
     "data": {
      "image/png": "[encoded data removed]",
      "text/plain": [
       "<Figure size 1008x360 with 2 Axes>"
      ]
     },
     "metadata": {},
     "output_type": "display_data"
    }
   ],
   "source": [
    "# infinite noises\n",
    "plt.figure(figsize=(14,5))\n",
    "plt.subplot(1,2,1)\n",
    "plt.plot(Solver.loss_history, label = 'training loss')\n",
    "plt.plot(Solver.loss_v_history, label = 'testing loss')\n",
    "plt.legend()\n",
    "plt.subplot(1,2,2)\n",
    "plt.plot(Solver.train_acc_history, label = 'training acc.')\n",
    "plt.plot(Solver.test_acc_history, label = 'testing acc.')\n",
    "plt.legend()\n",
    "plt.show()\n",
    "\n",
    "nd.save('./pretrained_models/non_mixed_in_SNR=1', Solver.best_params)"
   ]
  },
  {
   "cell_type": "code",
   "execution_count": null,
   "metadata": {},
   "outputs": [],
   "source": []
  },
  {
   "cell_type": "code",
   "execution_count": 81,
   "metadata": {},
   "outputs": [
    {
     "data": {
      "image/png": "[encoded data removed]",
      "text/plain": [
       "<Figure size 1008x360 with 2 Axes>"
      ]
     },
     "metadata": {},
     "output_type": "display_data"
    }
   ],
   "source": [
    "# infinite noises\n",
    "plt.figure(figsize=(14,5))\n",
    "plt.subplot(1,2,1)\n",
    "plt.plot(Solver.loss_history, label = 'training loss')\n",
    "plt.plot(Solver.loss_v_history, label = 'testing loss')\n",
    "plt.legend()\n",
    "plt.subplot(1,2,2)\n",
    "plt.plot(Solver.train_acc_history, label = 'training acc.')\n",
    "plt.plot(Solver.test_acc_history, label = 'testing acc.')\n",
    "plt.legend()\n",
    "plt.show()\n",
    "\n",
    "nd.save('./pretrained_models/infinite_noise_SNR=1', Solver.best_params)"
   ]
  },
  {
   "cell_type": "code",
   "execution_count": null,
   "metadata": {},
   "outputs": [],
   "source": []
  },
  {
   "cell_type": "code",
   "execution_count": 88,
   "metadata": {},
   "outputs": [
    {
     "data": {
      "image/png": "[encoded data removed]",
      "text/plain": [
       "<Figure size 1008x360 with 2 Axes>"
      ]
     },
     "metadata": {},
     "output_type": "display_data"
    }
   ],
   "source": [
    "# finite noises\n",
    "plt.figure(figsize=(14,5))\n",
    "plt.subplot(1,2,1)\n",
    "plt.plot(Solver.loss_history, label = 'training loss')\n",
    "plt.plot(Solver.loss_v_history, label = 'testing loss')\n",
    "plt.legend()\n",
    "plt.subplot(1,2,2)\n",
    "plt.plot(Solver.train_acc_history, label = 'training acc.')\n",
    "plt.plot(Solver.test_acc_history, label = 'testing acc.')\n",
    "plt.legend()\n",
    "plt.show()\n",
    "\n",
    "nd.save('./pretrained_models/finite_noise_SNR=1', Solver.best_params)"
   ]
  },
  {
   "cell_type": "markdown",
   "metadata": {},
   "source": [
    "\n",
    "\n",
    "## Predict"
   ]
  },
  {
   "cell_type": "code",
   "execution_count": 106,
   "metadata": {},
   "outputs": [
    {
     "name": "stdout",
     "output_type": "stream",
     "text": [
      "Label for training: (1330,)\n",
      "Label for testing: (1330,)\n",
      "Label for training: (1330,)\n",
      "Label for testing: (1330,)\n",
      "Label for training: (1330,)\n",
      "Label for testing: (1330,)\n",
      "Label for training: (1330,)\n",
      "Label for testing: (1330,)\n",
      "Label for training: (1330,)\n",
      "Label for testing: (1330,)\n",
      "Label for training: (1330,)\n",
      "Label for testing: (1330,)\n",
      "Label for training: (1330,)\n",
      "Label for testing: (1330,)\n",
      "Label for training: (1330,)\n",
      "Label for testing: (1330,)\n",
      "Label for training: (1330,)\n",
      "Label for testing: (1330,)\n",
      "Label for training: (1330,)\n",
      "Label for testing: (1330,)\n"
     ]
    }
   ],
   "source": [
    "OURS_modified = ConvNet(conv_params = {'kernel': ((1,16), (1,8), (1,8), (1,8)), \n",
    "                                       'num_filter': (8, 16, 32, 64),\n",
    "                                       'stride': ((1,1), (1,1), (1,1), (1,1)),\n",
    "                                       'padding': ((0,0), (0,0), (0,0), (0,0)),\n",
    "                                       'dilate': ((1,1), (1,1), (1,1), (1,1))},\n",
    "                        act_params = {'act_type': ('elu', 'elu', 'elu', 'elu', 'elu', 'elu')},\n",
    "                        pool_params = {'pool_type': ('max', 'max', 'max', 'max',),\n",
    "                                       'kernel': ((1,8), (1,8), (1,8), (1,8), ),\n",
    "                                       'stride': ((1,2), (1,2), (1,2), (1,2), ),\n",
    "                                       'padding': ((0,0),(0,0), (0,0), (0,0), ),\n",
    "                                       'dilate': ((1,1), (1,1), (1,1), (1,1), )},\n",
    "                        fc_params = {'hidden_dim': (64,64)}, drop_prob = 0, \n",
    "                        params_inits = nd.load('./pretrained_models/finite_noise_SNR=1'),\n",
    "                        input_dim = (2,1,8192)\n",
    "#                         input_dim = (1,1,2*8192)\n",
    "                       )\n",
    "auc_list = []\n",
    "for snr in np.linspace(0.1, 1, 10):\n",
    "    Solver = Solver_nd(model = OURS_modified, \n",
    "                       train = GW_train,#.reshape((GW_train.shape[0],1,-1)), \n",
    "                       test = GW_test,#.reshape((GW_test.shape[0],1,-1)), \n",
    "                       SNR = snr, \n",
    "                       batch_size = 256)\n",
    "    auc_var_list = []\n",
    "    for i in range(10):\n",
    "        prob, label, _= Solver.predict_nd()\n",
    "        fpr, tpr, thresholds = metrics.roc_curve(label, prob, pos_label=1)\n",
    "        auc_var_list.append(metrics.auc(fpr, tpr))\n",
    "        if i == 9: break\n",
    "            \n",
    "    auc_list.append(auc_var_list)\n",
    "\n",
    "np.save('./images/auc_finite_noise_SNR=1', auc_list)"
   ]
  },
  {
   "cell_type": "code",
   "execution_count": 108,
   "metadata": {},
   "outputs": [
    {
     "name": "stdout",
     "output_type": "stream",
     "text": [
      "Label for training: (1330,)\n",
      "Label for testing: (1330,)\n",
      "Label for training: (1330,)\n",
      "Label for testing: (1330,)\n",
      "Label for training: (1330,)\n",
      "Label for testing: (1330,)\n",
      "Label for training: (1330,)\n",
      "Label for testing: (1330,)\n",
      "Label for training: (1330,)\n",
      "Label for testing: (1330,)\n",
      "Label for training: (1330,)\n",
      "Label for testing: (1330,)\n",
      "Label for training: (1330,)\n",
      "Label for testing: (1330,)\n",
      "Label for training: (1330,)\n",
      "Label for testing: (1330,)\n",
      "Label for training: (1330,)\n",
      "Label for testing: (1330,)\n",
      "Label for training: (1330,)\n",
      "Label for testing: (1330,)\n"
     ]
    }
   ],
   "source": [
    "OURS_modified = ConvNet(conv_params = {'kernel': ((1,16), (1,8), (1,8), (1,8)), \n",
    "                                       'num_filter': (8, 16, 32, 64),\n",
    "                                       'stride': ((1,1), (1,1), (1,1), (1,1)),\n",
    "                                       'padding': ((0,0), (0,0), (0,0), (0,0)),\n",
    "                                       'dilate': ((1,1), (1,1), (1,1), (1,1))},\n",
    "                        act_params = {'act_type': ('elu', 'elu', 'elu', 'elu', 'elu', 'elu')},\n",
    "                        pool_params = {'pool_type': ('max', 'max', 'max', 'max',),\n",
    "                                       'kernel': ((1,8), (1,8), (1,8), (1,8), ),\n",
    "                                       'stride': ((1,2), (1,2), (1,2), (1,2), ),\n",
    "                                       'padding': ((0,0),(0,0), (0,0), (0,0), ),\n",
    "                                       'dilate': ((1,1), (1,1), (1,1), (1,1), )},\n",
    "                        fc_params = {'hidden_dim': (64,64)}, drop_prob = 0, \n",
    "                        params_inits = nd.load('./pretrained_models/infinite_noise_SNR=1'),\n",
    "                        input_dim = (2,1,8192)\n",
    "#                         input_dim = (1,1,2*8192)\n",
    "                       )\n",
    "auc_list = []\n",
    "for snr in np.linspace(0.1, 1, 10):\n",
    "    Solver = Solver_nd(model = OURS_modified, \n",
    "                       train = GW_train,#.reshape((GW_train.shape[0],1,-1)), \n",
    "                       test = GW_test,#.reshape((GW_test.shape[0],1,-1)), \n",
    "                       SNR = snr, \n",
    "                       batch_size = 256)\n",
    "    auc_var_list = []\n",
    "    for i in range(10):\n",
    "        prob, label, _= Solver.predict_nd()\n",
    "        fpr, tpr, thresholds = metrics.roc_curve(label, prob, pos_label=1)\n",
    "        auc_var_list.append(metrics.auc(fpr, tpr))\n",
    "        if i == 9: break\n",
    "            \n",
    "    auc_list.append(auc_var_list)\n",
    "np.save('./images/auc_infinite_noise_SNR=1', auc_list)"
   ]
  },
  {
   "cell_type": "code",
   "execution_count": 110,
   "metadata": {},
   "outputs": [
    {
     "name": "stdout",
     "output_type": "stream",
     "text": [
      "Label for training: (1330,)\n",
      "Label for testing: (1330,)\n",
      "Label for training: (1330,)\n",
      "Label for testing: (1330,)\n",
      "Label for training: (1330,)\n",
      "Label for testing: (1330,)\n",
      "Label for training: (1330,)\n",
      "Label for testing: (1330,)\n",
      "Label for training: (1330,)\n",
      "Label for testing: (1330,)\n",
      "Label for training: (1330,)\n",
      "Label for testing: (1330,)\n",
      "Label for training: (1330,)\n",
      "Label for testing: (1330,)\n",
      "Label for training: (1330,)\n",
      "Label for testing: (1330,)\n",
      "Label for training: (1330,)\n",
      "Label for testing: (1330,)\n",
      "Label for training: (1330,)\n",
      "Label for testing: (1330,)\n"
     ]
    }
   ],
   "source": [
    "OURS_modified = ConvNet(conv_params = {'kernel': ((1,16), (1,8), (1,8), (1,8)), \n",
    "                                       'num_filter': (8, 16, 32, 64),\n",
    "                                       'stride': ((1,1), (1,1), (1,1), (1,1)),\n",
    "                                       'padding': ((0,0), (0,0), (0,0), (0,0)),\n",
    "                                       'dilate': ((1,1), (1,1), (1,1), (1,1))},\n",
    "                        act_params = {'act_type': ('elu', 'elu', 'elu', 'elu', 'elu', 'elu')},\n",
    "                        pool_params = {'pool_type': ('max', 'max', 'max', 'max',),\n",
    "                                       'kernel': ((1,8), (1,8), (1,8), (1,8), ),\n",
    "                                       'stride': ((1,2), (1,2), (1,2), (1,2), ),\n",
    "                                       'padding': ((0,0),(0,0), (0,0), (0,0), ),\n",
    "                                       'dilate': ((1,1), (1,1), (1,1), (1,1), )},\n",
    "                        fc_params = {'hidden_dim': (64,64)}, drop_prob = 0, \n",
    "                        params_inits = nd.load('./pretrained_models/non_mixed_fn_SNR=1'),\n",
    "#                         input_dim = (2,1,8192)\n",
    "                        input_dim = (1,1,2*8192)\n",
    "                       )\n",
    "auc_list = []\n",
    "for snr in np.linspace(0.1, 1, 10):\n",
    "    Solver = Solver_nd(model = OURS_modified, \n",
    "                       train = GW_train.reshape((GW_train.shape[0],1,-1)), \n",
    "                       test = GW_test.reshape((GW_test.shape[0],1,-1)), \n",
    "                       SNR = snr, \n",
    "                       batch_size = 256)\n",
    "    auc_var_list = []\n",
    "    for i in range(10):\n",
    "        prob, label, _= Solver.predict_nd()\n",
    "        fpr, tpr, thresholds = metrics.roc_curve(label, prob, pos_label=1)\n",
    "        auc_var_list.append(metrics.auc(fpr, tpr))\n",
    "        if i == 9: break\n",
    "            \n",
    "    auc_list.append(auc_var_list)\n",
    "np.save('./images/auc_non_mixed_fn_SNR=1', auc_list)"
   ]
  },
  {
   "cell_type": "code",
   "execution_count": 111,
   "metadata": {},
   "outputs": [
    {
     "name": "stdout",
     "output_type": "stream",
     "text": [
      "Label for training: (1330,)\n",
      "Label for testing: (1330,)\n",
      "Label for training: (1330,)\n",
      "Label for testing: (1330,)\n",
      "Label for training: (1330,)\n",
      "Label for testing: (1330,)\n",
      "Label for training: (1330,)\n",
      "Label for testing: (1330,)\n",
      "Label for training: (1330,)\n",
      "Label for testing: (1330,)\n",
      "Label for training: (1330,)\n",
      "Label for testing: (1330,)\n",
      "Label for training: (1330,)\n",
      "Label for testing: (1330,)\n",
      "Label for training: (1330,)\n",
      "Label for testing: (1330,)\n",
      "Label for training: (1330,)\n",
      "Label for testing: (1330,)\n",
      "Label for training: (1330,)\n",
      "Label for testing: (1330,)\n"
     ]
    }
   ],
   "source": [
    "OURS_modified = ConvNet(conv_params = {'kernel': ((1,16), (1,8), (1,8), (1,8)), \n",
    "                                       'num_filter': (8, 16, 32, 64),\n",
    "                                       'stride': ((1,1), (1,1), (1,1), (1,1)),\n",
    "                                       'padding': ((0,0), (0,0), (0,0), (0,0)),\n",
    "                                       'dilate': ((1,1), (1,1), (1,1), (1,1))},\n",
    "                        act_params = {'act_type': ('elu', 'elu', 'elu', 'elu', 'elu', 'elu')},\n",
    "                        pool_params = {'pool_type': ('max', 'max', 'max', 'max',),\n",
    "                                       'kernel': ((1,8), (1,8), (1,8), (1,8), ),\n",
    "                                       'stride': ((1,2), (1,2), (1,2), (1,2), ),\n",
    "                                       'padding': ((0,0),(0,0), (0,0), (0,0), ),\n",
    "                                       'dilate': ((1,1), (1,1), (1,1), (1,1), )},\n",
    "                        fc_params = {'hidden_dim': (64,64)}, drop_prob = 0, \n",
    "                        params_inits = nd.load('./pretrained_models/non_mixed_in_SNR=1'),\n",
    "#                         input_dim = (2,1,8192)\n",
    "                        input_dim = (1,1,2*8192)\n",
    "                       )\n",
    "auc_list = []\n",
    "for snr in np.linspace(0.1, 1, 10):\n",
    "    Solver = Solver_nd(model = OURS_modified, \n",
    "                       train = GW_train.reshape((GW_train.shape[0],1,-1)), \n",
    "                       test = GW_test.reshape((GW_test.shape[0],1,-1)), \n",
    "                       SNR = snr, \n",
    "                       batch_size = 256)\n",
    "    auc_var_list = []\n",
    "    for i in range(10):\n",
    "        prob, label, _= Solver.predict_nd()\n",
    "        fpr, tpr, thresholds = metrics.roc_curve(label, prob, pos_label=1)\n",
    "        auc_var_list.append(metrics.auc(fpr, tpr))\n",
    "        if i == 9: break\n",
    "            \n",
    "    auc_list.append(auc_var_list)\n",
    "np.save('./images/auc_non_mixed_in_SNR=1', auc_list)"
   ]
  },
  {
   "cell_type": "code",
   "execution_count": null,
   "metadata": {},
   "outputs": [],
   "source": []
  },
  {
   "cell_type": "markdown",
   "metadata": {},
   "source": [
    "## Plot AUC"
   ]
  },
  {
   "cell_type": "code",
   "execution_count": 112,
   "metadata": {},
   "outputs": [],
   "source": [
    "address = './images/'\n",
    "auc_non_mixed_in = np.load(address + 'auc_non_mixed_in_SNR=1.npy')\n",
    "auc_non_mixed_fn = np.load(address + 'auc_non_mixed_fn_SNR=1.npy')\n",
    "auc_infinite_noise = np.load(address + 'auc_infinite_noise_SNR=1.npy')\n",
    "auc_finite_noise = np.load(address + 'auc_finite_noise_SNR=1.npy')"
   ]
  },
  {
   "cell_type": "code",
   "execution_count": 116,
   "metadata": {},
   "outputs": [
    {
     "data": {
      "text/plain": [
       "array([0.95374967, 0.95379626, 0.95489129, 0.95479835, 0.95188445,\n",
       "       0.95215173, 0.953196  , 0.95705048, 0.95009803, 0.95194596])"
      ]
     },
     "execution_count": 116,
     "metadata": {},
     "output_type": "execute_result"
    }
   ],
   "source": [
    "auc_non_mixed_in.mean(axis=1)"
   ]
  },
  {
   "cell_type": "code",
   "execution_count": 144,
   "metadata": {},
   "outputs": [
    {
     "data": {
      "image/png": "[encoded data removed]",
      "text/plain": [
       "<Figure size 720x432 with 1 Axes>"
      ]
     },
     "metadata": {},
     "output_type": "display_data"
    }
   ],
   "source": [
    "plt.figure(figsize=(10,6))\n",
    "xrange = np.linspace(0.1, 1, 10)\n",
    "plt.plot(xrange, auc_non_mixed_in.mean(axis=1), '*-', color = 'tab:blue', label = 'non_mixied(infinite noise)')\n",
    "plt.plot(xrange, auc_non_mixed_fn.mean(axis=1), '*-', color = 'tab:orange', label = 'non_mixied(finite noise)')\n",
    "plt.plot(xrange, auc_infinite_noise.mean(axis=1), '*-', color = 'tab:green', label = 'mixied(infinite noise)')\n",
    "plt.plot(xrange, auc_finite_noise.mean(axis=1), '*-', color = 'tab:red' ,label = 'mixied(finite noise)')\n",
    "plt.xlabel('SNR corresponding the testing dataset')\n",
    "plt.ylabel('AUC (%)')\n",
    "plt.legend()\n",
    "plt.fill_between(xrange, y1 = auc_non_mixed_in.mean(axis=1)-auc_non_mixed_in.std(axis=1)\n",
    "                 ,y2 = auc_non_mixed_in.mean(axis=1)+auc_non_mixed_in.std(axis=1) ,color='tab:blue', alpha=.2,\n",
    "                 label='std. dev.')\n",
    "plt.fill_between(xrange, y1 = auc_non_mixed_fn.mean(axis=1)-auc_non_mixed_fn.std(axis=1)\n",
    "                 ,y2 = auc_non_mixed_fn.mean(axis=1)+auc_non_mixed_fn.std(axis=1) ,color='tab:orange', alpha=.2,\n",
    "                 label='std. dev.')\n",
    "plt.fill_between(xrange, y1 = auc_infinite_noise.mean(axis=1)-auc_infinite_noise.std(axis=1)\n",
    "                 ,y2 = auc_infinite_noise.mean(axis=1)+auc_infinite_noise.std(axis=1) ,color='tab:green', alpha=.2,\n",
    "                 label='std. dev.')\n",
    "plt.fill_between(xrange, y1 = auc_finite_noise.mean(axis=1)-auc_finite_noise.std(axis=1)\n",
    "                 ,y2 = auc_finite_noise.mean(axis=1)+auc_finite_noise.std(axis=1) ,color='tab:red', alpha=.2,\n",
    "                 label='std. dev.')\n",
    "plt.xscale('log')\n",
    "plt.show()"
   ]
  },
  {
   "cell_type": "code",
   "execution_count": 141,
   "metadata": {},
   "outputs": [
    {
     "data": {
      "image/png": "[encoded data removed]",
      "text/plain": [
       "<Figure size 720x432 with 1 Axes>"
      ]
     },
     "metadata": {},
     "output_type": "display_data"
    }
   ],
   "source": [
    "plt.figure(figsize=(10,6))\n",
    "# plt.fill_between(xrange, y1 = auc_non_mixed_in.mean(axis=1)-auc_non_mixed_in.std(axis=1)\n",
    "#                  ,y2 = auc_non_mixed_in.mean(axis=1)+auc_non_mixed_in.std(axis=1) , alpha=.2,\n",
    "#                  label='std. dev.')\n",
    "# plt.legend()\n",
    "# plt.fill_between(xrange, y1 = auc_non_mixed_fn.mean(axis=1)-auc_non_mixed_fn.std(axis=1)\n",
    "#                  ,y2 = auc_non_mixed_fn.mean(axis=1)+auc_non_mixed_fn.std(axis=1), alpha=.2,\n",
    "#                  label='std. dev.')\n",
    "plt.fill_between(xrange, y1 = auc_infinite_noise.mean(axis=1)-auc_infinite_noise.std(axis=1)\n",
    "                 ,y2 = auc_infinite_noise.mean(axis=1)+auc_infinite_noise.std(axis=1) , alpha=.5,\n",
    "                 label='std. dev.')\n",
    "plt.fill_between(xrange, y1 = auc_finite_noise.mean(axis=1)-auc_finite_noise.std(axis=1)\n",
    "                 ,y2 = auc_finite_noise.mean(axis=1)+auc_finite_noise.std(axis=1) , alpha=.5,\n",
    "                 label='std. dev.')\n",
    "plt.show()\n"
   ]
  },
  {
   "cell_type": "code",
   "execution_count": null,
   "metadata": {},
   "outputs": [],
   "source": []
  },
  {
   "cell_type": "code",
   "execution_count": null,
   "metadata": {},
   "outputs": [],
   "source": []
  },
  {
   "cell_type": "code",
   "execution_count": null,
   "metadata": {},
   "outputs": [],
   "source": []
  },
  {
   "cell_type": "code",
   "execution_count": null,
   "metadata": {},
   "outputs": [],
   "source": []
  },
  {
   "cell_type": "code",
   "execution_count": null,
   "metadata": {},
   "outputs": [],
   "source": []
  },
  {
   "cell_type": "code",
   "execution_count": null,
   "metadata": {},
   "outputs": [],
   "source": []
  },
  {
   "cell_type": "code",
   "execution_count": null,
   "metadata": {},
   "outputs": [],
   "source": [
    "# noise for mixing\n",
    "noise = Solver.gen_noise()\n",
    "\n",
    "sigma = self.train.max(axis = 2) / float(self.SNR) / nd.array(noise[:self.train_size].asnumpy().std(axis = 2,dtype='float64'),ctx=ctx)\n",
    "self.sigma = sigma\n",
    "signal_train = nd.divide(self.train, sigma.reshape((self.train_size,self.num_channel,-1)))\n",
    "data_train = signal_train + noise[:self.train_size]\n",
    "\n",
    "sigma = self.test.max(axis = 2) / float(self.SNR) / nd.array(noise[-self.test_size:].asnumpy().std(axis = 2,dtype='float64'),ctx=ctx)\n",
    "signal_test = nd.divide(self.test, sigma.reshape((self.test_size,self.num_channel,-1)))    \n",
    "data_test = signal_test + noise[-self.test_size:]\n",
    "\n",
    "# noise for pure conterpart\n",
    "noise = Solver.gen_noise()\n",
    "\n",
    "X_train = Normolise_nd(nd.concat(data_train, noise[:self.train_size], dim=0), self.num_channel)\n",
    "dataset_train = gluon.data.ArrayDataset(X_train, self.y_train)\n",
    "self.train_data = gluon.data.DataLoader(dataset_train, self.batch_size, shuffle=True, last_batch='keep')\n",
    "\n",
    "X_test = Normolise_nd(nd.concat(data_test, noise[-self.test_size:], dim=0), self.num_channel)\n",
    "dataset_test = gluon.data.ArrayDataset(X_test, self.y_test)\n",
    "self.test_data = gluon.data.DataLoader(dataset_test, self.batch_size, shuffle=True, last_batch='keep')"
   ]
  },
  {
   "cell_type": "code",
   "execution_count": null,
   "metadata": {},
   "outputs": [],
   "source": []
  },
  {
   "cell_type": "code",
   "execution_count": 122,
   "metadata": {},
   "outputs": [],
   "source": [
    "# n = Solver.gen_noise()\n",
    "n = Pre_zero(size =  (Solver.train.shape[1:]))\n",
    "noise, _ = TimeseriesFromPSD_nd(n)"
   ]
  },
  {
   "cell_type": "code",
   "execution_count": 52,
   "metadata": {},
   "outputs": [
    {
     "data": {
      "text/plain": [
       "(133000, 2, 8192)"
      ]
     },
     "execution_count": 52,
     "metadata": {},
     "output_type": "execute_result"
    }
   ],
   "source": [
    "(Solver.train_size+Solver.test_size,) + (Solver.train.shape[1:])"
   ]
  },
  {
   "cell_type": "code",
   "execution_count": 53,
   "metadata": {},
   "outputs": [
    {
     "data": {
      "text/plain": [
       "(2, 8192)"
      ]
     },
     "execution_count": 53,
     "metadata": {},
     "output_type": "execute_result"
    }
   ],
   "source": [
    "(Solver.train_size+Solver.test_size,) +"
   ]
  },
  {
   "cell_type": "code",
   "execution_count": 123,
   "metadata": {},
   "outputs": [
    {
     "data": {
      "text/plain": [
       "\n",
       "[[-5.3376343e-22  7.5018107e-22  3.3527911e-22 ...  4.8249065e-22\n",
       "   1.0454106e-22 -5.3002284e-22]\n",
       " [ 8.2155746e-22 -1.0554492e-21  5.4476331e-22 ... -1.8151350e-21\n",
       "   2.0940215e-21 -1.8045983e-21]]\n",
       "<NDArray 2x8192 @gpu(0)>"
      ]
     },
     "execution_count": 123,
     "metadata": {},
     "output_type": "execute_result"
    }
   ],
   "source": [
    "noise"
   ]
  },
  {
   "cell_type": "code",
   "execution_count": null,
   "metadata": {},
   "outputs": [],
   "source": [
    "# Solver.Training()"
   ]
  },
  {
   "cell_type": "code",
   "execution_count": 13,
   "metadata": {},
   "outputs": [],
   "source": [
    "def Pre_zero_(ZERO_DET = ZERO_DET, size = (1,2*8192), fs = 8192, fmin = 20, fmax = 4000):\n",
    "    (D, *N) = size  # N is a list\n",
    "    low_f_max = fmin\n",
    "    high_f_min = fmax\n",
    "    # Interpolation\n",
    "    freqs = fftfreq(N[-1], 1./fs)\n",
    "    asd_zero = np.interp(freqs[(freqs>=ZERO_DET[:,0].min())&(freqs<=high_f_min)], ZERO_DET[:,0], ZERO_DET[:,1]) \n",
    "\n",
    "    shiftsize = int(low_f_max - ZERO_DET[:,0].min())\n",
    "    xf = fftfreq(N[-1], 1./fs)\n",
    "    xf_noise = xf[xf>=0]\n",
    "    slc, slc_, slc__ = (xf_noise >= low_f_max)&(xf_noise<=high_f_min), (xf_noise < low_f_max), (xf_noise > high_f_min)\n",
    "\n",
    "    if ctx == mx.gpu():\n",
    "        asd_zero = nd.array(asd_zero, ctx = ctx, dtype='float64')\n",
    "        asd_pos = nd.square(asd_zero)[shiftsize:]\n",
    "        asd_neg = nd.square(asd_zero)[shiftsize:][::-1]    \n",
    "    elif ctx == mx.cpu():\n",
    "        asd_pos = np.square(asd_zero)[shiftsize:]\n",
    "        asd_neg = np.square(asd_zero)[shiftsize:][::-1]            \n",
    "    else:\n",
    "        raise\n",
    "\n",
    "    assert slc_.argmin() == slc.argmax()\n",
    "    low_f = slc_.argmin()\n",
    "    high_f = slc[slc.argmax():].argmin()+slc.argmax()\n",
    "    high_f_ = N[-1]//2 - slc__.argmax()\n",
    "    \n",
    "    return asd_pos, asd_neg, low_f, high_f, high_f_, size, fs, fmin, fmax"
   ]
  },
  {
   "cell_type": "code",
   "execution_count": 25,
   "metadata": {},
   "outputs": [
    {
     "name": "stdout",
     "output_type": "stream",
     "text": [
      "(7983,)\n",
      "40 8001 191\n"
     ]
    }
   ],
   "source": [
    "ZERO_DET = np.loadtxt('ZERO_DET_high_P.txt')\n",
    "# size = (1,2*8192)\n",
    "# fs = 8192\n",
    "# fmin = 20\n",
    "# fmax = 4000\n",
    "\n",
    "# (D, *N) = size  # N is a list\n",
    "# low_f_max = fmin\n",
    "# high_f_min = fmax\n",
    "# # Interpolation\n",
    "# freqs = fftfreq(N[-1], 1./fs)\n",
    "# asd_zero = np.interp(freqs[(freqs>=ZERO_DET[:,0].min())&(freqs<=high_f_min)], ZERO_DET[:,0], ZERO_DET[:,1]) \n",
    "\n",
    "# print(asd_zero.shape)\n",
    "\n",
    "# shiftsize = int(low_f_max - ZERO_DET[:,0].min())\n",
    "# xf = fftfreq(N[-1], 1./fs)\n",
    "# xf_noise = xf[xf>=0]  # 8192\n",
    "# slc, slc_, slc__ = (xf_noise >= low_f_max)&(xf_noise<=high_f_min), (xf_noise < low_f_max), (xf_noise > high_f_min)\n",
    "\n",
    "# if ctx == mx.gpu():\n",
    "#     asd_zero = nd.array(asd_zero, ctx = ctx, dtype='float64')\n",
    "#     asd_pos = nd.square(asd_zero)[shiftsize * N[-1]//8192:]\n",
    "#     asd_neg = nd.square(asd_zero)[shiftsize * N[-1]//8192:][::-1]    \n",
    "# elif ctx == mx.cpu():\n",
    "#     asd_pos = np.square(asd_zero)[shiftsize:]\n",
    "#     asd_neg = np.square(asd_zero)[shiftsize:][::-1]            \n",
    "# else:\n",
    "#     raise\n",
    "    \n",
    "# assert slc_.argmin() == slc.argmax()\n",
    "# low_f = slc_.argmin()\n",
    "# high_f = slc[slc.argmax():].argmin()+slc.argmax()\n",
    "# high_f_ = N[-1]//2 - slc__.argmax()\n",
    "# print(low_f, high_f, high_f_)\n",
    "# assert asd_pos.shape[0] == high_f - low_f"
   ]
  },
  {
   "cell_type": "code",
   "execution_count": 20,
   "metadata": {},
   "outputs": [
    {
     "ename": "SyntaxError",
     "evalue": "invalid syntax (<ipython-input-20-a2183922c151>, line 2)",
     "output_type": "error",
     "traceback": [
      "\u001b[0;36m  File \u001b[0;32m\"<ipython-input-20-a2183922c151>\"\u001b[0;36m, line \u001b[0;32m2\u001b[0m\n\u001b[0;31m    20 4001 95\u001b[0m\n\u001b[0m          ^\u001b[0m\n\u001b[0;31mSyntaxError\u001b[0m\u001b[0;31m:\u001b[0m invalid syntax\n"
     ]
    }
   ],
   "source": [
    "(3992,)\n",
    "20 4001 95"
   ]
  },
  {
   "cell_type": "code",
   "execution_count": 34,
   "metadata": {},
   "outputs": [
    {
     "data": {
      "text/plain": [
       "2"
      ]
     },
     "execution_count": 34,
     "metadata": {},
     "output_type": "execute_result"
    }
   ],
   "source": []
  },
  {
   "cell_type": "code",
   "execution_count": 21,
   "metadata": {},
   "outputs": [
    {
     "data": {
      "text/plain": [
       "array([False, False, False, ..., False, False, False])"
      ]
     },
     "execution_count": 21,
     "metadata": {},
     "output_type": "execute_result"
    }
   ],
   "source": [
    "slc"
   ]
  },
  {
   "cell_type": "code",
   "execution_count": 17,
   "metadata": {},
   "outputs": [],
   "source": [
    "param_noise=Pre_zero_(ZERO_DET = ZERO_DET, size = (1,2*8192), fs = 8192, fmin = 20, fmax = 4000)"
   ]
  },
  {
   "cell_type": "code",
   "execution_count": null,
   "metadata": {},
   "outputs": [],
   "source": [
    "# n,_ = TimeseriesFromPSD_nd(param_noise)"
   ]
  },
  {
   "cell_type": "code",
   "execution_count": 87,
   "metadata": {},
   "outputs": [],
   "source": [
    "# (asd_pos, asd_neg, low_f, high_f, high_f_, size, fs, fmin, fmax) = param_noise\n",
    "(*D_, N) = size\n",
    "D = reduce(lambda x, y: x * y, D_)\n",
    "# Gauss noise and its one-sided PSD without window\n",
    "gauss_noise = 1* nd.random_normal(loc=0,scale=64,shape=(D, N), ctx=ctx)\n",
    "_, xf_noise, psd_gauss = oneSidedPeriodogram_nd(gauss_noise, fs=8192)\n",
    "psd_gauss = nd.array(psd_gauss, ctx = ctx, dtype='float64')\n",
    "\n",
    "# psd_twosided  = nd.concat(  # low positive\n",
    "#                           nd.zeros((D, low_f), ctx = ctx, dtype='float64'), \n",
    "#                             # high positive\n",
    "#                           psd_gauss[:, low_f:high_f] * asd_pos, \n",
    "#                           nd.zeros((D, high_f_), ctx = ctx, dtype='float64'),\n",
    "#                           nd.zeros((D, high_f_), ctx = ctx, dtype='float64'),\n",
    "#                             # high negative\n",
    "#                           psd_gauss[:, low_f:high_f][::-1] * asd_neg, \n",
    "#                             # low negative\n",
    "#                           nd.zeros((D, low_f), ctx = ctx, dtype='float64'), dim=1)\n",
    "# amplitude =  nd.sqrt(psd_twosided *2 *fs*N )\n",
    "# epsilon_imag = nd.random_uniform(low=0, high=1, shape=(D,N),ctx=ctx,dtype='float64')*2*np.pi\n",
    "# re = nd.cos(epsilon_imag)*amplitude\n",
    "# im = nd.sin(epsilon_imag)*amplitude\n",
    "# temp = nd.zeros((D, N*2) , ctx=ctx)\n",
    "# temp[:,::2] = re\n",
    "# temp[:,1::2] = im\n",
    "# timeseries = mx.contrib.ndarray.ifft(temp)/N\n",
    "# return timeseries.reshape(size),  psd_twosided"
   ]
  },
  {
   "cell_type": "code",
   "execution_count": 86,
   "metadata": {},
   "outputs": [
    {
     "data": {
      "text/plain": [
       "(20, 4001, 95, (2, 8192), 8192, 20, 4000)"
      ]
     },
     "execution_count": 86,
     "metadata": {},
     "output_type": "execute_result"
    }
   ],
   "source": [
    "low_f, high_f, high_f_, size, fs, fmin, fmax"
   ]
  },
  {
   "cell_type": "code",
   "execution_count": 89,
   "metadata": {},
   "outputs": [
    {
     "data": {
      "text/plain": [
       "\n",
       "[3.66442145e-46 3.01000101e-46 2.50398757e-46 ... 3.05223448e-46\n",
       " 3.05370944e-46 3.05518474e-46]\n",
       "<NDArray 3981 @gpu(0)>"
      ]
     },
     "execution_count": 89,
     "metadata": {},
     "output_type": "execute_result"
    }
   ],
   "source": [
    "nd.zeros((D, low_f))\n",
    "asd_pos"
   ]
  },
  {
   "cell_type": "code",
   "execution_count": 70,
   "metadata": {},
   "outputs": [
    {
     "data": {
      "text/plain": [
       "\n",
       "[3.05518474e-46 3.05444705e-46 3.05370944e-46 ... 1.09441061e-45\n",
       " 1.27349645e-45 1.49544035e-45]\n",
       "<NDArray 7972 @gpu(0)>"
      ]
     },
     "execution_count": 70,
     "metadata": {},
     "output_type": "execute_result"
    }
   ],
   "source": [
    "asd_neg"
   ]
  },
  {
   "cell_type": "code",
   "execution_count": 88,
   "metadata": {},
   "outputs": [
    {
     "data": {
      "text/plain": [
       "\n",
       "[[0.62626302 0.1770955  0.36134014 ... 1.43389273 0.30036923 1.25007415]\n",
       " [0.58644944 0.0140889  0.0662284  ... 0.76718205 0.02861047 0.1479142 ]]\n",
       "<NDArray 2x3981 @gpu(0)>"
      ]
     },
     "execution_count": 88,
     "metadata": {},
     "output_type": "execute_result"
    }
   ],
   "source": [
    "psd_gauss[:, low_f:high_f]# * asd_pos"
   ]
  },
  {
   "cell_type": "code",
   "execution_count": 16,
   "metadata": {},
   "outputs": [
    {
     "name": "stderr",
     "output_type": "stream",
     "text": [
      "UsageError: Could not find function 'Solver.gen_noise()'.\n",
      "MXNetError: [15:49:17] src/storage/./pooled_storage_manager.h:119: cudaMalloc failed: out of memory\n",
      "\n",
      "Stack trace returned 10 entries:\n",
      "[bt] (0) /usr/local/lib/python3.6/site-packages/mxnet/libmxnet.so(+0x37db4a) [0x7f98db99cb4a]\n",
      "[bt] (1) /usr/local/lib/python3.6/site-packages/mxnet/libmxnet.so(+0x37e161) [0x7f98db99d161]\n",
      "[bt] (2) /usr/local/lib/python3.6/site-packages/mxnet/libmxnet.so(+0x31c859b) [0x7f98de7e759b]\n",
      "[bt] (3) /usr/local/lib/python3.6/site-packages/mxnet/libmxnet.so(+0x31cd305) [0x7f98de7ec305]\n",
      "[bt] (4) /usr/local/lib/python3.6/site-packages/mxnet/libmxnet.so(+0x2a9d4c6) [0x7f98de0bc4c6]\n",
      "[bt] (5) /usr/local/lib/python3.6/site-packages/mxnet/libmxnet.so(MXNDArrayCreateEx+0x158) [0x7f98de0bcd38]\n",
      "[bt] (6) /usr/lib/x86_64-linux-gnu/libffi.so.6(ffi_call_unix64+0x4c) [0x7f992f752e40]\n",
      "[bt] (7) /usr/lib/x86_64-linux-gnu/libffi.so.6(ffi_call+0x2eb) [0x7f992f7528ab]\n",
      "[bt] (8) /usr/local/lib/python3.6/lib-dynload/_ctypes.cpython-36m-x86_64-linux-gnu.so(_ctypes_callproc+0x2cf) [0x7f992f966d3f]\n",
      "[bt] (9) /usr/local/lib/python3.6/lib-dynload/_ctypes.cpython-36m-x86_64-linux-gnu.so(+0x8c79) [0x7f992f95dc79]\n",
      "\n",
      "\n"
     ]
    }
   ],
   "source": [
    "%lprun -f Solver.Training Solver.Training()\n",
    "# %lprun -f Solver._reset_noise() Solver._reset_noise()\n",
    "# %lprun -f Solver.gen_noise() Solver.gen_noise()"
   ]
  },
  {
   "cell_type": "code",
   "execution_count": null,
   "metadata": {},
   "outputs": [],
   "source": []
  },
  {
   "cell_type": "code",
   "execution_count": null,
   "metadata": {},
   "outputs": [],
   "source": []
  },
  {
   "cell_type": "code",
   "execution_count": 15,
   "metadata": {},
   "outputs": [
    {
     "name": "stdout",
     "output_type": "stream",
     "text": [
      "Loading the params...\n",
      "self.train.shape != self.test.shape\n",
      "Label for training: (11000,)\n",
      "Label for testing: (9000,)\n"
     ]
    }
   ],
   "source": [
    "model = ConvNet(conv_params = {'kernel': ((1,16), (1,8), (1,8), (1,8)), \n",
    "                               'num_filter': (16//2, 32//2, 64//2, 64),\n",
    "                               'stride': ((1,1), (1,1), (1,1), (1,1)),\n",
    "                               'padding': ((0,0), (0,0), (0,0), (0,0)),\n",
    "                               'dilate': ((1,1), (1,1), (1,1), (1,1))},\n",
    "                act_params = {'act_type': ('elu', 'elu', 'elu', 'elu', 'elu', 'elu')},\n",
    "                pool_params = {'pool_type': ('max', 'max', 'max', 'max'),\n",
    "                               'kernel': ((1,8), (1,8), (1,8), (1,8)),\n",
    "                               'stride': ((1,2), (1,2), (1,2), (1,2)),\n",
    "                               'padding': ((0,0), (0,0), (0,0), (0,0)),\n",
    "                               'dilate': ((1,1), (1,1), (1,1), (1,1))},\n",
    "                fc_params = {'hidden_dim': (128, 64)},\n",
    "                input_dim = (2, 1, 8192)\n",
    ")\n",
    "Solver = Solver_nd(model = model, train = GW_train, test = GW_test, SNR = 1,num_epoch=10\n",
    "                   ,  lr_rate=0.003)"
   ]
  },
  {
   "cell_type": "code",
   "execution_count": 16,
   "metadata": {},
   "outputs": [
    {
     "name": "stdout",
     "output_type": "stream",
     "text": [
      "\n",
      "Early stoping at epoch=1\n",
      "Finished!\n"
     ]
    }
   ],
   "source": [
    "Info = Solver.Training()\n",
    "\n",
    "for index, info in enumerate(Info):\n",
    "    (loss_history, loss_v_history, moving_loss_history, train_accuracy_history, test_accuracy_history) = info"
   ]
  },
  {
   "cell_type": "code",
   "execution_count": 30,
   "metadata": {},
   "outputs": [
    {
     "data": {
      "text/plain": [
       "[<matplotlib.lines.Line2D at 0x11a3f9f60>]"
      ]
     },
     "execution_count": 30,
     "metadata": {},
     "output_type": "execute_result"
    },
    {
     "data": {
      "image/png": "[encoded data removed]",
      "text/plain": [
       "<matplotlib.figure.Figure at 0x11a4092e8>"
      ]
     },
     "metadata": {},
     "output_type": "display_data"
    }
   ],
   "source": [
    "plt.semilogy(loss_history)\n",
    "plt.semilogy(loss_v_history)\n",
    "# plt.plot(moving_loss_history)"
   ]
  },
  {
   "cell_type": "code",
   "execution_count": 29,
   "metadata": {},
   "outputs": [
    {
     "data": {
      "text/plain": [
       "[<matplotlib.lines.Line2D at 0x11778f400>]"
      ]
     },
     "execution_count": 29,
     "metadata": {},
     "output_type": "execute_result"
    },
    {
     "data": {
      "image/png": "[encoded data removed]",
      "text/plain": [
       "<matplotlib.figure.Figure at 0x1177c0cf8>"
      ]
     },
     "metadata": {},
     "output_type": "display_data"
    }
   ],
   "source": [
    "plt.plot(test_accuracy_history)\n",
    "plt.plot(train_accuracy_history)"
   ]
  },
  {
   "cell_type": "code",
   "execution_count": 83,
   "metadata": {},
   "outputs": [],
   "source": [
    "noise, _ = TimeseriesFromPSD_nd(Solver.param_noise)"
   ]
  },
  {
   "cell_type": "code",
   "execution_count": 96,
   "metadata": {},
   "outputs": [
    {
     "data": {
      "text/plain": [
       "array([  9.37602972e-22,   9.42728322e-22,   9.46455932e-22, ...,\n",
       "         9.43608796e-22,   9.53370731e-22,   9.50264772e-22])"
      ]
     },
     "execution_count": 96,
     "metadata": {},
     "output_type": "execute_result"
    }
   ],
   "source": [
    "# nd.array(noise[:Solver.train_size,:].asnumpy().std(axis = 1),ctx=ctx)\n",
    "tt = noise[:Solver.train_size,:]\n",
    "tt.asnumpy().std(axis = 1,dtype='float64')"
   ]
  },
  {
   "cell_type": "code",
   "execution_count": null,
   "metadata": {},
   "outputs": [],
   "source": [
    "noise."
   ]
  },
  {
   "cell_type": "code",
   "execution_count": 99,
   "metadata": {},
   "outputs": [
    {
     "data": {
      "text/plain": [
       "\n",
       "[ 0.05984845  0.05823757  0.05879105 ...,  0.27456239  0.27948043\n",
       "  0.27278998]\n",
       "<NDArray 6650 @gpu(0)>"
      ]
     },
     "execution_count": 99,
     "metadata": {},
     "output_type": "execute_result"
    }
   ],
   "source": [
    "Solver.lr_rate\n",
    "\n",
    "Solver.sigma"
   ]
  },
  {
   "cell_type": "code",
   "execution_count": 81,
   "metadata": {},
   "outputs": [
    {
     "data": {
      "text/plain": [
       "[<matplotlib.lines.Line2D at 0x7f2e81e29240>]"
      ]
     },
     "execution_count": 81,
     "metadata": {},
     "output_type": "execute_result"
    },
    {
     "data": {
      "image/png": "[encoded data removed]",
      "text/plain": [
       "<matplotlib.figure.Figure at 0x7f2e820398d0>"
      ]
     },
     "metadata": {},
     "output_type": "display_data"
    }
   ],
   "source": [
    "plt.plot(Solver.train.asnumpy()[2,:])"
   ]
  },
  {
   "cell_type": "code",
   "execution_count": 44,
   "metadata": {},
   "outputs": [
    {
     "name": "stdout",
     "output_type": "stream",
     "text": [
      "\n",
      "[-0.00012025  0.0088126 ]\n",
      "<NDArray 2 @gpu(0)>\n"
     ]
    },
    {
     "data": {
      "image/png": "[encoded data removed]",
      "text/plain": [
       "<matplotlib.figure.Figure at 0x7f2f0c469b38>"
      ]
     },
     "metadata": {},
     "output_type": "display_data"
    }
   ],
   "source": [
    "# model.params\n",
    "num = 8\n",
    "for batch_i, (data, label) in enumerate(Solver.train_data):\n",
    "    _, output = Solver.loss(data, label, train=False)\n",
    "    plt.plot(data[num,:].asnumpy())\n",
    "    print(output[num,:])\n",
    "    break"
   ]
  },
  {
   "cell_type": "code",
   "execution_count": 148,
   "metadata": {},
   "outputs": [],
   "source": [
    "# for param, v, sqr in zip(model.params, tt.vs, tt.sqrs):\n",
    "#     print(model.params[param])\n",
    "#     print(v)\n",
    "#     print()"
   ]
  },
  {
   "cell_type": "code",
   "execution_count": 210,
   "metadata": {},
   "outputs": [],
   "source": [
    "dd = {'33': 43}"
   ]
  },
  {
   "cell_type": "code",
   "execution_count": 211,
   "metadata": {},
   "outputs": [
    {
     "ename": "TypeError",
     "evalue": "save only accept dict str->NDArray or list of NDArray",
     "output_type": "error",
     "traceback": [
      "\u001b[0;31m---------------------------------------------------------------------------\u001b[0m",
      "\u001b[0;31mTypeError\u001b[0m                                 Traceback (most recent call last)",
      "\u001b[0;32m<ipython-input-211-f5412286ef37>\u001b[0m in \u001b[0;36m<module>\u001b[0;34m()\u001b[0m\n\u001b[0;32m----> 1\u001b[0;31m \u001b[0mnd\u001b[0m\u001b[0;34m.\u001b[0m\u001b[0msave\u001b[0m\u001b[0;34m(\u001b[0m\u001b[0;34m'check'\u001b[0m\u001b[0;34m,\u001b[0m \u001b[0mdd\u001b[0m\u001b[0;34m)\u001b[0m\u001b[0;34m\u001b[0m\u001b[0m\n\u001b[0m",
      "\u001b[0;32m~/anaconda3/lib/python3.6/site-packages/mxnet/ndarray/utils.py\u001b[0m in \u001b[0;36msave\u001b[0;34m(fname, data)\u001b[0m\n\u001b[1;32m    257\u001b[0m         \u001b[0;32mif\u001b[0m \u001b[0many\u001b[0m\u001b[0;34m(\u001b[0m\u001b[0;32mnot\u001b[0m \u001b[0misinstance\u001b[0m\u001b[0;34m(\u001b[0m\u001b[0mk\u001b[0m\u001b[0;34m,\u001b[0m \u001b[0mstring_types\u001b[0m\u001b[0;34m)\u001b[0m \u001b[0;32mfor\u001b[0m \u001b[0mk\u001b[0m \u001b[0;32min\u001b[0m \u001b[0mstr_keys\u001b[0m\u001b[0;34m)\u001b[0m \u001b[0;32mor\u001b[0m\u001b[0;31m \u001b[0m\u001b[0;31m\\\u001b[0m\u001b[0;34m\u001b[0m\u001b[0m\n\u001b[1;32m    258\u001b[0m            \u001b[0many\u001b[0m\u001b[0;34m(\u001b[0m\u001b[0;32mnot\u001b[0m \u001b[0misinstance\u001b[0m\u001b[0;34m(\u001b[0m\u001b[0mv\u001b[0m\u001b[0;34m,\u001b[0m \u001b[0mNDArray\u001b[0m\u001b[0;34m)\u001b[0m \u001b[0;32mfor\u001b[0m \u001b[0mv\u001b[0m \u001b[0;32min\u001b[0m \u001b[0mnd_vals\u001b[0m\u001b[0;34m)\u001b[0m\u001b[0;34m:\u001b[0m\u001b[0;34m\u001b[0m\u001b[0m\n\u001b[0;32m--> 259\u001b[0;31m             \u001b[0;32mraise\u001b[0m \u001b[0mTypeError\u001b[0m\u001b[0;34m(\u001b[0m\u001b[0;34m'save only accept dict str->NDArray or list of NDArray'\u001b[0m\u001b[0;34m)\u001b[0m\u001b[0;34m\u001b[0m\u001b[0m\n\u001b[0m\u001b[1;32m    260\u001b[0m         \u001b[0mkeys\u001b[0m \u001b[0;34m=\u001b[0m \u001b[0mc_str_array\u001b[0m\u001b[0;34m(\u001b[0m\u001b[0mstr_keys\u001b[0m\u001b[0;34m)\u001b[0m\u001b[0;34m\u001b[0m\u001b[0m\n\u001b[1;32m    261\u001b[0m         \u001b[0mhandles\u001b[0m \u001b[0;34m=\u001b[0m \u001b[0mc_handle_array\u001b[0m\u001b[0;34m(\u001b[0m\u001b[0mnd_vals\u001b[0m\u001b[0;34m)\u001b[0m\u001b[0;34m\u001b[0m\u001b[0m\n",
      "\u001b[0;31mTypeError\u001b[0m: save only accept dict str->NDArray or list of NDArray"
     ]
    }
   ],
   "source": [
    "nd.save('check', dd)"
   ]
  },
  {
   "cell_type": "code",
   "execution_count": 6,
   "metadata": {},
   "outputs": [],
   "source": [
    "SNR = 1\n",
    "GW_train = nd.array(GW_data.drop(test_index), ctx=ctx)\n",
    "GW_test = nd.array(GW_data.drop(train_index), ctx=ctx)\n"
   ]
  },
  {
   "cell_type": "code",
   "execution_count": 7,
   "metadata": {},
   "outputs": [
    {
     "data": {
      "text/plain": [
       "(1000, 8192)"
      ]
     },
     "execution_count": 7,
     "metadata": {},
     "output_type": "execute_result"
    }
   ],
   "source": [
    "train_size = GW_train.shape[0]\n",
    "test_size = GW_test.shape[0]\n",
    "noiseAll_size = train_size+test_size\n",
    "\n",
    "noise_sample.shape"
   ]
  },
  {
   "cell_type": "code",
   "execution_count": 8,
   "metadata": {},
   "outputs": [
    {
     "name": "stdout",
     "output_type": "stream",
     "text": [
      "(1100, 8192)\n",
      "(900, 8192)\n"
     ]
    }
   ],
   "source": [
    "SNR = 1\n",
    "GW_train = nd.array(GW_data.drop(test_index), ctx=ctx)\n",
    "GW_test = nd.array(GW_data.drop(train_index), ctx=ctx)\n",
    "\n",
    "sigma = GW_train.max(axis = 1) / float(SNR) / nd.array(noise_sample[:train_size,:].asnumpy().std(axis = 1))\n",
    "signal = nd.divide(GW_train, sigma.reshape((-1,1)))\n",
    "data = signal + noise_sample[:train_size,:]\n",
    "data_train = nd.concat(data, noise_sample[:train_size,:], dim=0)\n",
    "\n",
    "sigma = GW_test.max(axis = 1) / float(SNR) / nd.array(noise_sample[:test_size].asnumpy().std(axis = 1))\n",
    "signal = nd.divide(GW_test, sigma.reshape((-1,1)))\n",
    "data = signal + noise_sample[:test_size]\n",
    "data_test = nd.concat(data, noise_sample[:test_size], dim=0)\n",
    "\n",
    "print(data_train.shape)\n",
    "print(data_test.shape)"
   ]
  },
  {
   "cell_type": "code",
   "execution_count": 12,
   "metadata": {},
   "outputs": [],
   "source": [
    "from mxnet.gluon.data.vision.transforms import Normalize as Normalize_nd"
   ]
  },
  {
   "cell_type": "code",
   "execution_count": 13,
   "metadata": {},
   "outputs": [],
   "source": [
    "y = nd.concat(nd.ones(shape = (train_size,), ctx = ctx), nd.zeros(shape = (train_size,), ctx = ctx) , dim = 0)"
   ]
  },
  {
   "cell_type": "code",
   "execution_count": 30,
   "metadata": {},
   "outputs": [],
   "source": [
    "tt = Normalize_nd(mean = 0, std = 1 )"
   ]
  },
  {
   "cell_type": "code",
   "execution_count": 33,
   "metadata": {},
   "outputs": [
    {
     "data": {
      "text/plain": [
       "\n",
       "[[[ -1.44131294e-21   1.31616633e-21  -1.94223689e-22 ...,  -2.08484881e-22\n",
       "    -8.99958067e-22   8.52112858e-22]]]\n",
       "<NDArray 1x1x8192 @cpu(0)>"
      ]
     },
     "execution_count": 33,
     "metadata": {},
     "output_type": "execute_result"
    }
   ],
   "source": [
    "data_train[6].reshape((1,1,8192))"
   ]
  },
  {
   "cell_type": "code",
   "execution_count": 34,
   "metadata": {},
   "outputs": [
    {
     "data": {
      "text/plain": [
       "\n",
       "[[[ -1.44131294e-21   1.31616633e-21  -1.94223689e-22 ...,  -2.08484881e-22\n",
       "    -8.99958067e-22   8.52112858e-22]]]\n",
       "<NDArray 1x1x8192 @cpu(0)>"
      ]
     },
     "execution_count": 34,
     "metadata": {},
     "output_type": "execute_result"
    }
   ],
   "source": [
    "tt(data_train[6].reshape((1,1,8192)))"
   ]
  },
  {
   "cell_type": "code",
   "execution_count": 54,
   "metadata": {},
   "outputs": [],
   "source": [
    "y = nd.concat(nd.ones(shape = (train_size,), ctx = ctx), nd.zeros(shape = (train_size,), ctx = ctx) , dim = 0)\n",
    "X = Normolise_nd(data_train)"
   ]
  },
  {
   "cell_type": "code",
   "execution_count": 56,
   "metadata": {},
   "outputs": [],
   "source": [
    "batch_size = 20\n",
    "dataset_train = gluon.data.ArrayDataset(X, y)\n",
    "train_data = gluon.data.DataLoader(dataset_train, batch_size, shuffle=True, last_batch='keep')"
   ]
  },
  {
   "cell_type": "code",
   "execution_count": 57,
   "metadata": {},
   "outputs": [
    {
     "data": {
      "text/plain": [
       "<mxnet.gluon.data.dataloader.DataLoader at 0x1240346d8>"
      ]
     },
     "execution_count": 57,
     "metadata": {},
     "output_type": "execute_result"
    }
   ],
   "source": [
    "train_data"
   ]
  },
  {
   "cell_type": "code",
   "execution_count": 51,
   "metadata": {},
   "outputs": [
    {
     "data": {
      "text/plain": [
       "(1100, 8192)"
      ]
     },
     "execution_count": 51,
     "metadata": {},
     "output_type": "execute_result"
    }
   ],
   "source": [
    "data_norm.shape"
   ]
  },
  {
   "cell_type": "code",
   "execution_count": null,
   "metadata": {},
   "outputs": [],
   "source": [
    "pool_type='max'\n",
    "pool_size = 8\n",
    "pool_stride= 2\n",
    "# 64256 16\n",
    "# 64832 6\n",
    "# 64704 8\n",
    "# 64960 4\n",
    "# 65024 2\n",
    "sl = 32352"
   ]
  },
  {
   "cell_type": "code",
   "execution_count": null,
   "metadata": {},
   "outputs": [],
   "source": [
    "SNR = 1\n",
    "# params_ = nd.load('./New_params/params_8')\n",
    "# params_ = nd.load('./SNR1.dms')\n",
    "print('Start Training at SNR = %s ...' %str(SNR))\n",
    "Info = Solver(train = train_dict['1']\n",
    "          ,test = test_dict['1'], Debug=True , params_init = None#params_\n",
    "             , batch_size=256, lr=0.000000001, epochs=2\n",
    "             , smoothing_constant = .01, SNR = SNR\n",
    "             , sl=sl, pool_type=pool_type ,pool_size = pool_size,pool_stride=pool_stride\n",
    "             , num_fc1 = 64, num_fc2 = 64, num_outputs = 2, period = 256)\n",
    "\n",
    "# test_accuracy_history_final = [0]\n",
    "for index, info in enumerate(Info):\n",
    "    (params, loss_history, loss_v_history, moving_loss_history, test_accuracy_history, train_accuracy_history) = info\n",
    "    # Save\n",
    "#     for key, value in {'params':params\n",
    "# #                                  , 'loss_history': nd.array(loss_history)\n",
    "# #                                  , 'loss_v_history': nd.array(loss_v_history)\n",
    "# #                                  , 'moving_loss_history': nd.array(moving_loss_history)\n",
    "# #                                  , 'test_accuracy_history': nd.array(test_accuracy_history)\n",
    "# #                                  , 'train_accuracy_history': nd.array(train_accuracy_history)\n",
    "#                       }.items():\n",
    "\n",
    "#         nd.save(\"./%s/%s_%s\" %(address,key,index+1), value)"
   ]
  },
  {
   "cell_type": "code",
   "execution_count": null,
   "metadata": {},
   "outputs": [],
   "source": []
  },
  {
   "cell_type": "code",
   "execution_count": 1,
   "metadata": {},
   "outputs": [
    {
     "data": {
      "text/plain": [
       "0.69314718055994529"
      ]
     },
     "execution_count": 1,
     "metadata": {},
     "output_type": "execute_result"
    }
   ],
   "source": [
    "import numpy as np\n",
    "np.log(2)"
   ]
  },
  {
   "cell_type": "code",
   "execution_count": 2,
   "metadata": {},
   "outputs": [
    {
     "data": {
      "text/plain": [
       "2.3025850929940459"
      ]
     },
     "execution_count": 2,
     "metadata": {},
     "output_type": "execute_result"
    }
   ],
   "source": [
    "np.log(10)"
   ]
  },
  {
   "cell_type": "code",
   "execution_count": 1,
   "metadata": {},
   "outputs": [
    {
     "name": "stdout",
     "output_type": "stream",
     "text": [
      "hello world from process  0\n"
     ]
    }
   ],
   "source": [
    "from mpi4py import MPI\n",
    "comm = MPI.COMM_WORLD\n",
    "rank = comm.Get_rank()\n",
    "print(\"hello world from process \", rank)"
   ]
  },
  {
   "cell_type": "code",
   "execution_count": 2,
   "metadata": {},
   "outputs": [
    {
     "data": {
      "text/plain": [
       "<mpi4py.MPI.Intracomm at 0x1089b89a8>"
      ]
     },
     "execution_count": 2,
     "metadata": {},
     "output_type": "execute_result"
    }
   ],
   "source": [
    "comm"
   ]
  },
  {
   "cell_type": "code",
   "execution_count": null,
   "metadata": {},
   "outputs": [],
   "source": []
  },
  {
   "cell_type": "code",
   "execution_count": 82,
   "metadata": {},
   "outputs": [],
   "source": [
    "def SQUARE_MATRIX_MULTIPLY(A, B):\n",
    "    n = A.shape[0]\n",
    "    C = np.empty((n,n))\n",
    "    for i in range(n):\n",
    "        for j in range(n):\n",
    "            C[i,j] = 0\n",
    "            for k in range(n):\n",
    "                C[i,j] += A[i,k] * B[k,j]\n",
    "    return C\n",
    "\n",
    "A = np.array([[1,2,3], [2,3,4], [5,6,7]])\n",
    "B = np.array([[9,8,7], [8,7,6], [7,6,5]])"
   ]
  },
  {
   "cell_type": "code",
   "execution_count": 102,
   "metadata": {},
   "outputs": [],
   "source": [
    "def SQUARE_MATRIX_MULTIPLY_RECURSIVE(A, B):\n",
    "    n = A.shape[0]\n",
    "    C = np.empty((n,n))\n",
    "    if n == 1:\n",
    "        C[0,0] = A[0,0] * B[0,0] # 其实可以不用写 [0,0]\n",
    "    else:\n",
    "        C[:n//2, :n//2] = SQUARE_MATRIX_MULTIPLY_RECURSIVE(A[:n//2, :n//2], B[:n//2, :n//2]) + SQUARE_MATRIX_MULTIPLY_RECURSIVE(A[:n//2, n//2:], B[n//2:, :n//2])\n",
    "        C[:n//2, n//2:] = SQUARE_MATRIX_MULTIPLY_RECURSIVE(A[:n//2, :n//2], B[:n//2, n//2:]) + SQUARE_MATRIX_MULTIPLY_RECURSIVE(A[:n//2, n//2:], B[n//2:, n//2:])\n",
    "        C[n//2:, :n//2] = SQUARE_MATRIX_MULTIPLY_RECURSIVE(A[n//2:, :n//2], B[:n//2, :n//2]) + SQUARE_MATRIX_MULTIPLY_RECURSIVE(A[n//2:, n//2:], B[n//2:, :n//2])\n",
    "        C[n//2:, n//2:] = SQUARE_MATRIX_MULTIPLY_RECURSIVE(A[n//2:, :n//2], B[:n//2, n//2:]) + SQUARE_MATRIX_MULTIPLY_RECURSIVE(A[n//2:, n//2:], B[n//2:, n//2:])\n",
    "    return C"
   ]
  },
  {
   "cell_type": "code",
   "execution_count": 86,
   "metadata": {},
   "outputs": [
    {
     "name": "stdout",
     "output_type": "stream",
     "text": [
      "43.2 µs ± 7.14 µs per loop (mean ± std. dev. of 7 runs, 10000 loops each)\n"
     ]
    }
   ],
   "source": [
    "%timeit SQUARE_MATRIX_MULTIPLY(A, B)"
   ]
  },
  {
   "cell_type": "code",
   "execution_count": 87,
   "metadata": {},
   "outputs": [
    {
     "name": "stdout",
     "output_type": "stream",
     "text": [
      "1.39 µs ± 92 ns per loop (mean ± std. dev. of 7 runs, 1000000 loops each)\n"
     ]
    }
   ],
   "source": [
    "%timeit A.dot(B)"
   ]
  },
  {
   "cell_type": "code",
   "execution_count": 105,
   "metadata": {},
   "outputs": [],
   "source": [
    "A = np.array([[1,2,3,4], [2,3,4,5], [5,6,7,8], [6,7,8,9]])\n",
    "B = np.array([[9,8,7,6], [8,7,6,5], [7,6,5,4], [6,5,4,3]])"
   ]
  },
  {
   "cell_type": "code",
   "execution_count": 108,
   "metadata": {},
   "outputs": [
    {
     "name": "stdout",
     "output_type": "stream",
     "text": [
      "68.6 µs ± 6.65 µs per loop (mean ± std. dev. of 7 runs, 10000 loops each)\n"
     ]
    }
   ],
   "source": [
    "%timeit SQUARE_MATRIX_MULTIPLY(A, B)"
   ]
  },
  {
   "cell_type": "code",
   "execution_count": 106,
   "metadata": {},
   "outputs": [
    {
     "name": "stdout",
     "output_type": "stream",
     "text": [
      "295 µs ± 35.3 µs per loop (mean ± std. dev. of 7 runs, 1000 loops each)\n"
     ]
    }
   ],
   "source": [
    "%timeit SQUARE_MATRIX_MULTIPLY_RECURSIVE(A, B)"
   ]
  },
  {
   "cell_type": "code",
   "execution_count": 107,
   "metadata": {},
   "outputs": [
    {
     "name": "stdout",
     "output_type": "stream",
     "text": [
      "1.57 µs ± 62.2 ns per loop (mean ± std. dev. of 7 runs, 1000000 loops each)\n"
     ]
    }
   ],
   "source": [
    "%timeit A.dot(B)"
   ]
  },
  {
   "cell_type": "code",
   "execution_count": null,
   "metadata": {},
   "outputs": [],
   "source": []
  }
 ],
 "metadata": {
  "kernelspec": {
   "display_name": "Python 3",
   "language": "python",
   "name": "python3"
  },
  "language_info": {
   "codemirror_mode": {
    "name": "ipython",
    "version": 3
   },
   "file_extension": ".py",
   "mimetype": "text/x-python",
   "name": "python",
   "nbconvert_exporter": "python",
   "pygments_lexer": "ipython3",
   "version": "3.6.2"
  },
  "nbTranslate": {
   "displayLangs": [
    "*"
   ],
   "hotkey": "alt-t",
   "langInMainMenu": true,
   "sourceLang": "en",
   "targetLang": "fr",
   "useGoogleTranslate": true
  },
  "toc": {
   "nav_menu": {},
   "number_sections": true,
   "sideBar": true,
   "skip_h1_title": false,
   "toc_cell": true,
   "toc_position": {},
   "toc_section_display": "block",
   "toc_window_display": false
  }
 },
 "nbformat": 4,
 "nbformat_minor": 2
}
