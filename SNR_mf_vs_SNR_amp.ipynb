{
 "cells": [
  {
   "cell_type": "markdown",
   "metadata": {},
   "source": [
    "# Match-filtering SNR v.s Amplitude-over-variance SNR"
   ]
  },
  {
   "cell_type": "code",
   "execution_count": 1,
   "metadata": {
    "ExecuteTime": {
     "end_time": "2018-10-13T10:28:21.783734Z",
     "start_time": "2018-10-13T10:28:18.402767Z"
    }
   },
   "outputs": [],
   "source": [
    "import numpy as np\n",
    "import pandas as pd\n",
    "\n",
    "import matplotlib.pyplot as plt\n",
    "%matplotlib inline "
   ]
  },
  {
   "cell_type": "code",
   "execution_count": 2,
   "metadata": {
    "ExecuteTime": {
     "end_time": "2018-10-13T10:28:23.463628Z",
     "start_time": "2018-10-13T10:28:22.436228Z"
    }
   },
   "outputs": [
    {
     "data": {
      "text/plain": [
       "dict_keys(['train_1', 'train_2', 'train_3', 'train_4', 'train_5', 'train_6', 'train_7', 'train_8', 'train_9', 'train_10', 'test_1', 'test_2', 'test_3', 'test_4', 'test_5', 'test_6', 'test_7', 'test_8', 'test_9', 'test_10'])"
      ]
     },
     "execution_count": 2,
     "metadata": {},
     "output_type": "execute_result"
    }
   ],
   "source": [
    "file_address = './data_SNRmf/'\n",
    "data = {}\n",
    "for type_ in ['train', 'test']:\n",
    "    for file in ['%s_SNRmf_%s.csv' %(type_, i) for i in range(1, 11)]:\n",
    "        data['%s_%s' %(type_, file.split('.')[0].split('_')[-1])] = pd.read_csv(file_address + file, \n",
    "                                                                                header=None)\n",
    "\n",
    "data.keys()"
   ]
  },
  {
   "cell_type": "code",
   "execution_count": 10,
   "metadata": {
    "ExecuteTime": {
     "end_time": "2018-10-13T10:30:35.239044Z",
     "start_time": "2018-10-13T10:30:34.828386Z"
    }
   },
   "outputs": [
    {
     "data": {
      "image/png": "[encoded data removed]",
      "text/plain": [
       "<matplotlib.figure.Figure at 0x115c8e0f0>"
      ]
     },
     "metadata": {
      "needs_background": "light"
     },
     "output_type": "display_data"
    },
    {
     "name": "stdout",
     "output_type": "stream",
     "text": [
      "4.826940708332831\n"
     ]
    }
   ],
   "source": [
    "# plt.figure(figsize=(15,15))\n",
    "plt.hist(data['train_1'].values[:,1].tolist(), bins = 50)\n",
    "plt.show()\n",
    "print(data['train_1'].values[:,1].mean())"
   ]
  },
  {
   "cell_type": "code",
   "execution_count": 18,
   "metadata": {
    "ExecuteTime": {
     "end_time": "2018-10-13T10:31:45.150865Z",
     "start_time": "2018-10-13T10:31:43.544239Z"
    }
   },
   "outputs": [
    {
     "name": "stdout",
     "output_type": "stream",
     "text": [
      "5.233368525689253\n",
      "5.160677699989758\n",
      "5.085883928899126\n",
      "5.1616683085564645\n",
      "5.157713978830782\n",
      "5.132572873811893\n",
      "5.167303897706463\n",
      "5.137524369947474\n",
      "5.182973843013832\n",
      "5.142550188184117\n"
     ]
    },
    {
     "data": {
      "image/png": "[encoded data removed]",
      "text/plain": [
       "<matplotlib.figure.Figure at 0x1136aaf98>"
      ]
     },
     "metadata": {
      "needs_background": "light"
     },
     "output_type": "display_data"
    }
   ],
   "source": [
    "tt = data['train_1'].iloc[:,0]\n",
    "for mass in tt.unique()[:10]:\n",
    "    data_ = data['train_1'][data['train_1'].iloc[:,0] == mass]\n",
    "    plt.hist(data_.values[:,1].tolist(), bins = 50, color='b', alpha=0.6)\n",
    "    print(data_.values[:,1].mean())"
   ]
  },
  {
   "cell_type": "code",
   "execution_count": 20,
   "metadata": {
    "ExecuteTime": {
     "end_time": "2018-10-13T10:33:43.226388Z",
     "start_time": "2018-10-13T10:33:41.353062Z"
    }
   },
   "outputs": [
    {
     "name": "stdout",
     "output_type": "stream",
     "text": [
      "4.773915635808653\n",
      "4.638973253948733\n",
      "4.760282889386312\n",
      "4.731012059166329\n",
      "4.754478474572082\n",
      "4.683339074843394\n",
      "4.686685697032726\n",
      "4.711102105149762\n",
      "4.869801810004876\n",
      "4.673346657708272\n"
     ]
    },
    {
     "data": {
      "image/png": "[encoded data removed]",
      "text/plain": [
       "<matplotlib.figure.Figure at 0x11ade3630>"
      ]
     },
     "metadata": {
      "needs_background": "light"
     },
     "output_type": "display_data"
    }
   ],
   "source": [
    "tt = data['train_1'].iloc[:,0]\n",
    "for mass in tt.unique()[-10:]:\n",
    "    data_ = data['train_1'][data['train_1'].iloc[:,0] == mass]\n",
    "    plt.hist(data_.values[:,1].tolist(), bins = 50)\n",
    "    print(data_.values[:,1].mean())"
   ]
  },
  {
   "cell_type": "code",
   "execution_count": null,
   "metadata": {
    "ExecuteTime": {
     "start_time": "2018-10-13T10:28:05.750Z"
    }
   },
   "outputs": [],
   "source": [
    "# data['train_1'][[0]]. == '5.00|5.50'"
   ]
  },
  {
   "cell_type": "code",
   "execution_count": null,
   "metadata": {},
   "outputs": [],
   "source": []
  }
 ],
 "metadata": {
  "kernelspec": {
   "display_name": "Python 3",
   "language": "python",
   "name": "python3"
  },
  "language_info": {
   "codemirror_mode": {
    "name": "ipython",
    "version": 3
   },
   "file_extension": ".py",
   "mimetype": "text/x-python",
   "name": "python",
   "nbconvert_exporter": "python",
   "pygments_lexer": "ipython3",
   "version": "3.6.2"
  },
  "nbTranslate": {
   "displayLangs": [
    "*"
   ],
   "hotkey": "alt-t",
   "langInMainMenu": true,
   "sourceLang": "en",
   "targetLang": "fr",
   "useGoogleTranslate": true
  },
  "toc": {
   "nav_menu": {},
   "number_sections": true,
   "sideBar": true,
   "skip_h1_title": false,
   "toc_cell": false,
   "toc_position": {},
   "toc_section_display": "block",
   "toc_window_display": false
  }
 },
 "nbformat": 4,
 "nbformat_minor": 2
}
