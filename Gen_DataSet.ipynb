{
 "cells": [
  {
   "cell_type": "markdown",
   "metadata": {},
   "source": [
    "# 自制噪声实验"
   ]
  },
  {
   "cell_type": "code",
   "execution_count": null,
   "metadata": {},
   "outputs": [],
   "source": []
  },
  {
   "cell_type": "code",
   "execution_count": 4,
   "metadata": {},
   "outputs": [
    {
     "name": "stdout",
     "output_type": "stream",
     "text": [
      "The autoreload extension is already loaded. To reload it, use:\n",
      "  %reload_ext autoreload\n"
     ]
    }
   ],
   "source": [
    "from data_utils import *\n",
    "from utils import *\n",
    "ctx = check_ctx()\n",
    "\n",
    "import mxnet as mx\n",
    "import mxnet.ndarray as nd\n",
    "\n",
    "import matplotlib.pyplot as plt\n",
    "%matplotlib inline\n",
    "\n",
    "# for auto-reloading external modules\n",
    "# see http://stackoverflow.com/questions/1907993/autoreload-of-modules-in-ipython\n",
    "%load_ext autoreload\n",
    "%autoreload 2"
   ]
  },
  {
   "cell_type": "markdown",
   "metadata": {},
   "source": [
    "## 查验噪声生成 PSD\n",
    "\n",
    "\n",
    "    1. numpy"
   ]
  },
  {
   "cell_type": "code",
   "execution_count": 6,
   "metadata": {},
   "outputs": [
    {
     "ename": "TypeError",
     "evalue": "type <class 'numpy.ndarray'> not supported",
     "output_type": "error",
     "traceback": [
      "\u001b[0;31m---------------------------------------------------------------------------\u001b[0m",
      "\u001b[0;31mTypeError\u001b[0m                                 Traceback (most recent call last)",
      "\u001b[0;32m<ipython-input-6-8027482e815f>\u001b[0m in \u001b[0;36m<module>\u001b[0;34m()\u001b[0m\n\u001b[1;32m      9\u001b[0m \u001b[0;31m# asd_pos, asd_neg, low_f, high_f, high_f_, size, fs, fmin, fmax = param_noise\u001b[0m\u001b[0;34m\u001b[0m\u001b[0;34m\u001b[0m\u001b[0m\n\u001b[1;32m     10\u001b[0m \u001b[0;34m\u001b[0m\u001b[0m\n\u001b[0;32m---> 11\u001b[0;31m \u001b[0mnoise_sample\u001b[0m\u001b[0;34m,\u001b[0m \u001b[0mpsd_zero\u001b[0m \u001b[0;34m=\u001b[0m \u001b[0mTimeseriesFromPSD\u001b[0m\u001b[0;34m(\u001b[0m\u001b[0mparam_noise\u001b[0m\u001b[0;34m)\u001b[0m\u001b[0;34m\u001b[0m\u001b[0m\n\u001b[0m\u001b[1;32m     12\u001b[0m \u001b[0;34m\u001b[0m\u001b[0m\n\u001b[1;32m     13\u001b[0m \u001b[0mplt\u001b[0m\u001b[0;34m.\u001b[0m\u001b[0mfigure\u001b[0m\u001b[0;34m(\u001b[0m\u001b[0mfigsize\u001b[0m\u001b[0;34m=\u001b[0m\u001b[0;34m(\u001b[0m\u001b[0;36m10\u001b[0m\u001b[0;34m,\u001b[0m\u001b[0;36m10\u001b[0m\u001b[0;34m)\u001b[0m\u001b[0;34m)\u001b[0m\u001b[0;34m\u001b[0m\u001b[0m\n",
      "\u001b[0;32m/floyd/home/data_utils.py\u001b[0m in \u001b[0;36mTimeseriesFromPSD\u001b[0;34m(param_noise)\u001b[0m\n\u001b[1;32m    193\u001b[0m                               \u001b[0mnp\u001b[0m\u001b[0;34m.\u001b[0m\u001b[0mzeros\u001b[0m\u001b[0;34m(\u001b[0m\u001b[0;34m(\u001b[0m\u001b[0mD\u001b[0m\u001b[0;34m,\u001b[0m \u001b[0mlow_f\u001b[0m\u001b[0;34m)\u001b[0m\u001b[0;34m)\u001b[0m\u001b[0;34m,\u001b[0m\u001b[0;34m\u001b[0m\u001b[0m\n\u001b[1;32m    194\u001b[0m                                 \u001b[0;31m# high positive\u001b[0m\u001b[0;34m\u001b[0m\u001b[0;34m\u001b[0m\u001b[0m\n\u001b[0;32m--> 195\u001b[0;31m                               \u001b[0mpsd_gauss\u001b[0m\u001b[0;34m[\u001b[0m\u001b[0;34m:\u001b[0m\u001b[0;34m,\u001b[0m \u001b[0mlow_f\u001b[0m\u001b[0;34m:\u001b[0m\u001b[0mhigh_f\u001b[0m\u001b[0;34m]\u001b[0m \u001b[0;34m*\u001b[0m \u001b[0masd_pos\u001b[0m\u001b[0;34m,\u001b[0m\u001b[0;34m\u001b[0m\u001b[0m\n\u001b[0m\u001b[1;32m    196\u001b[0m                               \u001b[0mnp\u001b[0m\u001b[0;34m.\u001b[0m\u001b[0mzeros\u001b[0m\u001b[0;34m(\u001b[0m\u001b[0;34m(\u001b[0m\u001b[0mD\u001b[0m\u001b[0;34m,\u001b[0m \u001b[0mhigh_f_\u001b[0m\u001b[0;34m)\u001b[0m\u001b[0;34m)\u001b[0m\u001b[0;34m,\u001b[0m\u001b[0;34m\u001b[0m\u001b[0m\n\u001b[1;32m    197\u001b[0m                               \u001b[0mnp\u001b[0m\u001b[0;34m.\u001b[0m\u001b[0mzeros\u001b[0m\u001b[0;34m(\u001b[0m\u001b[0;34m(\u001b[0m\u001b[0mD\u001b[0m\u001b[0;34m,\u001b[0m \u001b[0mhigh_f_\u001b[0m\u001b[0;34m)\u001b[0m\u001b[0;34m)\u001b[0m\u001b[0;34m,\u001b[0m\u001b[0;34m\u001b[0m\u001b[0m\n",
      "\u001b[0;32m/usr/local/lib/python3.6/site-packages/mxnet/ndarray/ndarray.py\u001b[0m in \u001b[0;36m__rmul__\u001b[0;34m(self, other)\u001b[0m\n\u001b[1;32m    258\u001b[0m \u001b[0;34m\u001b[0m\u001b[0m\n\u001b[1;32m    259\u001b[0m     \u001b[0;32mdef\u001b[0m \u001b[0m__rmul__\u001b[0m\u001b[0;34m(\u001b[0m\u001b[0mself\u001b[0m\u001b[0;34m,\u001b[0m \u001b[0mother\u001b[0m\u001b[0;34m)\u001b[0m\u001b[0;34m:\u001b[0m\u001b[0;34m\u001b[0m\u001b[0m\n\u001b[0;32m--> 260\u001b[0;31m         \u001b[0;32mreturn\u001b[0m \u001b[0mself\u001b[0m\u001b[0;34m.\u001b[0m\u001b[0m__mul__\u001b[0m\u001b[0;34m(\u001b[0m\u001b[0mother\u001b[0m\u001b[0;34m)\u001b[0m\u001b[0;34m\u001b[0m\u001b[0m\n\u001b[0m\u001b[1;32m    261\u001b[0m \u001b[0;34m\u001b[0m\u001b[0m\n\u001b[1;32m    262\u001b[0m     \u001b[0;32mdef\u001b[0m \u001b[0m__div__\u001b[0m\u001b[0;34m(\u001b[0m\u001b[0mself\u001b[0m\u001b[0;34m,\u001b[0m \u001b[0mother\u001b[0m\u001b[0;34m)\u001b[0m\u001b[0;34m:\u001b[0m\u001b[0;34m\u001b[0m\u001b[0m\n",
      "\u001b[0;32m/usr/local/lib/python3.6/site-packages/mxnet/ndarray/ndarray.py\u001b[0m in \u001b[0;36m__mul__\u001b[0;34m(self, other)\u001b[0m\n\u001b[1;32m    240\u001b[0m     \u001b[0;32mdef\u001b[0m \u001b[0m__mul__\u001b[0m\u001b[0;34m(\u001b[0m\u001b[0mself\u001b[0m\u001b[0;34m,\u001b[0m \u001b[0mother\u001b[0m\u001b[0;34m)\u001b[0m\u001b[0;34m:\u001b[0m\u001b[0;34m\u001b[0m\u001b[0m\n\u001b[1;32m    241\u001b[0m         \u001b[0;34m\"\"\"x.__mul__(y) <=> x*y <=> mx.nd.multiply(x, y) \"\"\"\u001b[0m\u001b[0;34m\u001b[0m\u001b[0m\n\u001b[0;32m--> 242\u001b[0;31m         \u001b[0;32mreturn\u001b[0m \u001b[0mmultiply\u001b[0m\u001b[0;34m(\u001b[0m\u001b[0mself\u001b[0m\u001b[0;34m,\u001b[0m \u001b[0mother\u001b[0m\u001b[0;34m)\u001b[0m\u001b[0;34m\u001b[0m\u001b[0m\n\u001b[0m\u001b[1;32m    243\u001b[0m \u001b[0;34m\u001b[0m\u001b[0m\n\u001b[1;32m    244\u001b[0m     \u001b[0;32mdef\u001b[0m \u001b[0m__neg__\u001b[0m\u001b[0;34m(\u001b[0m\u001b[0mself\u001b[0m\u001b[0;34m)\u001b[0m\u001b[0;34m:\u001b[0m\u001b[0;34m\u001b[0m\u001b[0m\n",
      "\u001b[0;32m/usr/local/lib/python3.6/site-packages/mxnet/ndarray/ndarray.py\u001b[0m in \u001b[0;36mmultiply\u001b[0;34m(lhs, rhs)\u001b[0m\n\u001b[1;32m   2754\u001b[0m         \u001b[0moperator\u001b[0m\u001b[0;34m.\u001b[0m\u001b[0mmul\u001b[0m\u001b[0;34m,\u001b[0m\u001b[0;34m\u001b[0m\u001b[0m\n\u001b[1;32m   2755\u001b[0m         \u001b[0m_internal\u001b[0m\u001b[0;34m.\u001b[0m\u001b[0m_mul_scalar\u001b[0m\u001b[0;34m,\u001b[0m\u001b[0;34m\u001b[0m\u001b[0m\n\u001b[0;32m-> 2756\u001b[0;31m         None)\n\u001b[0m\u001b[1;32m   2757\u001b[0m     \u001b[0;31m# pylint: enable= no-member, protected-access\u001b[0m\u001b[0;34m\u001b[0m\u001b[0;34m\u001b[0m\u001b[0m\n\u001b[1;32m   2758\u001b[0m \u001b[0;34m\u001b[0m\u001b[0m\n",
      "\u001b[0;32m/usr/local/lib/python3.6/site-packages/mxnet/ndarray/ndarray.py\u001b[0m in \u001b[0;36m_ufunc_helper\u001b[0;34m(lhs, rhs, fn_array, fn_scalar, lfn_scalar, rfn_scalar)\u001b[0m\n\u001b[1;32m   2569\u001b[0m         \u001b[0;32mreturn\u001b[0m \u001b[0mfn_array\u001b[0m\u001b[0;34m(\u001b[0m\u001b[0mlhs\u001b[0m\u001b[0;34m,\u001b[0m \u001b[0mrhs\u001b[0m\u001b[0;34m)\u001b[0m\u001b[0;34m\u001b[0m\u001b[0m\n\u001b[1;32m   2570\u001b[0m     \u001b[0;32melse\u001b[0m\u001b[0;34m:\u001b[0m\u001b[0;34m\u001b[0m\u001b[0m\n\u001b[0;32m-> 2571\u001b[0;31m         \u001b[0;32mraise\u001b[0m \u001b[0mTypeError\u001b[0m\u001b[0;34m(\u001b[0m\u001b[0;34m'type %s not supported'\u001b[0m \u001b[0;34m%\u001b[0m \u001b[0mstr\u001b[0m\u001b[0;34m(\u001b[0m\u001b[0mtype\u001b[0m\u001b[0;34m(\u001b[0m\u001b[0mrhs\u001b[0m\u001b[0;34m)\u001b[0m\u001b[0;34m)\u001b[0m\u001b[0;34m)\u001b[0m\u001b[0;34m\u001b[0m\u001b[0m\n\u001b[0m\u001b[1;32m   2572\u001b[0m \u001b[0;31m#pylint: enable= too-many-arguments, no-member, protected-access\u001b[0m\u001b[0;34m\u001b[0m\u001b[0;34m\u001b[0m\u001b[0m\n\u001b[1;32m   2573\u001b[0m \u001b[0;34m\u001b[0m\u001b[0m\n",
      "\u001b[0;31mTypeError\u001b[0m: type <class 'numpy.ndarray'> not supported"
     ]
    }
   ],
   "source": [
    "N = 8192\n",
    "fs = 8192\n",
    "fmin = 20\n",
    "fmax = 4000\n",
    "\n",
    "num = 1\n",
    "\n",
    "param_noise = Pre_zero( size = (20,8192))\n",
    "# asd_pos, asd_neg, low_f, high_f, high_f_, size, fs, fmin, fmax = param_noise\n",
    "\n",
    "noise_sample, psd_zero = TimeseriesFromPSD(param_noise)\n",
    "\n",
    "plt.figure(figsize=(10,10))\n",
    "plt.subplot(2,1,1)\n",
    "plt.plot(np.linspace(0, N/fs, N), noise_sample[num])\n",
    "plt.title('Colored noise')\n",
    "plt.ylabel('Strain')\n",
    "plt.xlabel('time [s]')\n",
    "\n",
    "plt.subplot(2,1,2)\n",
    "plt.loglog( np.sqrt(psd_zero[num,1:]), label = \"Colored noise\", alpha=0.7)\n",
    "\n",
    "# Check#1\n",
    "_, xf_noise_sample, PSD_noise_sample = oneSidedPeriodogram(noise_sample, fs)\n",
    "plt.loglog(xf_noise_sample[1:], np.sqrt(PSD_noise_sample[num,1:]), label = \"Simulated_mine\", alpha=0.6)\n",
    "\n",
    "# Check#2\n",
    "NFFT = fs//2\n",
    "# NFFT = 4*fs\n",
    "psd_window = np.blackman(NFFT)\n",
    "NOVL = NFFT/2\n",
    "PSD_noise_sample ,xf_noise_sample= plt.mlab.psd(noise_sample[num], Fs=fs, NFFT=NFFT, window=psd_window, noverlap=NOVL)\n",
    "\n",
    "plt.loglog(xf_noise_sample[1:], np.sqrt(PSD_noise_sample[1:]), label = \"Simulated_mlab\", alpha=0.6)\n",
    "plt.loglog(ZERO_DET[:,0],ZERO_DET[:,1], label = \"ZERO_DET_High_P\")\n",
    "plt.xlim(xmin=fmin, xmax = fmax)\n",
    "plt.ylim((1e-25, 1e-22))\n",
    "plt.title('ASD of the colored noise')\n",
    "plt.ylabel('ASD [Strain/rsHz]')\n",
    "plt.xlabel('frequency [Hz]')\n",
    "plt.grid()\n",
    "plt.legend()\n",
    "plt.show()"
   ]
  },
  {
   "cell_type": "markdown",
   "metadata": {},
   "source": [
    "    2. mxnet\n",
    "    \n",
    ">GPU only"
   ]
  },
  {
   "cell_type": "code",
   "execution_count": 11,
   "metadata": {},
   "outputs": [
    {
     "data": {
      "image/png": "[encoded data removed]",
      "text/plain": [
       "<Figure size 720x720 with 2 Axes>"
      ]
     },
     "metadata": {},
     "output_type": "display_data"
    }
   ],
   "source": [
    "N = 8192\n",
    "fs = 8192\n",
    "fmin = 20\n",
    "fmax = 4000\n",
    "\n",
    "num = 1\n",
    "\n",
    "param_noise = Pre_zero(size = (20,8192))\n",
    "# asd_pos, asd_neg, low_f, high_f, high_f_, size, fs, fmin, fmax = param_noise\n",
    "\n",
    "noise_sample_nd, psd_zero_nd = TimeseriesFromPSD_nd(param_noise)\n",
    "noise_sample_nd = noise_sample_nd.asnumpy()\n",
    "psd_zero_nd = psd_zero_nd.asnumpy()\n",
    "\n",
    "plt.figure(figsize=(10,10))\n",
    "plt.subplot(2,1,1)\n",
    "plt.plot(np.linspace(0, N/fs, N), noise_sample_nd[num])\n",
    "plt.title('Colored noise')\n",
    "plt.ylabel('Strain')\n",
    "plt.xlabel('time [s]')\n",
    "\n",
    "\n",
    "plt.subplot(2,1,2)\n",
    "plt.loglog( np.sqrt(psd_zero_nd[num,1:]), label = \"Colored noise\", alpha=0.7)\n",
    "\n",
    "# Check#1\n",
    "_, xf_noise_sample, PSD_noise_sample = oneSidedPeriodogram(noise_sample_nd, fs)\n",
    "plt.loglog(xf_noise_sample[1:], np.sqrt(PSD_noise_sample[num,1:]), label = \"Simulated_mine\", alpha=0.6)\n",
    "\n",
    "# Check#2\n",
    "NFFT = fs//2\n",
    "# NFFT = 4*fs\n",
    "psd_window = np.blackman(NFFT)\n",
    "NOVL = NFFT/2\n",
    "PSD_noise_sample ,xf_noise_sample= plt.mlab.psd(noise_sample_nd[num], Fs=fs, NFFT=NFFT, window=psd_window, noverlap=NOVL)\n",
    "\n",
    "plt.loglog(xf_noise_sample[1:], np.sqrt(PSD_noise_sample[1:]), label = \"Simulated_mlab\", alpha=0.6)\n",
    "plt.loglog(ZERO_DET[:,0],ZERO_DET[:,1], label = \"ZERO_DET_High_P\")\n",
    "plt.xlim(xmin=fmin, xmax = fmax)\n",
    "plt.ylim((1e-25, 1e-22))\n",
    "plt.title('ASD of the colored noise')\n",
    "plt.ylabel('ASD [Strain/rsHz]')\n",
    "plt.xlabel('frequency [Hz]')\n",
    "plt.grid()\n",
    "plt.legend()\n",
    "plt.show()"
   ]
  },
  {
   "cell_type": "markdown",
   "metadata": {},
   "source": [
    "## 查验噪声生成的效率"
   ]
  },
  {
   "cell_type": "code",
   "execution_count": 12,
   "metadata": {},
   "outputs": [],
   "source": [
    "param_noise = Pre_zero(size = (13300,8192))"
   ]
  },
  {
   "cell_type": "code",
   "execution_count": 13,
   "metadata": {},
   "outputs": [
    {
     "name": "stdout",
     "output_type": "stream",
     "text": [
      "CPU times: user 8 ms, sys: 20 ms, total: 28 ms\n",
      "Wall time: 9.55 ms\n"
     ]
    }
   ],
   "source": [
    "%%time\n",
    "# MXNet using GPU\n",
    "noise_sample_nd ,psd_zero_nd = TimeseriesFromPSD_nd(param_noise)"
   ]
  },
  {
   "cell_type": "code",
   "execution_count": 14,
   "metadata": {},
   "outputs": [
    {
     "ename": "TypeError",
     "evalue": "type <class 'numpy.ndarray'> not supported",
     "output_type": "error",
     "traceback": [
      "\u001b[0;31m---------------------------------------------------------------------------\u001b[0m",
      "\u001b[0;31mTypeError\u001b[0m                                 Traceback (most recent call last)",
      "\u001b[0;32m<timed exec>\u001b[0m in \u001b[0;36m<module>\u001b[0;34m()\u001b[0m\n",
      "\u001b[0;32m/floyd/home/data_utils.py\u001b[0m in \u001b[0;36mTimeseriesFromPSD\u001b[0;34m(param_noise)\u001b[0m\n\u001b[1;32m    193\u001b[0m                               \u001b[0mnp\u001b[0m\u001b[0;34m.\u001b[0m\u001b[0mzeros\u001b[0m\u001b[0;34m(\u001b[0m\u001b[0;34m(\u001b[0m\u001b[0mD\u001b[0m\u001b[0;34m,\u001b[0m \u001b[0mlow_f\u001b[0m\u001b[0;34m)\u001b[0m\u001b[0;34m)\u001b[0m\u001b[0;34m,\u001b[0m\u001b[0;34m\u001b[0m\u001b[0m\n\u001b[1;32m    194\u001b[0m                                 \u001b[0;31m# high positive\u001b[0m\u001b[0;34m\u001b[0m\u001b[0;34m\u001b[0m\u001b[0m\n\u001b[0;32m--> 195\u001b[0;31m                               \u001b[0mpsd_gauss\u001b[0m\u001b[0;34m[\u001b[0m\u001b[0;34m:\u001b[0m\u001b[0;34m,\u001b[0m \u001b[0mlow_f\u001b[0m\u001b[0;34m:\u001b[0m\u001b[0mhigh_f\u001b[0m\u001b[0;34m]\u001b[0m \u001b[0;34m*\u001b[0m \u001b[0masd_pos\u001b[0m\u001b[0;34m,\u001b[0m\u001b[0;34m\u001b[0m\u001b[0m\n\u001b[0m\u001b[1;32m    196\u001b[0m                               \u001b[0mnp\u001b[0m\u001b[0;34m.\u001b[0m\u001b[0mzeros\u001b[0m\u001b[0;34m(\u001b[0m\u001b[0;34m(\u001b[0m\u001b[0mD\u001b[0m\u001b[0;34m,\u001b[0m \u001b[0mhigh_f_\u001b[0m\u001b[0;34m)\u001b[0m\u001b[0;34m)\u001b[0m\u001b[0;34m,\u001b[0m\u001b[0;34m\u001b[0m\u001b[0m\n\u001b[1;32m    197\u001b[0m                               \u001b[0mnp\u001b[0m\u001b[0;34m.\u001b[0m\u001b[0mzeros\u001b[0m\u001b[0;34m(\u001b[0m\u001b[0;34m(\u001b[0m\u001b[0mD\u001b[0m\u001b[0;34m,\u001b[0m \u001b[0mhigh_f_\u001b[0m\u001b[0;34m)\u001b[0m\u001b[0;34m)\u001b[0m\u001b[0;34m,\u001b[0m\u001b[0;34m\u001b[0m\u001b[0m\n",
      "\u001b[0;32m/usr/local/lib/python3.6/site-packages/mxnet/ndarray/ndarray.py\u001b[0m in \u001b[0;36m__rmul__\u001b[0;34m(self, other)\u001b[0m\n\u001b[1;32m    258\u001b[0m \u001b[0;34m\u001b[0m\u001b[0m\n\u001b[1;32m    259\u001b[0m     \u001b[0;32mdef\u001b[0m \u001b[0m__rmul__\u001b[0m\u001b[0;34m(\u001b[0m\u001b[0mself\u001b[0m\u001b[0;34m,\u001b[0m \u001b[0mother\u001b[0m\u001b[0;34m)\u001b[0m\u001b[0;34m:\u001b[0m\u001b[0;34m\u001b[0m\u001b[0m\n\u001b[0;32m--> 260\u001b[0;31m         \u001b[0;32mreturn\u001b[0m \u001b[0mself\u001b[0m\u001b[0;34m.\u001b[0m\u001b[0m__mul__\u001b[0m\u001b[0;34m(\u001b[0m\u001b[0mother\u001b[0m\u001b[0;34m)\u001b[0m\u001b[0;34m\u001b[0m\u001b[0m\n\u001b[0m\u001b[1;32m    261\u001b[0m \u001b[0;34m\u001b[0m\u001b[0m\n\u001b[1;32m    262\u001b[0m     \u001b[0;32mdef\u001b[0m \u001b[0m__div__\u001b[0m\u001b[0;34m(\u001b[0m\u001b[0mself\u001b[0m\u001b[0;34m,\u001b[0m \u001b[0mother\u001b[0m\u001b[0;34m)\u001b[0m\u001b[0;34m:\u001b[0m\u001b[0;34m\u001b[0m\u001b[0m\n",
      "\u001b[0;32m/usr/local/lib/python3.6/site-packages/mxnet/ndarray/ndarray.py\u001b[0m in \u001b[0;36m__mul__\u001b[0;34m(self, other)\u001b[0m\n\u001b[1;32m    240\u001b[0m     \u001b[0;32mdef\u001b[0m \u001b[0m__mul__\u001b[0m\u001b[0;34m(\u001b[0m\u001b[0mself\u001b[0m\u001b[0;34m,\u001b[0m \u001b[0mother\u001b[0m\u001b[0;34m)\u001b[0m\u001b[0;34m:\u001b[0m\u001b[0;34m\u001b[0m\u001b[0m\n\u001b[1;32m    241\u001b[0m         \u001b[0;34m\"\"\"x.__mul__(y) <=> x*y <=> mx.nd.multiply(x, y) \"\"\"\u001b[0m\u001b[0;34m\u001b[0m\u001b[0m\n\u001b[0;32m--> 242\u001b[0;31m         \u001b[0;32mreturn\u001b[0m \u001b[0mmultiply\u001b[0m\u001b[0;34m(\u001b[0m\u001b[0mself\u001b[0m\u001b[0;34m,\u001b[0m \u001b[0mother\u001b[0m\u001b[0;34m)\u001b[0m\u001b[0;34m\u001b[0m\u001b[0m\n\u001b[0m\u001b[1;32m    243\u001b[0m \u001b[0;34m\u001b[0m\u001b[0m\n\u001b[1;32m    244\u001b[0m     \u001b[0;32mdef\u001b[0m \u001b[0m__neg__\u001b[0m\u001b[0;34m(\u001b[0m\u001b[0mself\u001b[0m\u001b[0;34m)\u001b[0m\u001b[0;34m:\u001b[0m\u001b[0;34m\u001b[0m\u001b[0m\n",
      "\u001b[0;32m/usr/local/lib/python3.6/site-packages/mxnet/ndarray/ndarray.py\u001b[0m in \u001b[0;36mmultiply\u001b[0;34m(lhs, rhs)\u001b[0m\n\u001b[1;32m   2754\u001b[0m         \u001b[0moperator\u001b[0m\u001b[0;34m.\u001b[0m\u001b[0mmul\u001b[0m\u001b[0;34m,\u001b[0m\u001b[0;34m\u001b[0m\u001b[0m\n\u001b[1;32m   2755\u001b[0m         \u001b[0m_internal\u001b[0m\u001b[0;34m.\u001b[0m\u001b[0m_mul_scalar\u001b[0m\u001b[0;34m,\u001b[0m\u001b[0;34m\u001b[0m\u001b[0m\n\u001b[0;32m-> 2756\u001b[0;31m         None)\n\u001b[0m\u001b[1;32m   2757\u001b[0m     \u001b[0;31m# pylint: enable= no-member, protected-access\u001b[0m\u001b[0;34m\u001b[0m\u001b[0;34m\u001b[0m\u001b[0m\n\u001b[1;32m   2758\u001b[0m \u001b[0;34m\u001b[0m\u001b[0m\n",
      "\u001b[0;32m/usr/local/lib/python3.6/site-packages/mxnet/ndarray/ndarray.py\u001b[0m in \u001b[0;36m_ufunc_helper\u001b[0;34m(lhs, rhs, fn_array, fn_scalar, lfn_scalar, rfn_scalar)\u001b[0m\n\u001b[1;32m   2569\u001b[0m         \u001b[0;32mreturn\u001b[0m \u001b[0mfn_array\u001b[0m\u001b[0;34m(\u001b[0m\u001b[0mlhs\u001b[0m\u001b[0;34m,\u001b[0m \u001b[0mrhs\u001b[0m\u001b[0;34m)\u001b[0m\u001b[0;34m\u001b[0m\u001b[0m\n\u001b[1;32m   2570\u001b[0m     \u001b[0;32melse\u001b[0m\u001b[0;34m:\u001b[0m\u001b[0;34m\u001b[0m\u001b[0m\n\u001b[0;32m-> 2571\u001b[0;31m         \u001b[0;32mraise\u001b[0m \u001b[0mTypeError\u001b[0m\u001b[0;34m(\u001b[0m\u001b[0;34m'type %s not supported'\u001b[0m \u001b[0;34m%\u001b[0m \u001b[0mstr\u001b[0m\u001b[0;34m(\u001b[0m\u001b[0mtype\u001b[0m\u001b[0;34m(\u001b[0m\u001b[0mrhs\u001b[0m\u001b[0;34m)\u001b[0m\u001b[0;34m)\u001b[0m\u001b[0;34m)\u001b[0m\u001b[0;34m\u001b[0m\u001b[0m\n\u001b[0m\u001b[1;32m   2572\u001b[0m \u001b[0;31m#pylint: enable= too-many-arguments, no-member, protected-access\u001b[0m\u001b[0;34m\u001b[0m\u001b[0;34m\u001b[0m\u001b[0m\n\u001b[1;32m   2573\u001b[0m \u001b[0;34m\u001b[0m\u001b[0m\n",
      "\u001b[0;31mTypeError\u001b[0m: type <class 'numpy.ndarray'> not supported"
     ]
    }
   ],
   "source": [
    "%%time\n",
    "# Numpy in Floydhub using CPU\n",
    "noise_sample ,psd_zero = TimeseriesFromPSD(param_noise)"
   ]
  },
  {
   "cell_type": "markdown",
   "metadata": {},
   "source": [
    "![](https://i.loli.net/2018/09/07/5b926c99063c0.png)\n"
   ]
  },
  {
   "cell_type": "code",
   "execution_count": 11,
   "metadata": {},
   "outputs": [],
   "source": [
    "# %%time\n",
    "# # My Macbook air using CPU\n",
    "# noise_sample ,psd_zero = TimeseriesFromPSD(param_noise)"
   ]
  },
  {
   "cell_type": "markdown",
   "metadata": {},
   "source": [
    "## 查验噪声保存的效率"
   ]
  },
  {
   "cell_type": "code",
   "execution_count": 9,
   "metadata": {},
   "outputs": [
    {
     "name": "stdout",
     "output_type": "stream",
     "text": [
      "-rw-r--r-- 1 root root 416M Aug 15 06:41 noise\n",
      "CPU times: user 80 ms, sys: 508 ms, total: 588 ms\n",
      "Wall time: 4.26 s\n"
     ]
    }
   ],
   "source": [
    "%%time \n",
    "\n",
    "nd.save('noise',noise_sample_nd)\n",
    "!ls -lh noise"
   ]
  },
  {
   "cell_type": "code",
   "execution_count": 10,
   "metadata": {},
   "outputs": [
    {
     "name": "stdout",
     "output_type": "stream",
     "text": [
      "-rw-r--r-- 1 root root 416M Aug 15 06:41 noise.npy\n",
      "CPU times: user 104 ms, sys: 456 ms, total: 560 ms\n",
      "Wall time: 4.61 s\n"
     ]
    }
   ],
   "source": [
    "%%time \n",
    "\n",
    "np.save('noise',noise_sample_nd.asnumpy())\n",
    "!ls -lh noise.npy"
   ]
  },
  {
   "cell_type": "code",
   "execution_count": null,
   "metadata": {},
   "outputs": [],
   "source": []
  },
  {
   "cell_type": "code",
   "execution_count": null,
   "metadata": {},
   "outputs": [],
   "source": []
  },
  {
   "cell_type": "markdown",
   "metadata": {},
   "source": [
    "## 带信噪比的数据集\n",
    "\n",
    "\n",
    "## 探索 SNR_amp 与 SNR_mf 之间的关系"
   ]
  },
  {
   "cell_type": "code",
   "execution_count": 15,
   "metadata": {},
   "outputs": [
    {
     "ename": "FileNotFoundError",
     "evalue": "[Errno 2] No such file or directory: 'GW.npy'",
     "output_type": "error",
     "traceback": [
      "\u001b[0;31m---------------------------------------------------------------------------\u001b[0m",
      "\u001b[0;31mFileNotFoundError\u001b[0m                         Traceback (most recent call last)",
      "\u001b[0;32m<ipython-input-15-25315026921f>\u001b[0m in \u001b[0;36m<module>\u001b[0;34m()\u001b[0m\n\u001b[0;32m----> 1\u001b[0;31m \u001b[0mGW_data\u001b[0m \u001b[0;34m=\u001b[0m \u001b[0mpd\u001b[0m\u001b[0;34m.\u001b[0m\u001b[0mDataFrame\u001b[0m\u001b[0;34m(\u001b[0m\u001b[0mnp\u001b[0m\u001b[0;34m.\u001b[0m\u001b[0mload\u001b[0m\u001b[0;34m(\u001b[0m\u001b[0;34m'GW.npy'\u001b[0m\u001b[0;34m)\u001b[0m\u001b[0;34m,\u001b[0m \u001b[0mindex\u001b[0m\u001b[0;34m=\u001b[0m\u001b[0mnp\u001b[0m\u001b[0;34m.\u001b[0m\u001b[0mload\u001b[0m\u001b[0;34m(\u001b[0m\u001b[0;34m'GW_index.npy'\u001b[0m\u001b[0;34m)\u001b[0m\u001b[0;34m)\u001b[0m\u001b[0;34m\u001b[0m\u001b[0m\n\u001b[0m\u001b[1;32m      2\u001b[0m \u001b[0mprint\u001b[0m\u001b[0;34m(\u001b[0m\u001b[0mGW_data\u001b[0m\u001b[0;34m.\u001b[0m\u001b[0mshape\u001b[0m\u001b[0;34m)\u001b[0m\u001b[0;34m\u001b[0m\u001b[0m\n\u001b[1;32m      3\u001b[0m \u001b[0mGW_data\u001b[0m\u001b[0;34m.\u001b[0m\u001b[0mhead\u001b[0m\u001b[0;34m(\u001b[0m\u001b[0;36m10\u001b[0m\u001b[0;34m)\u001b[0m\u001b[0;34m\u001b[0m\u001b[0m\n",
      "\u001b[0;32m/usr/local/lib/python3.6/site-packages/numpy/lib/npyio.py\u001b[0m in \u001b[0;36mload\u001b[0;34m(file, mmap_mode, allow_pickle, fix_imports, encoding)\u001b[0m\n\u001b[1;32m    370\u001b[0m     \u001b[0mown_fid\u001b[0m \u001b[0;34m=\u001b[0m \u001b[0;32mFalse\u001b[0m\u001b[0;34m\u001b[0m\u001b[0m\n\u001b[1;32m    371\u001b[0m     \u001b[0;32mif\u001b[0m \u001b[0misinstance\u001b[0m\u001b[0;34m(\u001b[0m\u001b[0mfile\u001b[0m\u001b[0;34m,\u001b[0m \u001b[0mbasestring\u001b[0m\u001b[0;34m)\u001b[0m\u001b[0;34m:\u001b[0m\u001b[0;34m\u001b[0m\u001b[0m\n\u001b[0;32m--> 372\u001b[0;31m         \u001b[0mfid\u001b[0m \u001b[0;34m=\u001b[0m \u001b[0mopen\u001b[0m\u001b[0;34m(\u001b[0m\u001b[0mfile\u001b[0m\u001b[0;34m,\u001b[0m \u001b[0;34m\"rb\"\u001b[0m\u001b[0;34m)\u001b[0m\u001b[0;34m\u001b[0m\u001b[0m\n\u001b[0m\u001b[1;32m    373\u001b[0m         \u001b[0mown_fid\u001b[0m \u001b[0;34m=\u001b[0m \u001b[0;32mTrue\u001b[0m\u001b[0;34m\u001b[0m\u001b[0m\n\u001b[1;32m    374\u001b[0m     \u001b[0;32melif\u001b[0m \u001b[0mis_pathlib_path\u001b[0m\u001b[0;34m(\u001b[0m\u001b[0mfile\u001b[0m\u001b[0;34m)\u001b[0m\u001b[0;34m:\u001b[0m\u001b[0;34m\u001b[0m\u001b[0m\n",
      "\u001b[0;31mFileNotFoundError\u001b[0m: [Errno 2] No such file or directory: 'GW.npy'"
     ]
    }
   ],
   "source": [
    "GW_data = pd.DataFrame(np.load('GW.npy'), index=np.load('GW_index.npy'))\n",
    "print(GW_data.shape)\n",
    "GW_data.head(10)"
   ]
  },
  {
   "cell_type": "code",
   "execution_count": 4,
   "metadata": {},
   "outputs": [
    {
     "data": {
      "text/plain": [
       "(13300, 8192)"
      ]
     },
     "execution_count": 4,
     "metadata": {},
     "output_type": "execute_result"
    }
   ],
   "source": [
    "noise_sample = nd.load('noise')[0]\n",
    "noise_sample.shape"
   ]
  },
  {
   "cell_type": "code",
   "execution_count": null,
   "metadata": {},
   "outputs": [],
   "source": []
  },
  {
   "cell_type": "code",
   "execution_count": 5,
   "metadata": {},
   "outputs": [
    {
     "data": {
      "text/plain": [
       "[<matplotlib.lines.Line2D at 0x15d387550>]"
      ]
     },
     "execution_count": 5,
     "metadata": {},
     "output_type": "execute_result"
    },
    {
     "data": {
      "image/png": "[encoded data removed]",
      "text/plain": [
       "<matplotlib.figure.Figure at 0x128c5cfd0>"
      ]
     },
     "metadata": {},
     "output_type": "display_data"
    }
   ],
   "source": [
    "plt.plot(noise_sample.asnumpy()[0])\n",
    "plt.plot(GW_data.iloc[2])"
   ]
  },
  {
   "cell_type": "code",
   "execution_count": 52,
   "metadata": {},
   "outputs": [
    {
     "name": "stdout",
     "output_type": "stream",
     "text": [
      "CPU times: user 2.03 s, sys: 1.3 s, total: 3.33 s\n",
      "Wall time: 4.53 s\n"
     ]
    }
   ],
   "source": [
    "%%time\n",
    "_ = nd.array(GW_data, ctx = mx.cpu())"
   ]
  },
  {
   "cell_type": "code",
   "execution_count": 85,
   "metadata": {},
   "outputs": [
    {
     "name": "stdout",
     "output_type": "stream",
     "text": [
      "(1000, 8192)\n",
      "(1000, 8192)\n"
     ]
    }
   ],
   "source": [
    "signal = GW_data.iloc[:1000]\n",
    "noise = noise_sample.asnumpy()[:1000,:]\n",
    "data = noise + signal\n",
    "\n",
    "print(noise.shape)\n",
    "print(signal.shape)"
   ]
  },
  {
   "cell_type": "code",
   "execution_count": 89,
   "metadata": {},
   "outputs": [
    {
     "name": "stdout",
     "output_type": "stream",
     "text": [
      "CPU times: user 3.76 s, sys: 826 ms, total: 4.58 s\n",
      "Wall time: 6.25 s\n"
     ]
    },
    {
     "data": {
      "text/plain": [
       "array([  30.9292102 ,   69.94860303,   71.96676857,   81.95819437,\n",
       "         87.80996857,   92.57051514,   94.43959868,   93.34676636,\n",
       "         99.2132796 ,  103.97872588])"
      ]
     },
     "execution_count": 89,
     "metadata": {},
     "output_type": "execute_result"
    }
   ],
   "source": [
    "%%time \n",
    "\n",
    "SNR_MF(data, noise, signal)[:10]"
   ]
  },
  {
   "cell_type": "code",
   "execution_count": 88,
   "metadata": {},
   "outputs": [
    {
     "name": "stdout",
     "output_type": "stream",
     "text": [
      "CPU times: user 2.52 s, sys: 650 ms, total: 3.17 s\n",
      "Wall time: 3.34 s\n"
     ]
    },
    {
     "data": {
      "text/plain": [
       "array([  42.26856786,   88.92321007,  102.19790478,  113.11402748,\n",
       "        123.51031578,  129.86668631,  132.40637201,  140.78104728,\n",
       "        146.00886059,  147.49742371])"
      ]
     },
     "execution_count": 88,
     "metadata": {},
     "output_type": "execute_result"
    }
   ],
   "source": [
    "%%time \n",
    "\n",
    "SNR_MF(data, noise, signal, own_noise=0)[:10]"
   ]
  },
  {
   "cell_type": "code",
   "execution_count": 94,
   "metadata": {},
   "outputs": [
    {
     "data": {
      "text/plain": [
       "array([  2.98215793e-82,   2.98215793e-82,   2.98215793e-82, ...,\n",
       "         2.98215793e-82,   2.98215793e-82,   2.98215793e-82])"
      ]
     },
     "execution_count": 94,
     "metadata": {},
     "output_type": "execute_result"
    }
   ],
   "source": [
    "noise_psd(noise_sample.asnumpy()[:1,:], fs, 20)"
   ]
  },
  {
   "cell_type": "code",
   "execution_count": 96,
   "metadata": {},
   "outputs": [
    {
     "data": {
      "text/plain": [
       "array([  3.64606934e-46,   3.64606934e-46,   3.64606934e-46, ...,\n",
       "         3.64606934e-46,   3.64606934e-46,   3.64606934e-46])"
      ]
     },
     "execution_count": 96,
     "metadata": {},
     "output_type": "execute_result"
    }
   ],
   "source": [
    "noise_psd_zero(ZERO_DET, 8192,fs = 8192,low_pass = 20)"
   ]
  },
  {
   "cell_type": "code",
   "execution_count": 98,
   "metadata": {},
   "outputs": [],
   "source": [
    "_, xf, yf = oneSidedPeriodogram(noise_sample.asnumpy()[:1,:], fs = 8192)"
   ]
  },
  {
   "cell_type": "code",
   "execution_count": 107,
   "metadata": {},
   "outputs": [
    {
     "data": {
      "text/plain": [
       "array([ 0.])"
      ]
     },
     "execution_count": 107,
     "metadata": {},
     "output_type": "execute_result"
    }
   ],
   "source": [
    "np.array(yf[:,xf>=0][:,3000], dtype='float64')"
   ]
  },
  {
   "cell_type": "code",
   "execution_count": 13,
   "metadata": {},
   "outputs": [
    {
     "data": {
      "text/plain": [
       "array([  9.56507761,  11.83193968,  14.45292121,  13.90731289,\n",
       "        17.8875252 ,  19.38513554,  21.72791017,  20.76157738,\n",
       "        19.11135308,  18.76339307])"
      ]
     },
     "execution_count": 13,
     "metadata": {},
     "output_type": "execute_result"
    }
   ],
   "source": [
    "SNR = 1\n",
    "# noise = noise_sample.asnumpy()[-10:,:]\n",
    "noise = noise1.values[-10:,:]\n",
    "sigma = GW_data.tail(10).max(axis=1) / float(SNR) / noise.std(axis=1)\n",
    "\n",
    "signal = GW_data.tail(10).div(sigma, axis=0)\n",
    "data = signal + noise\n",
    "SNR_mf = SNR_MF(data=data, \n",
    "                noise_sample=noise, \n",
    "                signal=signal,own_noise=1 , fs=8192, low_pass=20)\n",
    "SNR_mf"
   ]
  },
  {
   "cell_type": "code",
   "execution_count": 130,
   "metadata": {},
   "outputs": [
    {
     "data": {
      "text/plain": [
       "array([ 17.62434842,  39.76484647,  40.41199253,  46.43094353,\n",
       "        49.74178215,  52.30701752,  51.36844489,  52.92582741,\n",
       "        56.6971194 ,  58.56266822])"
      ]
     },
     "execution_count": 130,
     "metadata": {},
     "output_type": "execute_result"
    }
   ],
   "source": []
  },
  {
   "cell_type": "code",
   "execution_count": 9,
   "metadata": {},
   "outputs": [
    {
     "name": "stdout",
     "output_type": "stream",
     "text": [
      "The shape of the noise1:  (1000, 8192)\n"
     ]
    }
   ],
   "source": [
    "noise1 = pd.read_csv('../Noise_data1/LigoNose9_9000_8192_1.csv', index_col=0, nrows = 1000)\n",
    "print('The shape of the noise1: ', noise1.shape)"
   ]
  },
  {
   "cell_type": "code",
   "execution_count": 28,
   "metadata": {},
   "outputs": [
    {
     "data": {
      "text/plain": [
       "array([[ -1.85141596e-28,   5.72858916e-27,   1.00464327e-26, ...,\n",
       "         -1.07145223e-23,  -1.23299967e-23,   3.16109331e-24],\n",
       "       [  5.22865255e-27,   5.39339187e-27,  -1.34459912e-26, ...,\n",
       "          3.40212754e-24,  -2.25320165e-24,   1.10121462e-23],\n",
       "       [  7.86119412e-27,   1.17627133e-27,  -3.60243856e-27, ...,\n",
       "         -1.14593819e-24,   1.23452317e-23,  -1.56199235e-23],\n",
       "       ..., \n",
       "       [  1.37867440e-26,   2.18351145e-27,   5.50107087e-27, ...,\n",
       "          4.31735217e-24,  -7.18696311e-24,   1.38027359e-24],\n",
       "       [ -5.60787990e-27,  -5.87118282e-27,  -7.95282151e-27, ...,\n",
       "          1.67756926e-24,  -5.95905970e-24,   1.35960249e-23],\n",
       "       [  5.54602931e-27,   1.27125521e-26,   5.57078671e-27, ...,\n",
       "         -2.05593469e-24,  -1.59259309e-24,   3.61589521e-24]])"
      ]
     },
     "execution_count": 28,
     "metadata": {},
     "output_type": "execute_result"
    }
   ],
   "source": [
    "noise1.values"
   ]
  },
  {
   "cell_type": "code",
   "execution_count": 49,
   "metadata": {},
   "outputs": [
    {
     "data": {
      "text/plain": [
       "(8192,)"
      ]
     },
     "execution_count": 49,
     "metadata": {},
     "output_type": "execute_result"
    }
   ],
   "source": [
    "scipy.signal.get_window(('tukey',1./8),8192).shape"
   ]
  },
  {
   "cell_type": "code",
   "execution_count": null,
   "metadata": {},
   "outputs": [],
   "source": []
  },
  {
   "cell_type": "code",
   "execution_count": null,
   "metadata": {},
   "outputs": [],
   "source": []
  },
  {
   "cell_type": "code",
   "execution_count": 151,
   "metadata": {},
   "outputs": [],
   "source": [
    "mf_list1 = []\n",
    "mf_list2 = []\n",
    "\n",
    "for l in range(1, 11):\n",
    "    alpha = l\n",
    "    signal = GW_data.iloc[:1]#np.random.randn(1,8192)\n",
    "    noise = noise_sample[:1] #signal.std(axis=1)[0]*np.random.randn(1,8192)\n",
    "    data = noise + signal/alpha\n",
    "    mf= SNR_MF(data, noise, signal/alpha)\n",
    "    mf_list1.append(SNR_MF(data, noise, signal/alpha)[0])\n",
    "\n",
    "    alpha = mf[0] \n",
    "    signal = GW_data.iloc[:1]#np.random.randn(1,8192)\n",
    "    noise = noise_sample[:1] #signal.std(axis=1)[0]*np.random.randn(1,8192)\n",
    "\n",
    "    data = noise + signal/alpha\n",
    "    mf_list2.append(SNR_MF(data, noise, signal/alpha)[0])\n",
    "    "
   ]
  },
  {
   "cell_type": "code",
   "execution_count": 152,
   "metadata": {},
   "outputs": [
    {
     "data": {
      "text/plain": [
       "[<matplotlib.lines.Line2D at 0x1254cc710>]"
      ]
     },
     "execution_count": 152,
     "metadata": {},
     "output_type": "execute_result"
    },
    {
     "data": {
      "image/png": "[encoded data removed]",
      "text/plain": [
       "<matplotlib.figure.Figure at 0x15a700d30>"
      ]
     },
     "metadata": {},
     "output_type": "display_data"
    }
   ],
   "source": [
    "plt.plot(range(1,11), mf_list2)"
   ]
  },
  {
   "cell_type": "code",
   "execution_count": 153,
   "metadata": {},
   "outputs": [
    {
     "data": {
      "text/plain": [
       "[<matplotlib.lines.Line2D at 0x15ae770f0>]"
      ]
     },
     "execution_count": 153,
     "metadata": {},
     "output_type": "execute_result"
    },
    {
     "data": {
      "image/png": "[encoded data removed]",
      "text/plain": [
       "<matplotlib.figure.Figure at 0x12453ae80>"
      ]
     },
     "metadata": {},
     "output_type": "display_data"
    }
   ],
   "source": [
    "plt.plot(range(1,11), mf_list2)"
   ]
  },
  {
   "cell_type": "code",
   "execution_count": 142,
   "metadata": {},
   "outputs": [
    {
     "data": {
      "text/plain": [
       "[5.1637345691276879,\n",
       " 5.1635390932336271,\n",
       " 5.1635026929709289,\n",
       " 5.163489927252666,\n",
       " 5.1634840122830035,\n",
       " 5.1634807970946017,\n",
       " 5.1634788575633994,\n",
       " 5.1634775983197905,\n",
       " 5.1634767347708488,\n",
       " 5.1634761169579475]"
      ]
     },
     "execution_count": 142,
     "metadata": {},
     "output_type": "execute_result"
    }
   ],
   "source": [
    "mf_list"
   ]
  },
  {
   "cell_type": "code",
   "execution_count": 114,
   "metadata": {},
   "outputs": [
    {
     "data": {
      "text/plain": [
       "5.1637834617908291"
      ]
     },
     "execution_count": 114,
     "metadata": {},
     "output_type": "execute_result"
    }
   ],
   "source": [
    "signal = GW_data.iloc[:1]/mf[0]**2#np.random.randn(1,8192)\n",
    "noise = noise_sample[:1] #signal.std(axis=1)[0]*np.random.randn(1,8192)\n",
    "\n",
    "data = noise + signal\n",
    "mf= SNR_MF(data, noise, signal)\n",
    "mf[0]"
   ]
  },
  {
   "cell_type": "code",
   "execution_count": 75,
   "metadata": {},
   "outputs": [],
   "source": [
    "# signal = GW_data.sample(1)#np.random.randn(1,8192)\n",
    "signal = GW_data.iloc[:1]#np.random.randn(1,8192)\n",
    "noise = signal.std(axis=1)[0]*np.random.randn(1,8192)#noise_sample[:1]\n",
    "\n",
    "SNR_MF_list = []\n",
    "SNR_MF_list2 = []\n",
    "b_list = []\n",
    "corr_list = []\n",
    "for b in range(1, 11):\n",
    "#         b = np.sqrt(b* signal.max(axis=1)[0] / noise.std())\n",
    "    data = noise + signal/b\n",
    "    signal /= b\n",
    "    mf= SNR_MF(data, noise, signal)\n",
    "    SNR_MF_list.append(mf[0])\n",
    "    b_list.append(1/b)\n",
    "    corr_list.append(np.corrcoef(signal, noise)[0][1])"
   ]
  },
  {
   "cell_type": "code",
   "execution_count": 76,
   "metadata": {},
   "outputs": [
    {
     "data": {
      "text/plain": [
       "[83.147121200825765,\n",
       " 41.553735806547756,\n",
       " 13.824812210362404,\n",
       " 4.9131075080811444,\n",
       " 4.9128111967329984,\n",
       " 4.912749465202138,\n",
       " 4.9127388826539891,\n",
       " 4.9127373393657168,\n",
       " 4.9127371433926035,\n",
       " 4.9127371213456286]"
      ]
     },
     "execution_count": 76,
     "metadata": {},
     "output_type": "execute_result"
    }
   ],
   "source": [
    "SNR_MF_list"
   ]
  },
  {
   "cell_type": "code",
   "execution_count": null,
   "metadata": {},
   "outputs": [],
   "source": []
  },
  {
   "cell_type": "code",
   "execution_count": null,
   "metadata": {},
   "outputs": [],
   "source": []
  },
  {
   "cell_type": "code",
   "execution_count": 16,
   "metadata": {},
   "outputs": [
    {
     "data": {
      "text/plain": [
       "\n",
       "[[ 0.32977498  0.43025011  0.70026755  0.77781075  0.29912937  0.39169419\n",
       "   0.85030746  0.72038603  0.11062211  0.01445556]\n",
       " [ 0.62574261  0.54391116  0.52563101  0.94359356  0.26070136  0.97510064\n",
       "   0.90819627  0.84426492  0.45200205  0.42338121]]\n",
       "<NDArray 2x10 @gpu(0)>"
      ]
     },
     "execution_count": 16,
     "metadata": {},
     "output_type": "execute_result"
    }
   ],
   "source": [
    "dd = nd.random_uniform(shape=(2,10),ctx = mx.gpu(0))\n",
    "dd"
   ]
  },
  {
   "cell_type": "code",
   "execution_count": 17,
   "metadata": {},
   "outputs": [],
   "source": [
    "# data = np.random.normal(0,1,(3,4))\n",
    "out = mx.contrib.ndarray.fft(dd)"
   ]
  },
  {
   "cell_type": "code",
   "execution_count": 45,
   "metadata": {},
   "outputs": [
    {
     "data": {
      "text/plain": [
       "True"
      ]
     },
     "execution_count": 45,
     "metadata": {},
     "output_type": "execute_result"
    }
   ],
   "source": [
    "ss = out.asnumpy()[:,::2] + out.asnumpy()[:,1::2]*1j \n"
   ]
  },
  {
   "cell_type": "code",
   "execution_count": 43,
   "metadata": {},
   "outputs": [
    {
     "data": {
      "text/plain": [
       "array([ 4.62469816+0.j        , -0.84444833-0.53582382j,\n",
       "       -0.65400386-1.23247707j,  0.71189785+0.50909579j,\n",
       "        0.14532778-0.06220025j, -0.04449511+0.j        ,\n",
       "        0.14532778+0.06220025j,  0.71189785-0.50909579j,\n",
       "       -0.65400386+1.23247707j, -0.84444833+0.53582382j], dtype=complex64)"
      ]
     },
     "execution_count": 43,
     "metadata": {},
     "output_type": "execute_result"
    }
   ],
   "source": []
  },
  {
   "cell_type": "code",
   "execution_count": 44,
   "metadata": {},
   "outputs": [
    {
     "data": {
      "text/plain": [
       "array([ 4.62469810 +0.00000000e+00j, -0.84444828 -5.35823849e-01j,\n",
       "       -0.65400389 -1.23247713e+00j,  0.71189783 +5.09095707e-01j,\n",
       "        0.14532774 -6.22002775e-02j, -0.04449517 +3.88578059e-16j,\n",
       "        0.14532774 +6.22002775e-02j,  0.71189783 -5.09095707e-01j,\n",
       "       -0.65400389 +1.23247713e+00j, -0.84444828 +5.35823849e-01j])"
      ]
     },
     "execution_count": 44,
     "metadata": {},
     "output_type": "execute_result"
    }
   ],
   "source": [
    "tt = np.fft.fft(dd.asnumpy())\n",
    "tt[0]"
   ]
  },
  {
   "cell_type": "code",
   "execution_count": null,
   "metadata": {},
   "outputs": [],
   "source": []
  },
  {
   "cell_type": "code",
   "execution_count": 19,
   "metadata": {},
   "outputs": [
    {
     "name": "stdout",
     "output_type": "stream",
     "text": [
      "GW_test_full.csv\t\t      GW_train_full.csv\n",
      "GW_test_m112_m267.19999999999999.csv  GW_train_m111_m271.5.csv\n",
      "GW_test_m130_m272.0.csv\t\t      GW_train_m129_m272.5.csv\n"
     ]
    }
   ],
   "source": [
    "!ls ../input/gw_colored8192"
   ]
  },
  {
   "cell_type": "code",
   "execution_count": null,
   "metadata": {},
   "outputs": [],
   "source": [
    "data_GW_train = pd.read_csv('../input/gw_colored8192/GW_train_full.csv', index_col=0)\n",
    "print('The shape of data_GW_train: ' , data_GW_train.shape)\n",
    "\n",
    "noise1 = pd.read_csv('../input/noise1/LigoNose9_9000_8192_1.csv', index_col=0)\n",
    "print('The shape of the noise1: ', noise1.shape)\n",
    "\n",
    "noise_train = pd.read_csv('../input/noise2/LigoNose9_9000_8192_3.csv', index_col=0)\n",
    "print('The shape of the noise_train: ', noise_train.shape)"
   ]
  }
 ],
 "metadata": {
  "kernelspec": {
   "display_name": "Python 3",
   "language": "python",
   "name": "python3"
  },
  "language_info": {
   "codemirror_mode": {
    "name": "ipython",
    "version": 3
   },
   "file_extension": ".py",
   "mimetype": "text/x-python",
   "name": "python",
   "nbconvert_exporter": "python",
   "pygments_lexer": "ipython3",
   "version": "3.6.5"
  }
 },
 "nbformat": 4,
 "nbformat_minor": 2
}
